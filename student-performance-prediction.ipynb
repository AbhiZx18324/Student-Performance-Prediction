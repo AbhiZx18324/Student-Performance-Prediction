{
 "cells": [
  {
   "cell_type": "code",
   "execution_count": 1,
   "id": "1cd3ffcb",
   "metadata": {
    "_cell_guid": "b1076dfc-b9ad-4769-8c92-a6c4dae69d19",
    "_uuid": "8f2839f25d086af736a60e9eeb907d3b93b6e0e5",
    "execution": {
     "iopub.execute_input": "2024-03-17T07:15:25.564232Z",
     "iopub.status.busy": "2024-03-17T07:15:25.563560Z",
     "iopub.status.idle": "2024-03-17T07:15:28.240759Z",
     "shell.execute_reply": "2024-03-17T07:15:28.238894Z"
    },
    "papermill": {
     "duration": 2.705529,
     "end_time": "2024-03-17T07:15:28.243475",
     "exception": false,
     "start_time": "2024-03-17T07:15:25.537946",
     "status": "completed"
    },
    "tags": []
   },
   "outputs": [
    {
     "name": "stdout",
     "output_type": "stream",
     "text": [
      "/kaggle/input/student-performance-uci-dataset/.student.zip_old\n",
      "/kaggle/input/student-performance-uci-dataset/student/student-mat.csv\n",
      "/kaggle/input/student-performance-uci-dataset/student/student-merge.R\n",
      "/kaggle/input/student-performance-uci-dataset/student/student-por.csv\n",
      "/kaggle/input/student-performance-uci-dataset/student/student.txt\n"
     ]
    }
   ],
   "source": [
    "import warnings\n",
    "warnings.filterwarnings(\"ignore\", category = FutureWarning)\n",
    "\n",
    "import numpy as np # linear algebra\n",
    "import pandas as pd # data processing, CSV file I/O (e.g. pd.read_csv)\n",
    "import matplotlib.pyplot as plt\n",
    "import plotly.express as px\n",
    "import plotly.graph_objects as go\n",
    "import seaborn as sns\n",
    "\n",
    "\n",
    "import os\n",
    "for dirname, _, filenames in os.walk('/kaggle/input'):\n",
    "    for filename in filenames:\n",
    "        print(os.path.join(dirname, filename))"
   ]
  },
  {
   "cell_type": "markdown",
   "id": "98713b60",
   "metadata": {
    "papermill": {
     "duration": 0.023373,
     "end_time": "2024-03-17T07:15:28.290761",
     "exception": false,
     "start_time": "2024-03-17T07:15:28.267388",
     "status": "completed"
    },
    "tags": []
   },
   "source": [
    "## Details of Dataset used:\n",
    "\n",
    "Author(s): P. Cortez, A. Silva<br>\n",
    "Title: Using Data Mining to Predict Secondary School Student Performance<br>\n",
    "Year: 2008<br>\n",
    "Source: Available on the UCI Machine Learning Repository<br>\n",
    "URL: https://archive.ics.uci.edu/ml/datasets/Student+Performance<br>\n",
    "\n",
    "### Additional Information\n",
    "\n",
    "This data approach student achievement in secondary education of two Portuguese schools. The data attributes include student grades, demographic, social and school related features) and it was collected by using school reports and questionnaires. In [Cortez and Silva, 2008], the dataset was modeled under binary/five-level classification and regression tasks. Important note: the target attribute G3 has a strong correlation with attributes G2 and G1. This occurs because G3 is the final year grade (issued at the 3rd period), while G1 and G2 correspond to the 1st and 2nd period grades.\n",
    "\n",
    "## Dataset Description:\n",
    "\n",
    "#### Attributes for both student-por.csv (Portuguese course):\n",
    "1. school - student's school (binary: 'GP' - Gabriel Pereira or 'MS' - Mousinho da Silveira)\n",
    "2. sex - student's sex (binary: 'F' - female or 'M' - male)\n",
    "3. age - student's age (numeric: from 15 to 22)\n",
    "4. address - student's home address type (binary: 'U' - urban or 'R' - rural)\n",
    "5. famsize - family size (binary: 'LE3' - less or equal to 3 or 'GT3' - greater than 3)\n",
    "6. Pstatus - parent's cohabitation status (binary: 'T' - living together or 'A' - apart)\n",
    "7. Medu - mother's education (numeric: 0 - none,  1 - primary education (4th grade), 2 - “ 5th to 9th grade, 3 - “ secondary education or 4 - “ higher education)\n",
    "8. Fedu - father's education (numeric: 0 - none,  1 - primary education (4th grade), 2 - “ 5th to 9th grade, 3 - “ secondary education or 4 - “ higher education)\n",
    "9. Mjob - mother's job (nominal: 'teacher', 'health' care related, civil 'services' (e.g. administrative or police), 'at_home' or 'other')\n",
    "10. Fjob - father's job (nominal: 'teacher', 'health' care related, civil 'services' (e.g. administrative or police), 'at_home' or 'other')\n",
    "11. reason - reason to choose this school (nominal: close to 'home', school 'reputation', 'course' preference or 'other')\n",
    "12. guardian - student's guardian (nominal: 'mother', 'father' or 'other')\n",
    "13. traveltime - home to school travel time (numeric: 1 - <15 min., 2 - 15 to 30 min., 3 - 30 min. to 1 hour, or 4 - >1 hour)\n",
    "14. studytime - weekly study time (numeric: 1 - <2 hours, 2 - 2 to 5 hours, 3 - 5 to 10 hours, or 4 - >10 hours)\n",
    "15. failures - number of past class failures (numeric: n if 1<=n<3, else 4)\n",
    "16. schoolsup - extra educational support (binary: yes or no)\n",
    "17. famsup - family educational support (binary: yes or no)\n",
    "18. paid - extra paid classes within the course subject (Math or Portuguese) (binary: yes or no)\n",
    "19. activities - extra-curricular activities (binary: yes or no)\n",
    "20. nursery - attended nursery school (binary: yes or no)\n",
    "21. higher - wants to take higher education (binary: yes or no)\n",
    "22. internet - Internet access at home (binary: yes or no)\n",
    "23. romantic - with a romantic relationship (binary: yes or no)\n",
    "24. famrel - quality of family relationships (numeric: from 1 - very bad to 5 - excellent)\n",
    "25. freetime - free time after school (numeric: from 1 - very low to 5 - very high)\n",
    "26. goout - going out with friends (numeric: from 1 - very low to 5 - very high)\n",
    "27. Dalc - workday alcohol consumption (numeric: from 1 - very low to 5 - very high)\n",
    "28. Walc - weekend alcohol consumption (numeric: from 1 - very low to 5 - very high)\n",
    "29. health - current health status (numeric: from 1 - very bad to 5 - very good)\n",
    "30. absences - number of school absences (numeric: from 0 to 93)\n",
    "\n",
    "#### These grades are related with the course subject, Portuguese:\n",
    "31. G1 - first period grade (numeric: from 0 to 20)\n",
    "31. G2 - second period grade (numeric: from 0 to 20)\n",
    "32. G3 - final grade (numeric: from 0 to 20, output target for regression)"
   ]
  },
  {
   "cell_type": "markdown",
   "id": "fc2cc606",
   "metadata": {
    "papermill": {
     "duration": 0.022906,
     "end_time": "2024-03-17T07:15:28.336190",
     "exception": false,
     "start_time": "2024-03-17T07:15:28.313284",
     "status": "completed"
    },
    "tags": []
   },
   "source": [
    "# Objective:\n",
    "## To predict the final exam score (G3) of students based on given features"
   ]
  },
  {
   "cell_type": "markdown",
   "id": "aa6d3cb1",
   "metadata": {
    "papermill": {
     "duration": 0.022246,
     "end_time": "2024-03-17T07:15:28.381846",
     "exception": false,
     "start_time": "2024-03-17T07:15:28.359600",
     "status": "completed"
    },
    "tags": []
   },
   "source": [
    "## Importing dataset:"
   ]
  },
  {
   "cell_type": "code",
   "execution_count": 2,
   "id": "c3e41a99",
   "metadata": {
    "execution": {
     "iopub.execute_input": "2024-03-17T07:15:28.429113Z",
     "iopub.status.busy": "2024-03-17T07:15:28.428593Z",
     "iopub.status.idle": "2024-03-17T07:15:28.454011Z",
     "shell.execute_reply": "2024-03-17T07:15:28.452903Z"
    },
    "papermill": {
     "duration": 0.052409,
     "end_time": "2024-03-17T07:15:28.456531",
     "exception": false,
     "start_time": "2024-03-17T07:15:28.404122",
     "status": "completed"
    },
    "tags": []
   },
   "outputs": [],
   "source": [
    "df_por = pd.read_csv(\"../input/student-performance-uci-dataset/student/student-por.csv\", delimiter = \";\")"
   ]
  },
  {
   "cell_type": "markdown",
   "id": "01addff1",
   "metadata": {
    "papermill": {
     "duration": 0.023632,
     "end_time": "2024-03-17T07:15:28.503563",
     "exception": false,
     "start_time": "2024-03-17T07:15:28.479931",
     "status": "completed"
    },
    "tags": []
   },
   "source": [
    "# <center> Exploratory Data Analysis\n",
    "\n",
    "![IMAGE](https://drive.google.com/uc?export=download&id=1cae8BoDTTLHCaHZPi46pUL0DtDz4sLQm\n",
    ")"
   ]
  },
  {
   "cell_type": "code",
   "execution_count": 3,
   "id": "3fde12d4",
   "metadata": {
    "execution": {
     "iopub.execute_input": "2024-03-17T07:15:28.550418Z",
     "iopub.status.busy": "2024-03-17T07:15:28.549498Z",
     "iopub.status.idle": "2024-03-17T07:15:28.577582Z",
     "shell.execute_reply": "2024-03-17T07:15:28.576784Z"
    },
    "papermill": {
     "duration": 0.053574,
     "end_time": "2024-03-17T07:15:28.579536",
     "exception": false,
     "start_time": "2024-03-17T07:15:28.525962",
     "status": "completed"
    },
    "tags": []
   },
   "outputs": [
    {
     "data": {
      "text/html": [
       "<div>\n",
       "<style scoped>\n",
       "    .dataframe tbody tr th:only-of-type {\n",
       "        vertical-align: middle;\n",
       "    }\n",
       "\n",
       "    .dataframe tbody tr th {\n",
       "        vertical-align: top;\n",
       "    }\n",
       "\n",
       "    .dataframe thead th {\n",
       "        text-align: right;\n",
       "    }\n",
       "</style>\n",
       "<table border=\"1\" class=\"dataframe\">\n",
       "  <thead>\n",
       "    <tr style=\"text-align: right;\">\n",
       "      <th></th>\n",
       "      <th>school</th>\n",
       "      <th>sex</th>\n",
       "      <th>age</th>\n",
       "      <th>address</th>\n",
       "      <th>famsize</th>\n",
       "      <th>Pstatus</th>\n",
       "      <th>Medu</th>\n",
       "      <th>Fedu</th>\n",
       "      <th>Mjob</th>\n",
       "      <th>Fjob</th>\n",
       "      <th>...</th>\n",
       "      <th>famrel</th>\n",
       "      <th>freetime</th>\n",
       "      <th>goout</th>\n",
       "      <th>Dalc</th>\n",
       "      <th>Walc</th>\n",
       "      <th>health</th>\n",
       "      <th>absences</th>\n",
       "      <th>G1</th>\n",
       "      <th>G2</th>\n",
       "      <th>G3</th>\n",
       "    </tr>\n",
       "  </thead>\n",
       "  <tbody>\n",
       "    <tr>\n",
       "      <th>0</th>\n",
       "      <td>GP</td>\n",
       "      <td>F</td>\n",
       "      <td>18</td>\n",
       "      <td>U</td>\n",
       "      <td>GT3</td>\n",
       "      <td>A</td>\n",
       "      <td>4</td>\n",
       "      <td>4</td>\n",
       "      <td>at_home</td>\n",
       "      <td>teacher</td>\n",
       "      <td>...</td>\n",
       "      <td>4</td>\n",
       "      <td>3</td>\n",
       "      <td>4</td>\n",
       "      <td>1</td>\n",
       "      <td>1</td>\n",
       "      <td>3</td>\n",
       "      <td>4</td>\n",
       "      <td>0</td>\n",
       "      <td>11</td>\n",
       "      <td>11</td>\n",
       "    </tr>\n",
       "    <tr>\n",
       "      <th>1</th>\n",
       "      <td>GP</td>\n",
       "      <td>F</td>\n",
       "      <td>17</td>\n",
       "      <td>U</td>\n",
       "      <td>GT3</td>\n",
       "      <td>T</td>\n",
       "      <td>1</td>\n",
       "      <td>1</td>\n",
       "      <td>at_home</td>\n",
       "      <td>other</td>\n",
       "      <td>...</td>\n",
       "      <td>5</td>\n",
       "      <td>3</td>\n",
       "      <td>3</td>\n",
       "      <td>1</td>\n",
       "      <td>1</td>\n",
       "      <td>3</td>\n",
       "      <td>2</td>\n",
       "      <td>9</td>\n",
       "      <td>11</td>\n",
       "      <td>11</td>\n",
       "    </tr>\n",
       "    <tr>\n",
       "      <th>2</th>\n",
       "      <td>GP</td>\n",
       "      <td>F</td>\n",
       "      <td>15</td>\n",
       "      <td>U</td>\n",
       "      <td>LE3</td>\n",
       "      <td>T</td>\n",
       "      <td>1</td>\n",
       "      <td>1</td>\n",
       "      <td>at_home</td>\n",
       "      <td>other</td>\n",
       "      <td>...</td>\n",
       "      <td>4</td>\n",
       "      <td>3</td>\n",
       "      <td>2</td>\n",
       "      <td>2</td>\n",
       "      <td>3</td>\n",
       "      <td>3</td>\n",
       "      <td>6</td>\n",
       "      <td>12</td>\n",
       "      <td>13</td>\n",
       "      <td>12</td>\n",
       "    </tr>\n",
       "    <tr>\n",
       "      <th>3</th>\n",
       "      <td>GP</td>\n",
       "      <td>F</td>\n",
       "      <td>15</td>\n",
       "      <td>U</td>\n",
       "      <td>GT3</td>\n",
       "      <td>T</td>\n",
       "      <td>4</td>\n",
       "      <td>2</td>\n",
       "      <td>health</td>\n",
       "      <td>services</td>\n",
       "      <td>...</td>\n",
       "      <td>3</td>\n",
       "      <td>2</td>\n",
       "      <td>2</td>\n",
       "      <td>1</td>\n",
       "      <td>1</td>\n",
       "      <td>5</td>\n",
       "      <td>0</td>\n",
       "      <td>14</td>\n",
       "      <td>14</td>\n",
       "      <td>14</td>\n",
       "    </tr>\n",
       "    <tr>\n",
       "      <th>4</th>\n",
       "      <td>GP</td>\n",
       "      <td>F</td>\n",
       "      <td>16</td>\n",
       "      <td>U</td>\n",
       "      <td>GT3</td>\n",
       "      <td>T</td>\n",
       "      <td>3</td>\n",
       "      <td>3</td>\n",
       "      <td>other</td>\n",
       "      <td>other</td>\n",
       "      <td>...</td>\n",
       "      <td>4</td>\n",
       "      <td>3</td>\n",
       "      <td>2</td>\n",
       "      <td>1</td>\n",
       "      <td>2</td>\n",
       "      <td>5</td>\n",
       "      <td>0</td>\n",
       "      <td>11</td>\n",
       "      <td>13</td>\n",
       "      <td>13</td>\n",
       "    </tr>\n",
       "  </tbody>\n",
       "</table>\n",
       "<p>5 rows × 33 columns</p>\n",
       "</div>"
      ],
      "text/plain": [
       "  school sex  age address famsize Pstatus  Medu  Fedu     Mjob      Fjob  ...  \\\n",
       "0     GP   F   18       U     GT3       A     4     4  at_home   teacher  ...   \n",
       "1     GP   F   17       U     GT3       T     1     1  at_home     other  ...   \n",
       "2     GP   F   15       U     LE3       T     1     1  at_home     other  ...   \n",
       "3     GP   F   15       U     GT3       T     4     2   health  services  ...   \n",
       "4     GP   F   16       U     GT3       T     3     3    other     other  ...   \n",
       "\n",
       "  famrel freetime  goout  Dalc  Walc health absences  G1  G2  G3  \n",
       "0      4        3      4     1     1      3        4   0  11  11  \n",
       "1      5        3      3     1     1      3        2   9  11  11  \n",
       "2      4        3      2     2     3      3        6  12  13  12  \n",
       "3      3        2      2     1     1      5        0  14  14  14  \n",
       "4      4        3      2     1     2      5        0  11  13  13  \n",
       "\n",
       "[5 rows x 33 columns]"
      ]
     },
     "metadata": {},
     "output_type": "display_data"
    }
   ],
   "source": [
    "display(df_por.head())"
   ]
  },
  {
   "cell_type": "markdown",
   "id": "bd975c8e",
   "metadata": {
    "papermill": {
     "duration": 0.022682,
     "end_time": "2024-03-17T07:15:28.625039",
     "exception": false,
     "start_time": "2024-03-17T07:15:28.602357",
     "status": "completed"
    },
    "tags": []
   },
   "source": [
    "### First, we explore 'student-por.csv'"
   ]
  },
  {
   "cell_type": "code",
   "execution_count": 4,
   "id": "9b24d4df",
   "metadata": {
    "execution": {
     "iopub.execute_input": "2024-03-17T07:15:28.673087Z",
     "iopub.status.busy": "2024-03-17T07:15:28.672040Z",
     "iopub.status.idle": "2024-03-17T07:15:28.696699Z",
     "shell.execute_reply": "2024-03-17T07:15:28.695344Z"
    },
    "papermill": {
     "duration": 0.051086,
     "end_time": "2024-03-17T07:15:28.698815",
     "exception": false,
     "start_time": "2024-03-17T07:15:28.647729",
     "status": "completed"
    },
    "tags": []
   },
   "outputs": [
    {
     "name": "stdout",
     "output_type": "stream",
     "text": [
      "student-por.csv\n",
      "<class 'pandas.core.frame.DataFrame'>\n",
      "RangeIndex: 649 entries, 0 to 648\n",
      "Data columns (total 33 columns):\n",
      " #   Column      Non-Null Count  Dtype \n",
      "---  ------      --------------  ----- \n",
      " 0   school      649 non-null    object\n",
      " 1   sex         649 non-null    object\n",
      " 2   age         649 non-null    int64 \n",
      " 3   address     649 non-null    object\n",
      " 4   famsize     649 non-null    object\n",
      " 5   Pstatus     649 non-null    object\n",
      " 6   Medu        649 non-null    int64 \n",
      " 7   Fedu        649 non-null    int64 \n",
      " 8   Mjob        649 non-null    object\n",
      " 9   Fjob        649 non-null    object\n",
      " 10  reason      649 non-null    object\n",
      " 11  guardian    649 non-null    object\n",
      " 12  traveltime  649 non-null    int64 \n",
      " 13  studytime   649 non-null    int64 \n",
      " 14  failures    649 non-null    int64 \n",
      " 15  schoolsup   649 non-null    object\n",
      " 16  famsup      649 non-null    object\n",
      " 17  paid        649 non-null    object\n",
      " 18  activities  649 non-null    object\n",
      " 19  nursery     649 non-null    object\n",
      " 20  higher      649 non-null    object\n",
      " 21  internet    649 non-null    object\n",
      " 22  romantic    649 non-null    object\n",
      " 23  famrel      649 non-null    int64 \n",
      " 24  freetime    649 non-null    int64 \n",
      " 25  goout       649 non-null    int64 \n",
      " 26  Dalc        649 non-null    int64 \n",
      " 27  Walc        649 non-null    int64 \n",
      " 28  health      649 non-null    int64 \n",
      " 29  absences    649 non-null    int64 \n",
      " 30  G1          649 non-null    int64 \n",
      " 31  G2          649 non-null    int64 \n",
      " 32  G3          649 non-null    int64 \n",
      "dtypes: int64(16), object(17)\n",
      "memory usage: 167.4+ KB\n"
     ]
    },
    {
     "data": {
      "text/plain": [
       "None"
      ]
     },
     "metadata": {},
     "output_type": "display_data"
    }
   ],
   "source": [
    "print(\"student-por.csv\")\n",
    "display(df_por.info())"
   ]
  },
  {
   "cell_type": "markdown",
   "id": "7bb6f21b",
   "metadata": {
    "papermill": {
     "duration": 0.080998,
     "end_time": "2024-03-17T07:15:28.803195",
     "exception": false,
     "start_time": "2024-03-17T07:15:28.722197",
     "status": "completed"
    },
    "tags": []
   },
   "source": [
    "We see a lot of categorical variables like, Medu, Fedu, traveltime etc. are in numeric form. So, we convert them to categorical form."
   ]
  },
  {
   "cell_type": "code",
   "execution_count": 5,
   "id": "0565d549",
   "metadata": {
    "execution": {
     "iopub.execute_input": "2024-03-17T07:15:28.851793Z",
     "iopub.status.busy": "2024-03-17T07:15:28.851154Z",
     "iopub.status.idle": "2024-03-17T07:15:28.896263Z",
     "shell.execute_reply": "2024-03-17T07:15:28.894622Z"
    },
    "papermill": {
     "duration": 0.072102,
     "end_time": "2024-03-17T07:15:28.898576",
     "exception": false,
     "start_time": "2024-03-17T07:15:28.826474",
     "status": "completed"
    },
    "tags": []
   },
   "outputs": [
    {
     "name": "stdout",
     "output_type": "stream",
     "text": [
      "<class 'pandas.core.frame.DataFrame'>\n",
      "RangeIndex: 649 entries, 0 to 648\n",
      "Data columns (total 33 columns):\n",
      " #   Column      Non-Null Count  Dtype   \n",
      "---  ------      --------------  -----   \n",
      " 0   school      649 non-null    category\n",
      " 1   sex         649 non-null    category\n",
      " 2   age         649 non-null    category\n",
      " 3   address     649 non-null    category\n",
      " 4   famsize     649 non-null    category\n",
      " 5   Pstatus     649 non-null    category\n",
      " 6   Medu        649 non-null    category\n",
      " 7   Fedu        649 non-null    category\n",
      " 8   Mjob        649 non-null    category\n",
      " 9   Fjob        649 non-null    category\n",
      " 10  reason      649 non-null    category\n",
      " 11  guardian    649 non-null    category\n",
      " 12  traveltime  649 non-null    category\n",
      " 13  studytime   649 non-null    category\n",
      " 14  failures    649 non-null    category\n",
      " 15  schoolsup   649 non-null    category\n",
      " 16  famsup      649 non-null    category\n",
      " 17  paid        649 non-null    category\n",
      " 18  activities  649 non-null    category\n",
      " 19  nursery     649 non-null    category\n",
      " 20  higher      649 non-null    category\n",
      " 21  internet    649 non-null    category\n",
      " 22  romantic    649 non-null    category\n",
      " 23  famrel      649 non-null    category\n",
      " 24  freetime    649 non-null    category\n",
      " 25  goout       649 non-null    category\n",
      " 26  Dalc        649 non-null    category\n",
      " 27  Walc        649 non-null    category\n",
      " 28  health      649 non-null    category\n",
      " 29  absences    649 non-null    int64   \n",
      " 30  G1          649 non-null    int64   \n",
      " 31  G2          649 non-null    int64   \n",
      " 32  G3          649 non-null    int64   \n",
      "dtypes: category(29), int64(4)\n",
      "memory usage: 43.7 KB\n"
     ]
    }
   ],
   "source": [
    "cat_cols = ['Medu', 'Fedu', 'traveltime', 'studytime', 'famrel', 'freetime', 'goout', 'Dalc', 'Walc', 'health', 'failures', 'age']\n",
    "df_por[cat_cols] = df_por[cat_cols].astype('object')\n",
    "obj2cat = df_por.select_dtypes(include=['object']).columns  #Also converting the object type variables to category as they are inherently categorical\n",
    "df_por[obj2cat] = df_por[obj2cat].astype('category')\n",
    "df_por.info()"
   ]
  },
  {
   "cell_type": "markdown",
   "id": "f0f4f43d",
   "metadata": {
    "papermill": {
     "duration": 0.023645,
     "end_time": "2024-03-17T07:15:28.946343",
     "exception": false,
     "start_time": "2024-03-17T07:15:28.922698",
     "status": "completed"
    },
    "tags": []
   },
   "source": [
    "The `describe` method shows basic statistical characteristics of each numerical feature (`int64` types): number of non-missing values, mean, standard deviation, range, median, 0.25 and 0.75 quartiles."
   ]
  },
  {
   "cell_type": "code",
   "execution_count": 6,
   "id": "fdc2f142",
   "metadata": {
    "execution": {
     "iopub.execute_input": "2024-03-17T07:15:28.995265Z",
     "iopub.status.busy": "2024-03-17T07:15:28.994283Z",
     "iopub.status.idle": "2024-03-17T07:15:29.021237Z",
     "shell.execute_reply": "2024-03-17T07:15:29.019976Z"
    },
    "papermill": {
     "duration": 0.054,
     "end_time": "2024-03-17T07:15:29.023625",
     "exception": false,
     "start_time": "2024-03-17T07:15:28.969625",
     "status": "completed"
    },
    "tags": []
   },
   "outputs": [
    {
     "data": {
      "text/html": [
       "<div>\n",
       "<style scoped>\n",
       "    .dataframe tbody tr th:only-of-type {\n",
       "        vertical-align: middle;\n",
       "    }\n",
       "\n",
       "    .dataframe tbody tr th {\n",
       "        vertical-align: top;\n",
       "    }\n",
       "\n",
       "    .dataframe thead th {\n",
       "        text-align: right;\n",
       "    }\n",
       "</style>\n",
       "<table border=\"1\" class=\"dataframe\">\n",
       "  <thead>\n",
       "    <tr style=\"text-align: right;\">\n",
       "      <th></th>\n",
       "      <th>count</th>\n",
       "      <th>mean</th>\n",
       "      <th>std</th>\n",
       "      <th>min</th>\n",
       "      <th>25%</th>\n",
       "      <th>50%</th>\n",
       "      <th>75%</th>\n",
       "      <th>max</th>\n",
       "    </tr>\n",
       "  </thead>\n",
       "  <tbody>\n",
       "    <tr>\n",
       "      <th>absences</th>\n",
       "      <td>649.0</td>\n",
       "      <td>3.659476</td>\n",
       "      <td>4.640759</td>\n",
       "      <td>0.0</td>\n",
       "      <td>0.0</td>\n",
       "      <td>2.0</td>\n",
       "      <td>6.0</td>\n",
       "      <td>32.0</td>\n",
       "    </tr>\n",
       "    <tr>\n",
       "      <th>G1</th>\n",
       "      <td>649.0</td>\n",
       "      <td>11.399076</td>\n",
       "      <td>2.745265</td>\n",
       "      <td>0.0</td>\n",
       "      <td>10.0</td>\n",
       "      <td>11.0</td>\n",
       "      <td>13.0</td>\n",
       "      <td>19.0</td>\n",
       "    </tr>\n",
       "    <tr>\n",
       "      <th>G2</th>\n",
       "      <td>649.0</td>\n",
       "      <td>11.570108</td>\n",
       "      <td>2.913639</td>\n",
       "      <td>0.0</td>\n",
       "      <td>10.0</td>\n",
       "      <td>11.0</td>\n",
       "      <td>13.0</td>\n",
       "      <td>19.0</td>\n",
       "    </tr>\n",
       "    <tr>\n",
       "      <th>G3</th>\n",
       "      <td>649.0</td>\n",
       "      <td>11.906009</td>\n",
       "      <td>3.230656</td>\n",
       "      <td>0.0</td>\n",
       "      <td>10.0</td>\n",
       "      <td>12.0</td>\n",
       "      <td>14.0</td>\n",
       "      <td>19.0</td>\n",
       "    </tr>\n",
       "  </tbody>\n",
       "</table>\n",
       "</div>"
      ],
      "text/plain": [
       "          count       mean       std  min   25%   50%   75%   max\n",
       "absences  649.0   3.659476  4.640759  0.0   0.0   2.0   6.0  32.0\n",
       "G1        649.0  11.399076  2.745265  0.0  10.0  11.0  13.0  19.0\n",
       "G2        649.0  11.570108  2.913639  0.0  10.0  11.0  13.0  19.0\n",
       "G3        649.0  11.906009  3.230656  0.0  10.0  12.0  14.0  19.0"
      ]
     },
     "execution_count": 6,
     "metadata": {},
     "output_type": "execute_result"
    }
   ],
   "source": [
    "df_por.describe().T"
   ]
  },
  {
   "cell_type": "markdown",
   "id": "164b3412",
   "metadata": {
    "papermill": {
     "duration": 0.023729,
     "end_time": "2024-03-17T07:15:29.071490",
     "exception": false,
     "start_time": "2024-03-17T07:15:29.047761",
     "status": "completed"
    },
    "tags": []
   },
   "source": [
    "In order to see statistics on non-numerical features, one has to explicitly indicate data types of interest in the `include` parameter."
   ]
  },
  {
   "cell_type": "code",
   "execution_count": 7,
   "id": "95d90574",
   "metadata": {
    "execution": {
     "iopub.execute_input": "2024-03-17T07:15:29.120975Z",
     "iopub.status.busy": "2024-03-17T07:15:29.120260Z",
     "iopub.status.idle": "2024-03-17T07:15:29.169372Z",
     "shell.execute_reply": "2024-03-17T07:15:29.168285Z"
    },
    "papermill": {
     "duration": 0.076294,
     "end_time": "2024-03-17T07:15:29.171716",
     "exception": false,
     "start_time": "2024-03-17T07:15:29.095422",
     "status": "completed"
    },
    "tags": []
   },
   "outputs": [
    {
     "data": {
      "text/html": [
       "<div>\n",
       "<style scoped>\n",
       "    .dataframe tbody tr th:only-of-type {\n",
       "        vertical-align: middle;\n",
       "    }\n",
       "\n",
       "    .dataframe tbody tr th {\n",
       "        vertical-align: top;\n",
       "    }\n",
       "\n",
       "    .dataframe thead th {\n",
       "        text-align: right;\n",
       "    }\n",
       "</style>\n",
       "<table border=\"1\" class=\"dataframe\">\n",
       "  <thead>\n",
       "    <tr style=\"text-align: right;\">\n",
       "      <th></th>\n",
       "      <th>count</th>\n",
       "      <th>unique</th>\n",
       "      <th>top</th>\n",
       "      <th>freq</th>\n",
       "    </tr>\n",
       "  </thead>\n",
       "  <tbody>\n",
       "    <tr>\n",
       "      <th>school</th>\n",
       "      <td>649</td>\n",
       "      <td>2</td>\n",
       "      <td>GP</td>\n",
       "      <td>423</td>\n",
       "    </tr>\n",
       "    <tr>\n",
       "      <th>sex</th>\n",
       "      <td>649</td>\n",
       "      <td>2</td>\n",
       "      <td>F</td>\n",
       "      <td>383</td>\n",
       "    </tr>\n",
       "    <tr>\n",
       "      <th>age</th>\n",
       "      <td>649</td>\n",
       "      <td>8</td>\n",
       "      <td>17</td>\n",
       "      <td>179</td>\n",
       "    </tr>\n",
       "    <tr>\n",
       "      <th>address</th>\n",
       "      <td>649</td>\n",
       "      <td>2</td>\n",
       "      <td>U</td>\n",
       "      <td>452</td>\n",
       "    </tr>\n",
       "    <tr>\n",
       "      <th>famsize</th>\n",
       "      <td>649</td>\n",
       "      <td>2</td>\n",
       "      <td>GT3</td>\n",
       "      <td>457</td>\n",
       "    </tr>\n",
       "    <tr>\n",
       "      <th>Pstatus</th>\n",
       "      <td>649</td>\n",
       "      <td>2</td>\n",
       "      <td>T</td>\n",
       "      <td>569</td>\n",
       "    </tr>\n",
       "    <tr>\n",
       "      <th>Medu</th>\n",
       "      <td>649</td>\n",
       "      <td>5</td>\n",
       "      <td>2</td>\n",
       "      <td>186</td>\n",
       "    </tr>\n",
       "    <tr>\n",
       "      <th>Fedu</th>\n",
       "      <td>649</td>\n",
       "      <td>5</td>\n",
       "      <td>2</td>\n",
       "      <td>209</td>\n",
       "    </tr>\n",
       "    <tr>\n",
       "      <th>Mjob</th>\n",
       "      <td>649</td>\n",
       "      <td>5</td>\n",
       "      <td>other</td>\n",
       "      <td>258</td>\n",
       "    </tr>\n",
       "    <tr>\n",
       "      <th>Fjob</th>\n",
       "      <td>649</td>\n",
       "      <td>5</td>\n",
       "      <td>other</td>\n",
       "      <td>367</td>\n",
       "    </tr>\n",
       "    <tr>\n",
       "      <th>reason</th>\n",
       "      <td>649</td>\n",
       "      <td>4</td>\n",
       "      <td>course</td>\n",
       "      <td>285</td>\n",
       "    </tr>\n",
       "    <tr>\n",
       "      <th>guardian</th>\n",
       "      <td>649</td>\n",
       "      <td>3</td>\n",
       "      <td>mother</td>\n",
       "      <td>455</td>\n",
       "    </tr>\n",
       "    <tr>\n",
       "      <th>traveltime</th>\n",
       "      <td>649</td>\n",
       "      <td>4</td>\n",
       "      <td>1</td>\n",
       "      <td>366</td>\n",
       "    </tr>\n",
       "    <tr>\n",
       "      <th>studytime</th>\n",
       "      <td>649</td>\n",
       "      <td>4</td>\n",
       "      <td>2</td>\n",
       "      <td>305</td>\n",
       "    </tr>\n",
       "    <tr>\n",
       "      <th>failures</th>\n",
       "      <td>649</td>\n",
       "      <td>4</td>\n",
       "      <td>0</td>\n",
       "      <td>549</td>\n",
       "    </tr>\n",
       "    <tr>\n",
       "      <th>schoolsup</th>\n",
       "      <td>649</td>\n",
       "      <td>2</td>\n",
       "      <td>no</td>\n",
       "      <td>581</td>\n",
       "    </tr>\n",
       "    <tr>\n",
       "      <th>famsup</th>\n",
       "      <td>649</td>\n",
       "      <td>2</td>\n",
       "      <td>yes</td>\n",
       "      <td>398</td>\n",
       "    </tr>\n",
       "    <tr>\n",
       "      <th>paid</th>\n",
       "      <td>649</td>\n",
       "      <td>2</td>\n",
       "      <td>no</td>\n",
       "      <td>610</td>\n",
       "    </tr>\n",
       "    <tr>\n",
       "      <th>activities</th>\n",
       "      <td>649</td>\n",
       "      <td>2</td>\n",
       "      <td>no</td>\n",
       "      <td>334</td>\n",
       "    </tr>\n",
       "    <tr>\n",
       "      <th>nursery</th>\n",
       "      <td>649</td>\n",
       "      <td>2</td>\n",
       "      <td>yes</td>\n",
       "      <td>521</td>\n",
       "    </tr>\n",
       "    <tr>\n",
       "      <th>higher</th>\n",
       "      <td>649</td>\n",
       "      <td>2</td>\n",
       "      <td>yes</td>\n",
       "      <td>580</td>\n",
       "    </tr>\n",
       "    <tr>\n",
       "      <th>internet</th>\n",
       "      <td>649</td>\n",
       "      <td>2</td>\n",
       "      <td>yes</td>\n",
       "      <td>498</td>\n",
       "    </tr>\n",
       "    <tr>\n",
       "      <th>romantic</th>\n",
       "      <td>649</td>\n",
       "      <td>2</td>\n",
       "      <td>no</td>\n",
       "      <td>410</td>\n",
       "    </tr>\n",
       "    <tr>\n",
       "      <th>famrel</th>\n",
       "      <td>649</td>\n",
       "      <td>5</td>\n",
       "      <td>4</td>\n",
       "      <td>317</td>\n",
       "    </tr>\n",
       "    <tr>\n",
       "      <th>freetime</th>\n",
       "      <td>649</td>\n",
       "      <td>5</td>\n",
       "      <td>3</td>\n",
       "      <td>251</td>\n",
       "    </tr>\n",
       "    <tr>\n",
       "      <th>goout</th>\n",
       "      <td>649</td>\n",
       "      <td>5</td>\n",
       "      <td>3</td>\n",
       "      <td>205</td>\n",
       "    </tr>\n",
       "    <tr>\n",
       "      <th>Dalc</th>\n",
       "      <td>649</td>\n",
       "      <td>5</td>\n",
       "      <td>1</td>\n",
       "      <td>451</td>\n",
       "    </tr>\n",
       "    <tr>\n",
       "      <th>Walc</th>\n",
       "      <td>649</td>\n",
       "      <td>5</td>\n",
       "      <td>1</td>\n",
       "      <td>247</td>\n",
       "    </tr>\n",
       "    <tr>\n",
       "      <th>health</th>\n",
       "      <td>649</td>\n",
       "      <td>5</td>\n",
       "      <td>5</td>\n",
       "      <td>249</td>\n",
       "    </tr>\n",
       "  </tbody>\n",
       "</table>\n",
       "</div>"
      ],
      "text/plain": [
       "           count unique     top freq\n",
       "school       649      2      GP  423\n",
       "sex          649      2       F  383\n",
       "age          649      8      17  179\n",
       "address      649      2       U  452\n",
       "famsize      649      2     GT3  457\n",
       "Pstatus      649      2       T  569\n",
       "Medu         649      5       2  186\n",
       "Fedu         649      5       2  209\n",
       "Mjob         649      5   other  258\n",
       "Fjob         649      5   other  367\n",
       "reason       649      4  course  285\n",
       "guardian     649      3  mother  455\n",
       "traveltime   649      4       1  366\n",
       "studytime    649      4       2  305\n",
       "failures     649      4       0  549\n",
       "schoolsup    649      2      no  581\n",
       "famsup       649      2     yes  398\n",
       "paid         649      2      no  610\n",
       "activities   649      2      no  334\n",
       "nursery      649      2     yes  521\n",
       "higher       649      2     yes  580\n",
       "internet     649      2     yes  498\n",
       "romantic     649      2      no  410\n",
       "famrel       649      5       4  317\n",
       "freetime     649      5       3  251\n",
       "goout        649      5       3  205\n",
       "Dalc         649      5       1  451\n",
       "Walc         649      5       1  247\n",
       "health       649      5       5  249"
      ]
     },
     "execution_count": 7,
     "metadata": {},
     "output_type": "execute_result"
    }
   ],
   "source": [
    "df_por.describe(include = 'category').T"
   ]
  },
  {
   "cell_type": "markdown",
   "id": "c1c06280",
   "metadata": {
    "papermill": {
     "duration": 0.02473,
     "end_time": "2024-03-17T07:15:29.220292",
     "exception": false,
     "start_time": "2024-03-17T07:15:29.195562",
     "status": "completed"
    },
    "tags": []
   },
   "source": [
    "Separating the numeric columns:"
   ]
  },
  {
   "cell_type": "code",
   "execution_count": 8,
   "id": "2bb01e2e",
   "metadata": {
    "execution": {
     "iopub.execute_input": "2024-03-17T07:15:29.270879Z",
     "iopub.status.busy": "2024-03-17T07:15:29.270285Z",
     "iopub.status.idle": "2024-03-17T07:15:29.274605Z",
     "shell.execute_reply": "2024-03-17T07:15:29.273882Z"
    },
    "papermill": {
     "duration": 0.03159,
     "end_time": "2024-03-17T07:15:29.276556",
     "exception": false,
     "start_time": "2024-03-17T07:15:29.244966",
     "status": "completed"
    },
    "tags": []
   },
   "outputs": [],
   "source": [
    "numeric_cols_df = df_por.select_dtypes(include=[\"int64\"])"
   ]
  },
  {
   "cell_type": "markdown",
   "id": "b54a66e4",
   "metadata": {
    "papermill": {
     "duration": 0.023945,
     "end_time": "2024-03-17T07:15:29.325099",
     "exception": false,
     "start_time": "2024-03-17T07:15:29.301154",
     "status": "completed"
    },
    "tags": []
   },
   "source": [
    "Let's see the average value of numeric parameters for the students who scored above average"
   ]
  },
  {
   "cell_type": "code",
   "execution_count": 9,
   "id": "3e349c18",
   "metadata": {
    "execution": {
     "iopub.execute_input": "2024-03-17T07:15:29.374469Z",
     "iopub.status.busy": "2024-03-17T07:15:29.374081Z",
     "iopub.status.idle": "2024-03-17T07:15:29.383863Z",
     "shell.execute_reply": "2024-03-17T07:15:29.382814Z"
    },
    "papermill": {
     "duration": 0.037197,
     "end_time": "2024-03-17T07:15:29.386106",
     "exception": false,
     "start_time": "2024-03-17T07:15:29.348909",
     "status": "completed"
    },
    "tags": []
   },
   "outputs": [
    {
     "data": {
      "text/plain": [
       "absences     2.965517\n",
       "G1          13.258621\n",
       "G2          13.586207\n",
       "G3          14.149425\n",
       "dtype: float64"
      ]
     },
     "execution_count": 9,
     "metadata": {},
     "output_type": "execute_result"
    }
   ],
   "source": [
    "numeric_cols_df[numeric_cols_df.G3>=numeric_cols_df.G3.mean()].mean()"
   ]
  },
  {
   "cell_type": "markdown",
   "id": "0f303eff",
   "metadata": {
    "papermill": {
     "duration": 0.024881,
     "end_time": "2024-03-17T07:15:29.435816",
     "exception": false,
     "start_time": "2024-03-17T07:15:29.410935",
     "status": "completed"
    },
    "tags": []
   },
   "source": [
    "Let's see the gender ratio in each school"
   ]
  },
  {
   "cell_type": "code",
   "execution_count": 10,
   "id": "0d0ea2bc",
   "metadata": {
    "execution": {
     "iopub.execute_input": "2024-03-17T07:15:29.485408Z",
     "iopub.status.busy": "2024-03-17T07:15:29.485038Z",
     "iopub.status.idle": "2024-03-17T07:15:29.505092Z",
     "shell.execute_reply": "2024-03-17T07:15:29.504072Z"
    },
    "papermill": {
     "duration": 0.047571,
     "end_time": "2024-03-17T07:15:29.507366",
     "exception": false,
     "start_time": "2024-03-17T07:15:29.459795",
     "status": "completed"
    },
    "tags": []
   },
   "outputs": [],
   "source": [
    "grouped = df_por.groupby(['school','sex'], observed = False).size().unstack()\n",
    "grouped = grouped.reset_index()\n",
    "melted = pd.melt(grouped, id_vars='school', value_vars=['M', 'F'], var_name='gender', value_name='count')\n"
   ]
  },
  {
   "cell_type": "code",
   "execution_count": 11,
   "id": "2be73375",
   "metadata": {
    "execution": {
     "iopub.execute_input": "2024-03-17T07:15:29.557851Z",
     "iopub.status.busy": "2024-03-17T07:15:29.557131Z",
     "iopub.status.idle": "2024-03-17T07:15:31.422577Z",
     "shell.execute_reply": "2024-03-17T07:15:31.420742Z"
    },
    "papermill": {
     "duration": 1.894508,
     "end_time": "2024-03-17T07:15:31.426433",
     "exception": false,
     "start_time": "2024-03-17T07:15:29.531925",
     "status": "completed"
    },
    "tags": []
   },
   "outputs": [
    {
     "data": {
      "text/html": [
       "        <script type=\"text/javascript\">\n",
       "        window.PlotlyConfig = {MathJaxConfig: 'local'};\n",
       "        if (window.MathJax && window.MathJax.Hub && window.MathJax.Hub.Config) {window.MathJax.Hub.Config({SVG: {font: \"STIX-Web\"}});}\n",
       "        if (typeof require !== 'undefined') {\n",
       "        require.undef(\"plotly\");\n",
       "        requirejs.config({\n",
       "            paths: {\n",
       "                'plotly': ['https://cdn.plot.ly/plotly-2.27.0.min']\n",
       "            }\n",
       "        });\n",
       "        require(['plotly'], function(Plotly) {\n",
       "            window._Plotly = Plotly;\n",
       "        });\n",
       "        }\n",
       "        </script>\n",
       "        "
      ]
     },
     "metadata": {},
     "output_type": "display_data"
    },
    {
     "data": {
      "text/html": [
       "<div>                            <div id=\"4fc0673c-ce99-4f2e-b808-12548da13a86\" class=\"plotly-graph-div\" style=\"height:500px; width:500px;\"></div>            <script type=\"text/javascript\">                require([\"plotly\"], function(Plotly) {                    window.PLOTLYENV=window.PLOTLYENV || {};                                    if (document.getElementById(\"4fc0673c-ce99-4f2e-b808-12548da13a86\")) {                    Plotly.newPlot(                        \"4fc0673c-ce99-4f2e-b808-12548da13a86\",                        [{\"alignmentgroup\":\"True\",\"hovertemplate\":\"Gender=M\\u003cbr\\u003eSchool=%{x}\\u003cbr\\u003eTotal number of students=%{y}\\u003cextra\\u003e\\u003c\\u002fextra\\u003e\",\"legendgroup\":\"M\",\"marker\":{\"color\":\"blue\",\"pattern\":{\"shape\":\"\"}},\"name\":\"M\",\"offsetgroup\":\"M\",\"orientation\":\"v\",\"showlegend\":true,\"textposition\":\"auto\",\"x\":[\"GP\",\"MS\"],\"xaxis\":\"x\",\"y\":[186,80],\"yaxis\":\"y\",\"type\":\"bar\"},{\"alignmentgroup\":\"True\",\"hovertemplate\":\"Gender=F\\u003cbr\\u003eSchool=%{x}\\u003cbr\\u003eTotal number of students=%{y}\\u003cextra\\u003e\\u003c\\u002fextra\\u003e\",\"legendgroup\":\"F\",\"marker\":{\"color\":\"pink\",\"pattern\":{\"shape\":\"\"}},\"name\":\"F\",\"offsetgroup\":\"F\",\"orientation\":\"v\",\"showlegend\":true,\"textposition\":\"auto\",\"x\":[\"GP\",\"MS\"],\"xaxis\":\"x\",\"y\":[237,146],\"yaxis\":\"y\",\"type\":\"bar\"}],                        {\"template\":{\"data\":{\"histogram2dcontour\":[{\"type\":\"histogram2dcontour\",\"colorbar\":{\"outlinewidth\":0,\"ticks\":\"\"},\"colorscale\":[[0.0,\"#0d0887\"],[0.1111111111111111,\"#46039f\"],[0.2222222222222222,\"#7201a8\"],[0.3333333333333333,\"#9c179e\"],[0.4444444444444444,\"#bd3786\"],[0.5555555555555556,\"#d8576b\"],[0.6666666666666666,\"#ed7953\"],[0.7777777777777778,\"#fb9f3a\"],[0.8888888888888888,\"#fdca26\"],[1.0,\"#f0f921\"]]}],\"choropleth\":[{\"type\":\"choropleth\",\"colorbar\":{\"outlinewidth\":0,\"ticks\":\"\"}}],\"histogram2d\":[{\"type\":\"histogram2d\",\"colorbar\":{\"outlinewidth\":0,\"ticks\":\"\"},\"colorscale\":[[0.0,\"#0d0887\"],[0.1111111111111111,\"#46039f\"],[0.2222222222222222,\"#7201a8\"],[0.3333333333333333,\"#9c179e\"],[0.4444444444444444,\"#bd3786\"],[0.5555555555555556,\"#d8576b\"],[0.6666666666666666,\"#ed7953\"],[0.7777777777777778,\"#fb9f3a\"],[0.8888888888888888,\"#fdca26\"],[1.0,\"#f0f921\"]]}],\"heatmap\":[{\"type\":\"heatmap\",\"colorbar\":{\"outlinewidth\":0,\"ticks\":\"\"},\"colorscale\":[[0.0,\"#0d0887\"],[0.1111111111111111,\"#46039f\"],[0.2222222222222222,\"#7201a8\"],[0.3333333333333333,\"#9c179e\"],[0.4444444444444444,\"#bd3786\"],[0.5555555555555556,\"#d8576b\"],[0.6666666666666666,\"#ed7953\"],[0.7777777777777778,\"#fb9f3a\"],[0.8888888888888888,\"#fdca26\"],[1.0,\"#f0f921\"]]}],\"heatmapgl\":[{\"type\":\"heatmapgl\",\"colorbar\":{\"outlinewidth\":0,\"ticks\":\"\"},\"colorscale\":[[0.0,\"#0d0887\"],[0.1111111111111111,\"#46039f\"],[0.2222222222222222,\"#7201a8\"],[0.3333333333333333,\"#9c179e\"],[0.4444444444444444,\"#bd3786\"],[0.5555555555555556,\"#d8576b\"],[0.6666666666666666,\"#ed7953\"],[0.7777777777777778,\"#fb9f3a\"],[0.8888888888888888,\"#fdca26\"],[1.0,\"#f0f921\"]]}],\"contourcarpet\":[{\"type\":\"contourcarpet\",\"colorbar\":{\"outlinewidth\":0,\"ticks\":\"\"}}],\"contour\":[{\"type\":\"contour\",\"colorbar\":{\"outlinewidth\":0,\"ticks\":\"\"},\"colorscale\":[[0.0,\"#0d0887\"],[0.1111111111111111,\"#46039f\"],[0.2222222222222222,\"#7201a8\"],[0.3333333333333333,\"#9c179e\"],[0.4444444444444444,\"#bd3786\"],[0.5555555555555556,\"#d8576b\"],[0.6666666666666666,\"#ed7953\"],[0.7777777777777778,\"#fb9f3a\"],[0.8888888888888888,\"#fdca26\"],[1.0,\"#f0f921\"]]}],\"surface\":[{\"type\":\"surface\",\"colorbar\":{\"outlinewidth\":0,\"ticks\":\"\"},\"colorscale\":[[0.0,\"#0d0887\"],[0.1111111111111111,\"#46039f\"],[0.2222222222222222,\"#7201a8\"],[0.3333333333333333,\"#9c179e\"],[0.4444444444444444,\"#bd3786\"],[0.5555555555555556,\"#d8576b\"],[0.6666666666666666,\"#ed7953\"],[0.7777777777777778,\"#fb9f3a\"],[0.8888888888888888,\"#fdca26\"],[1.0,\"#f0f921\"]]}],\"mesh3d\":[{\"type\":\"mesh3d\",\"colorbar\":{\"outlinewidth\":0,\"ticks\":\"\"}}],\"scatter\":[{\"fillpattern\":{\"fillmode\":\"overlay\",\"size\":10,\"solidity\":0.2},\"type\":\"scatter\"}],\"parcoords\":[{\"type\":\"parcoords\",\"line\":{\"colorbar\":{\"outlinewidth\":0,\"ticks\":\"\"}}}],\"scatterpolargl\":[{\"type\":\"scatterpolargl\",\"marker\":{\"colorbar\":{\"outlinewidth\":0,\"ticks\":\"\"}}}],\"bar\":[{\"error_x\":{\"color\":\"#2a3f5f\"},\"error_y\":{\"color\":\"#2a3f5f\"},\"marker\":{\"line\":{\"color\":\"#E5ECF6\",\"width\":0.5},\"pattern\":{\"fillmode\":\"overlay\",\"size\":10,\"solidity\":0.2}},\"type\":\"bar\"}],\"scattergeo\":[{\"type\":\"scattergeo\",\"marker\":{\"colorbar\":{\"outlinewidth\":0,\"ticks\":\"\"}}}],\"scatterpolar\":[{\"type\":\"scatterpolar\",\"marker\":{\"colorbar\":{\"outlinewidth\":0,\"ticks\":\"\"}}}],\"histogram\":[{\"marker\":{\"pattern\":{\"fillmode\":\"overlay\",\"size\":10,\"solidity\":0.2}},\"type\":\"histogram\"}],\"scattergl\":[{\"type\":\"scattergl\",\"marker\":{\"colorbar\":{\"outlinewidth\":0,\"ticks\":\"\"}}}],\"scatter3d\":[{\"type\":\"scatter3d\",\"line\":{\"colorbar\":{\"outlinewidth\":0,\"ticks\":\"\"}},\"marker\":{\"colorbar\":{\"outlinewidth\":0,\"ticks\":\"\"}}}],\"scattermapbox\":[{\"type\":\"scattermapbox\",\"marker\":{\"colorbar\":{\"outlinewidth\":0,\"ticks\":\"\"}}}],\"scatterternary\":[{\"type\":\"scatterternary\",\"marker\":{\"colorbar\":{\"outlinewidth\":0,\"ticks\":\"\"}}}],\"scattercarpet\":[{\"type\":\"scattercarpet\",\"marker\":{\"colorbar\":{\"outlinewidth\":0,\"ticks\":\"\"}}}],\"carpet\":[{\"aaxis\":{\"endlinecolor\":\"#2a3f5f\",\"gridcolor\":\"white\",\"linecolor\":\"white\",\"minorgridcolor\":\"white\",\"startlinecolor\":\"#2a3f5f\"},\"baxis\":{\"endlinecolor\":\"#2a3f5f\",\"gridcolor\":\"white\",\"linecolor\":\"white\",\"minorgridcolor\":\"white\",\"startlinecolor\":\"#2a3f5f\"},\"type\":\"carpet\"}],\"table\":[{\"cells\":{\"fill\":{\"color\":\"#EBF0F8\"},\"line\":{\"color\":\"white\"}},\"header\":{\"fill\":{\"color\":\"#C8D4E3\"},\"line\":{\"color\":\"white\"}},\"type\":\"table\"}],\"barpolar\":[{\"marker\":{\"line\":{\"color\":\"#E5ECF6\",\"width\":0.5},\"pattern\":{\"fillmode\":\"overlay\",\"size\":10,\"solidity\":0.2}},\"type\":\"barpolar\"}],\"pie\":[{\"automargin\":true,\"type\":\"pie\"}]},\"layout\":{\"autotypenumbers\":\"strict\",\"colorway\":[\"#636efa\",\"#EF553B\",\"#00cc96\",\"#ab63fa\",\"#FFA15A\",\"#19d3f3\",\"#FF6692\",\"#B6E880\",\"#FF97FF\",\"#FECB52\"],\"font\":{\"color\":\"#2a3f5f\"},\"hovermode\":\"closest\",\"hoverlabel\":{\"align\":\"left\"},\"paper_bgcolor\":\"white\",\"plot_bgcolor\":\"#E5ECF6\",\"polar\":{\"bgcolor\":\"#E5ECF6\",\"angularaxis\":{\"gridcolor\":\"white\",\"linecolor\":\"white\",\"ticks\":\"\"},\"radialaxis\":{\"gridcolor\":\"white\",\"linecolor\":\"white\",\"ticks\":\"\"}},\"ternary\":{\"bgcolor\":\"#E5ECF6\",\"aaxis\":{\"gridcolor\":\"white\",\"linecolor\":\"white\",\"ticks\":\"\"},\"baxis\":{\"gridcolor\":\"white\",\"linecolor\":\"white\",\"ticks\":\"\"},\"caxis\":{\"gridcolor\":\"white\",\"linecolor\":\"white\",\"ticks\":\"\"}},\"coloraxis\":{\"colorbar\":{\"outlinewidth\":0,\"ticks\":\"\"}},\"colorscale\":{\"sequential\":[[0.0,\"#0d0887\"],[0.1111111111111111,\"#46039f\"],[0.2222222222222222,\"#7201a8\"],[0.3333333333333333,\"#9c179e\"],[0.4444444444444444,\"#bd3786\"],[0.5555555555555556,\"#d8576b\"],[0.6666666666666666,\"#ed7953\"],[0.7777777777777778,\"#fb9f3a\"],[0.8888888888888888,\"#fdca26\"],[1.0,\"#f0f921\"]],\"sequentialminus\":[[0.0,\"#0d0887\"],[0.1111111111111111,\"#46039f\"],[0.2222222222222222,\"#7201a8\"],[0.3333333333333333,\"#9c179e\"],[0.4444444444444444,\"#bd3786\"],[0.5555555555555556,\"#d8576b\"],[0.6666666666666666,\"#ed7953\"],[0.7777777777777778,\"#fb9f3a\"],[0.8888888888888888,\"#fdca26\"],[1.0,\"#f0f921\"]],\"diverging\":[[0,\"#8e0152\"],[0.1,\"#c51b7d\"],[0.2,\"#de77ae\"],[0.3,\"#f1b6da\"],[0.4,\"#fde0ef\"],[0.5,\"#f7f7f7\"],[0.6,\"#e6f5d0\"],[0.7,\"#b8e186\"],[0.8,\"#7fbc41\"],[0.9,\"#4d9221\"],[1,\"#276419\"]]},\"xaxis\":{\"gridcolor\":\"white\",\"linecolor\":\"white\",\"ticks\":\"\",\"title\":{\"standoff\":15},\"zerolinecolor\":\"white\",\"automargin\":true,\"zerolinewidth\":2},\"yaxis\":{\"gridcolor\":\"white\",\"linecolor\":\"white\",\"ticks\":\"\",\"title\":{\"standoff\":15},\"zerolinecolor\":\"white\",\"automargin\":true,\"zerolinewidth\":2},\"scene\":{\"xaxis\":{\"backgroundcolor\":\"#E5ECF6\",\"gridcolor\":\"white\",\"linecolor\":\"white\",\"showbackground\":true,\"ticks\":\"\",\"zerolinecolor\":\"white\",\"gridwidth\":2},\"yaxis\":{\"backgroundcolor\":\"#E5ECF6\",\"gridcolor\":\"white\",\"linecolor\":\"white\",\"showbackground\":true,\"ticks\":\"\",\"zerolinecolor\":\"white\",\"gridwidth\":2},\"zaxis\":{\"backgroundcolor\":\"#E5ECF6\",\"gridcolor\":\"white\",\"linecolor\":\"white\",\"showbackground\":true,\"ticks\":\"\",\"zerolinecolor\":\"white\",\"gridwidth\":2}},\"shapedefaults\":{\"line\":{\"color\":\"#2a3f5f\"}},\"annotationdefaults\":{\"arrowcolor\":\"#2a3f5f\",\"arrowhead\":0,\"arrowwidth\":1},\"geo\":{\"bgcolor\":\"white\",\"landcolor\":\"#E5ECF6\",\"subunitcolor\":\"white\",\"showland\":true,\"showlakes\":true,\"lakecolor\":\"white\"},\"title\":{\"x\":0.05},\"mapbox\":{\"style\":\"light\"}}},\"xaxis\":{\"anchor\":\"y\",\"domain\":[0.0,1.0],\"title\":{\"text\":\"School\"}},\"yaxis\":{\"anchor\":\"x\",\"domain\":[0.0,1.0],\"title\":{\"text\":\"Total number of students\"}},\"legend\":{\"title\":{\"text\":\"Gender\"},\"tracegroupgap\":0},\"title\":{\"text\":\"Gender Distribution of the Schools\",\"x\":0.5},\"barmode\":\"stack\",\"bargap\":0.8,\"width\":500,\"height\":500},                        {\"responsive\": true}                    ).then(function(){\n",
       "                            \n",
       "var gd = document.getElementById('4fc0673c-ce99-4f2e-b808-12548da13a86');\n",
       "var x = new MutationObserver(function (mutations, observer) {{\n",
       "        var display = window.getComputedStyle(gd).display;\n",
       "        if (!display || display === 'none') {{\n",
       "            console.log([gd, 'removed!']);\n",
       "            Plotly.purge(gd);\n",
       "            observer.disconnect();\n",
       "        }}\n",
       "}});\n",
       "\n",
       "// Listen for the removal of the full notebook cells\n",
       "var notebookContainer = gd.closest('#notebook-container');\n",
       "if (notebookContainer) {{\n",
       "    x.observe(notebookContainer, {childList: true});\n",
       "}}\n",
       "\n",
       "// Listen for the clearing of the current output cell\n",
       "var outputEl = gd.closest('.output');\n",
       "if (outputEl) {{\n",
       "    x.observe(outputEl, {childList: true});\n",
       "}}\n",
       "\n",
       "                        })                };                });            </script>        </div>"
      ]
     },
     "metadata": {},
     "output_type": "display_data"
    }
   ],
   "source": [
    "fig = px.bar(melted, x = 'school', y = 'count', color = 'gender',\n",
    "        labels = {'school':\"School\", 'count':\"Total number of students\", 'gender':\"Gender\"},\n",
    "        barmode = 'stack', title = \"Gender Distribution of the Schools\",\n",
    "        color_discrete_map = {\"M\":'blue', \"F\":'pink'},\n",
    "        )\n",
    "\n",
    "fig.update_layout(bargap = 0.8, width = 500, height = 500, title_x = 0.5)\n",
    "fig.show()"
   ]
  },
  {
   "cell_type": "markdown",
   "id": "800f823d",
   "metadata": {
    "papermill": {
     "duration": 0.040819,
     "end_time": "2024-03-17T07:15:31.500378",
     "exception": false,
     "start_time": "2024-03-17T07:15:31.459559",
     "status": "completed"
    },
    "tags": []
   },
   "source": [
    "<b>Observation: </b>\n",
    "* We see both the schools have have more girls than boys"
   ]
  },
  {
   "cell_type": "markdown",
   "id": "7bda6e3e",
   "metadata": {
    "papermill": {
     "duration": 0.026609,
     "end_time": "2024-03-17T07:15:31.563756",
     "exception": false,
     "start_time": "2024-03-17T07:15:31.537147",
     "status": "completed"
    },
    "tags": []
   },
   "source": [
    "Visualizing the correlation matrix of the dataframe to have better insights about the relations among the numerical columns"
   ]
  },
  {
   "cell_type": "code",
   "execution_count": 12,
   "id": "3f04a33f",
   "metadata": {
    "execution": {
     "iopub.execute_input": "2024-03-17T07:15:31.618894Z",
     "iopub.status.busy": "2024-03-17T07:15:31.618167Z",
     "iopub.status.idle": "2024-03-17T07:15:31.660656Z",
     "shell.execute_reply": "2024-03-17T07:15:31.659746Z"
    },
    "papermill": {
     "duration": 0.072704,
     "end_time": "2024-03-17T07:15:31.663852",
     "exception": false,
     "start_time": "2024-03-17T07:15:31.591148",
     "status": "completed"
    },
    "tags": []
   },
   "outputs": [
    {
     "data": {
      "text/html": [
       "<div>                            <div id=\"108b42a4-67fd-4428-a178-1302266014bf\" class=\"plotly-graph-div\" style=\"height:600px; width:600px;\"></div>            <script type=\"text/javascript\">                require([\"plotly\"], function(Plotly) {                    window.PLOTLYENV=window.PLOTLYENV || {};                                    if (document.getElementById(\"108b42a4-67fd-4428-a178-1302266014bf\")) {                    Plotly.newPlot(                        \"108b42a4-67fd-4428-a178-1302266014bf\",                        [{\"colorbar\":{\"title\":{\"text\":\"Color Scale\"}},\"colorscale\":[[0.0,\"rgb(5,48,97)\"],[0.1,\"rgb(33,102,172)\"],[0.2,\"rgb(67,147,195)\"],[0.3,\"rgb(146,197,222)\"],[0.4,\"rgb(209,229,240)\"],[0.5,\"rgb(247,247,247)\"],[0.6,\"rgb(253,219,199)\"],[0.7,\"rgb(244,165,130)\"],[0.8,\"rgb(214,96,77)\"],[0.9,\"rgb(178,24,43)\"],[1.0,\"rgb(103,0,31)\"]],\"x\":[\"absences\",\"G1\",\"G2\",\"G3\"],\"y\":[\"absences\",\"G1\",\"G2\",\"G3\"],\"z\":[[1.0,-0.1471492417639848,-0.12474493347142758,-0.09137905643875596],[-0.1471492417639848,1.0,0.8649816303085824,0.8263871247890486],[-0.12474493347142758,0.8649816303085824,1.0,0.9185480035603523],[-0.09137905643875596,0.8263871247890486,0.9185480035603523,1.0]],\"type\":\"heatmap\"}],                        {\"template\":{\"data\":{\"histogram2dcontour\":[{\"type\":\"histogram2dcontour\",\"colorbar\":{\"outlinewidth\":0,\"ticks\":\"\"},\"colorscale\":[[0.0,\"#0d0887\"],[0.1111111111111111,\"#46039f\"],[0.2222222222222222,\"#7201a8\"],[0.3333333333333333,\"#9c179e\"],[0.4444444444444444,\"#bd3786\"],[0.5555555555555556,\"#d8576b\"],[0.6666666666666666,\"#ed7953\"],[0.7777777777777778,\"#fb9f3a\"],[0.8888888888888888,\"#fdca26\"],[1.0,\"#f0f921\"]]}],\"choropleth\":[{\"type\":\"choropleth\",\"colorbar\":{\"outlinewidth\":0,\"ticks\":\"\"}}],\"histogram2d\":[{\"type\":\"histogram2d\",\"colorbar\":{\"outlinewidth\":0,\"ticks\":\"\"},\"colorscale\":[[0.0,\"#0d0887\"],[0.1111111111111111,\"#46039f\"],[0.2222222222222222,\"#7201a8\"],[0.3333333333333333,\"#9c179e\"],[0.4444444444444444,\"#bd3786\"],[0.5555555555555556,\"#d8576b\"],[0.6666666666666666,\"#ed7953\"],[0.7777777777777778,\"#fb9f3a\"],[0.8888888888888888,\"#fdca26\"],[1.0,\"#f0f921\"]]}],\"heatmap\":[{\"type\":\"heatmap\",\"colorbar\":{\"outlinewidth\":0,\"ticks\":\"\"},\"colorscale\":[[0.0,\"#0d0887\"],[0.1111111111111111,\"#46039f\"],[0.2222222222222222,\"#7201a8\"],[0.3333333333333333,\"#9c179e\"],[0.4444444444444444,\"#bd3786\"],[0.5555555555555556,\"#d8576b\"],[0.6666666666666666,\"#ed7953\"],[0.7777777777777778,\"#fb9f3a\"],[0.8888888888888888,\"#fdca26\"],[1.0,\"#f0f921\"]]}],\"heatmapgl\":[{\"type\":\"heatmapgl\",\"colorbar\":{\"outlinewidth\":0,\"ticks\":\"\"},\"colorscale\":[[0.0,\"#0d0887\"],[0.1111111111111111,\"#46039f\"],[0.2222222222222222,\"#7201a8\"],[0.3333333333333333,\"#9c179e\"],[0.4444444444444444,\"#bd3786\"],[0.5555555555555556,\"#d8576b\"],[0.6666666666666666,\"#ed7953\"],[0.7777777777777778,\"#fb9f3a\"],[0.8888888888888888,\"#fdca26\"],[1.0,\"#f0f921\"]]}],\"contourcarpet\":[{\"type\":\"contourcarpet\",\"colorbar\":{\"outlinewidth\":0,\"ticks\":\"\"}}],\"contour\":[{\"type\":\"contour\",\"colorbar\":{\"outlinewidth\":0,\"ticks\":\"\"},\"colorscale\":[[0.0,\"#0d0887\"],[0.1111111111111111,\"#46039f\"],[0.2222222222222222,\"#7201a8\"],[0.3333333333333333,\"#9c179e\"],[0.4444444444444444,\"#bd3786\"],[0.5555555555555556,\"#d8576b\"],[0.6666666666666666,\"#ed7953\"],[0.7777777777777778,\"#fb9f3a\"],[0.8888888888888888,\"#fdca26\"],[1.0,\"#f0f921\"]]}],\"surface\":[{\"type\":\"surface\",\"colorbar\":{\"outlinewidth\":0,\"ticks\":\"\"},\"colorscale\":[[0.0,\"#0d0887\"],[0.1111111111111111,\"#46039f\"],[0.2222222222222222,\"#7201a8\"],[0.3333333333333333,\"#9c179e\"],[0.4444444444444444,\"#bd3786\"],[0.5555555555555556,\"#d8576b\"],[0.6666666666666666,\"#ed7953\"],[0.7777777777777778,\"#fb9f3a\"],[0.8888888888888888,\"#fdca26\"],[1.0,\"#f0f921\"]]}],\"mesh3d\":[{\"type\":\"mesh3d\",\"colorbar\":{\"outlinewidth\":0,\"ticks\":\"\"}}],\"scatter\":[{\"fillpattern\":{\"fillmode\":\"overlay\",\"size\":10,\"solidity\":0.2},\"type\":\"scatter\"}],\"parcoords\":[{\"type\":\"parcoords\",\"line\":{\"colorbar\":{\"outlinewidth\":0,\"ticks\":\"\"}}}],\"scatterpolargl\":[{\"type\":\"scatterpolargl\",\"marker\":{\"colorbar\":{\"outlinewidth\":0,\"ticks\":\"\"}}}],\"bar\":[{\"error_x\":{\"color\":\"#2a3f5f\"},\"error_y\":{\"color\":\"#2a3f5f\"},\"marker\":{\"line\":{\"color\":\"#E5ECF6\",\"width\":0.5},\"pattern\":{\"fillmode\":\"overlay\",\"size\":10,\"solidity\":0.2}},\"type\":\"bar\"}],\"scattergeo\":[{\"type\":\"scattergeo\",\"marker\":{\"colorbar\":{\"outlinewidth\":0,\"ticks\":\"\"}}}],\"scatterpolar\":[{\"type\":\"scatterpolar\",\"marker\":{\"colorbar\":{\"outlinewidth\":0,\"ticks\":\"\"}}}],\"histogram\":[{\"marker\":{\"pattern\":{\"fillmode\":\"overlay\",\"size\":10,\"solidity\":0.2}},\"type\":\"histogram\"}],\"scattergl\":[{\"type\":\"scattergl\",\"marker\":{\"colorbar\":{\"outlinewidth\":0,\"ticks\":\"\"}}}],\"scatter3d\":[{\"type\":\"scatter3d\",\"line\":{\"colorbar\":{\"outlinewidth\":0,\"ticks\":\"\"}},\"marker\":{\"colorbar\":{\"outlinewidth\":0,\"ticks\":\"\"}}}],\"scattermapbox\":[{\"type\":\"scattermapbox\",\"marker\":{\"colorbar\":{\"outlinewidth\":0,\"ticks\":\"\"}}}],\"scatterternary\":[{\"type\":\"scatterternary\",\"marker\":{\"colorbar\":{\"outlinewidth\":0,\"ticks\":\"\"}}}],\"scattercarpet\":[{\"type\":\"scattercarpet\",\"marker\":{\"colorbar\":{\"outlinewidth\":0,\"ticks\":\"\"}}}],\"carpet\":[{\"aaxis\":{\"endlinecolor\":\"#2a3f5f\",\"gridcolor\":\"white\",\"linecolor\":\"white\",\"minorgridcolor\":\"white\",\"startlinecolor\":\"#2a3f5f\"},\"baxis\":{\"endlinecolor\":\"#2a3f5f\",\"gridcolor\":\"white\",\"linecolor\":\"white\",\"minorgridcolor\":\"white\",\"startlinecolor\":\"#2a3f5f\"},\"type\":\"carpet\"}],\"table\":[{\"cells\":{\"fill\":{\"color\":\"#EBF0F8\"},\"line\":{\"color\":\"white\"}},\"header\":{\"fill\":{\"color\":\"#C8D4E3\"},\"line\":{\"color\":\"white\"}},\"type\":\"table\"}],\"barpolar\":[{\"marker\":{\"line\":{\"color\":\"#E5ECF6\",\"width\":0.5},\"pattern\":{\"fillmode\":\"overlay\",\"size\":10,\"solidity\":0.2}},\"type\":\"barpolar\"}],\"pie\":[{\"automargin\":true,\"type\":\"pie\"}]},\"layout\":{\"autotypenumbers\":\"strict\",\"colorway\":[\"#636efa\",\"#EF553B\",\"#00cc96\",\"#ab63fa\",\"#FFA15A\",\"#19d3f3\",\"#FF6692\",\"#B6E880\",\"#FF97FF\",\"#FECB52\"],\"font\":{\"color\":\"#2a3f5f\"},\"hovermode\":\"closest\",\"hoverlabel\":{\"align\":\"left\"},\"paper_bgcolor\":\"white\",\"plot_bgcolor\":\"#E5ECF6\",\"polar\":{\"bgcolor\":\"#E5ECF6\",\"angularaxis\":{\"gridcolor\":\"white\",\"linecolor\":\"white\",\"ticks\":\"\"},\"radialaxis\":{\"gridcolor\":\"white\",\"linecolor\":\"white\",\"ticks\":\"\"}},\"ternary\":{\"bgcolor\":\"#E5ECF6\",\"aaxis\":{\"gridcolor\":\"white\",\"linecolor\":\"white\",\"ticks\":\"\"},\"baxis\":{\"gridcolor\":\"white\",\"linecolor\":\"white\",\"ticks\":\"\"},\"caxis\":{\"gridcolor\":\"white\",\"linecolor\":\"white\",\"ticks\":\"\"}},\"coloraxis\":{\"colorbar\":{\"outlinewidth\":0,\"ticks\":\"\"}},\"colorscale\":{\"sequential\":[[0.0,\"#0d0887\"],[0.1111111111111111,\"#46039f\"],[0.2222222222222222,\"#7201a8\"],[0.3333333333333333,\"#9c179e\"],[0.4444444444444444,\"#bd3786\"],[0.5555555555555556,\"#d8576b\"],[0.6666666666666666,\"#ed7953\"],[0.7777777777777778,\"#fb9f3a\"],[0.8888888888888888,\"#fdca26\"],[1.0,\"#f0f921\"]],\"sequentialminus\":[[0.0,\"#0d0887\"],[0.1111111111111111,\"#46039f\"],[0.2222222222222222,\"#7201a8\"],[0.3333333333333333,\"#9c179e\"],[0.4444444444444444,\"#bd3786\"],[0.5555555555555556,\"#d8576b\"],[0.6666666666666666,\"#ed7953\"],[0.7777777777777778,\"#fb9f3a\"],[0.8888888888888888,\"#fdca26\"],[1.0,\"#f0f921\"]],\"diverging\":[[0,\"#8e0152\"],[0.1,\"#c51b7d\"],[0.2,\"#de77ae\"],[0.3,\"#f1b6da\"],[0.4,\"#fde0ef\"],[0.5,\"#f7f7f7\"],[0.6,\"#e6f5d0\"],[0.7,\"#b8e186\"],[0.8,\"#7fbc41\"],[0.9,\"#4d9221\"],[1,\"#276419\"]]},\"xaxis\":{\"gridcolor\":\"white\",\"linecolor\":\"white\",\"ticks\":\"\",\"title\":{\"standoff\":15},\"zerolinecolor\":\"white\",\"automargin\":true,\"zerolinewidth\":2},\"yaxis\":{\"gridcolor\":\"white\",\"linecolor\":\"white\",\"ticks\":\"\",\"title\":{\"standoff\":15},\"zerolinecolor\":\"white\",\"automargin\":true,\"zerolinewidth\":2},\"scene\":{\"xaxis\":{\"backgroundcolor\":\"#E5ECF6\",\"gridcolor\":\"white\",\"linecolor\":\"white\",\"showbackground\":true,\"ticks\":\"\",\"zerolinecolor\":\"white\",\"gridwidth\":2},\"yaxis\":{\"backgroundcolor\":\"#E5ECF6\",\"gridcolor\":\"white\",\"linecolor\":\"white\",\"showbackground\":true,\"ticks\":\"\",\"zerolinecolor\":\"white\",\"gridwidth\":2},\"zaxis\":{\"backgroundcolor\":\"#E5ECF6\",\"gridcolor\":\"white\",\"linecolor\":\"white\",\"showbackground\":true,\"ticks\":\"\",\"zerolinecolor\":\"white\",\"gridwidth\":2}},\"shapedefaults\":{\"line\":{\"color\":\"#2a3f5f\"}},\"annotationdefaults\":{\"arrowcolor\":\"#2a3f5f\",\"arrowhead\":0,\"arrowwidth\":1},\"geo\":{\"bgcolor\":\"white\",\"landcolor\":\"#E5ECF6\",\"subunitcolor\":\"white\",\"showland\":true,\"showlakes\":true,\"lakecolor\":\"white\"},\"title\":{\"x\":0.05},\"mapbox\":{\"style\":\"light\"}}},\"title\":{\"text\":\"Correlation Matrix\",\"x\":0.5},\"width\":600,\"height\":600},                        {\"responsive\": true}                    ).then(function(){\n",
       "                            \n",
       "var gd = document.getElementById('108b42a4-67fd-4428-a178-1302266014bf');\n",
       "var x = new MutationObserver(function (mutations, observer) {{\n",
       "        var display = window.getComputedStyle(gd).display;\n",
       "        if (!display || display === 'none') {{\n",
       "            console.log([gd, 'removed!']);\n",
       "            Plotly.purge(gd);\n",
       "            observer.disconnect();\n",
       "        }}\n",
       "}});\n",
       "\n",
       "// Listen for the removal of the full notebook cells\n",
       "var notebookContainer = gd.closest('#notebook-container');\n",
       "if (notebookContainer) {{\n",
       "    x.observe(notebookContainer, {childList: true});\n",
       "}}\n",
       "\n",
       "// Listen for the clearing of the current output cell\n",
       "var outputEl = gd.closest('.output');\n",
       "if (outputEl) {{\n",
       "    x.observe(outputEl, {childList: true});\n",
       "}}\n",
       "\n",
       "                        })                };                });            </script>        </div>"
      ]
     },
     "metadata": {},
     "output_type": "display_data"
    }
   ],
   "source": [
    "corr_mat = numeric_cols_df.corr()\n",
    "fig = go.Figure(go.Heatmap(\n",
    "                z = corr_mat.values,\n",
    "                x = corr_mat.columns,\n",
    "                y = corr_mat.columns,\n",
    "                colorscale = 'RdBu_r',\n",
    "                colorbar = dict(title = 'Color Scale')\n",
    "               ))\n",
    "fig.update_layout(title = 'Correlation Matrix', width = 600, height = 600, title_x = 0.5)\n",
    "fig.show()"
   ]
  },
  {
   "cell_type": "markdown",
   "id": "866e9bf3",
   "metadata": {
    "papermill": {
     "duration": 0.037253,
     "end_time": "2024-03-17T07:15:31.735249",
     "exception": false,
     "start_time": "2024-03-17T07:15:31.697996",
     "status": "completed"
    },
    "tags": []
   },
   "source": [
    "<b>Observations:</b>\n",
    "* We see a very high correlation between G1, G2 and G3 which is kind of obvious."
   ]
  },
  {
   "cell_type": "markdown",
   "id": "f3cec11e",
   "metadata": {
    "execution": {
     "iopub.execute_input": "2024-03-14T15:48:42.038571Z",
     "iopub.status.busy": "2024-03-14T15:48:42.038108Z",
     "iopub.status.idle": "2024-03-14T15:48:42.046659Z",
     "shell.execute_reply": "2024-03-14T15:48:42.045098Z",
     "shell.execute_reply.started": "2024-03-14T15:48:42.038540Z"
    },
    "papermill": {
     "duration": 0.028168,
     "end_time": "2024-03-17T07:15:31.796135",
     "exception": false,
     "start_time": "2024-03-17T07:15:31.767967",
     "status": "completed"
    },
    "tags": []
   },
   "source": [
    "Let's check if any pair of numerical features have any significant relation that may not be linear"
   ]
  },
  {
   "cell_type": "code",
   "execution_count": 13,
   "id": "e9d77557",
   "metadata": {
    "execution": {
     "iopub.execute_input": "2024-03-17T07:15:31.852340Z",
     "iopub.status.busy": "2024-03-17T07:15:31.851204Z",
     "iopub.status.idle": "2024-03-17T07:15:38.215476Z",
     "shell.execute_reply": "2024-03-17T07:15:38.214531Z"
    },
    "papermill": {
     "duration": 6.395749,
     "end_time": "2024-03-17T07:15:38.220191",
     "exception": false,
     "start_time": "2024-03-17T07:15:31.824442",
     "status": "completed"
    },
    "tags": []
   },
   "outputs": [
    {
     "data": {
      "image/png": "[encoded data removed]",
      "text/plain": [
       "<Figure size 1000x1000 with 20 Axes>"
      ]
     },
     "metadata": {},
     "output_type": "display_data"
    }
   ],
   "source": [
    "sns.pairplot(numeric_cols_df);"
   ]
  },
  {
   "cell_type": "markdown",
   "id": "d5fc6da3",
   "metadata": {
    "papermill": {
     "duration": 0.041135,
     "end_time": "2024-03-17T07:15:38.296239",
     "exception": false,
     "start_time": "2024-03-17T07:15:38.255104",
     "status": "completed"
    },
    "tags": []
   },
   "source": [
    "<b>Observation:</b>\n",
    "* Except for G1 and G2 there is no strong relation between G3 and other features"
   ]
  },
  {
   "cell_type": "code",
   "execution_count": 14,
   "id": "3670c78c",
   "metadata": {
    "execution": {
     "iopub.execute_input": "2024-03-17T07:15:38.364052Z",
     "iopub.status.busy": "2024-03-17T07:15:38.363637Z",
     "iopub.status.idle": "2024-03-17T07:15:38.377421Z",
     "shell.execute_reply": "2024-03-17T07:15:38.375822Z"
    },
    "papermill": {
     "duration": 0.051174,
     "end_time": "2024-03-17T07:15:38.381071",
     "exception": false,
     "start_time": "2024-03-17T07:15:38.329897",
     "status": "completed"
    },
    "tags": []
   },
   "outputs": [
    {
     "data": {
      "text/plain": [
       "['school',\n",
       " 'sex',\n",
       " 'address',\n",
       " 'famsize',\n",
       " 'Pstatus',\n",
       " 'schoolsup',\n",
       " 'famsup',\n",
       " 'paid',\n",
       " 'activities',\n",
       " 'nursery',\n",
       " 'higher',\n",
       " 'internet',\n",
       " 'romantic']"
      ]
     },
     "execution_count": 14,
     "metadata": {},
     "output_type": "execute_result"
    }
   ],
   "source": [
    "binary_cols = []\n",
    "\n",
    "for c in df_por.columns:\n",
    "    if(df_por[c].nunique()==2 and df_por[c].dtype == 'category'):\n",
    "        binary_cols.append(c)\n",
    "        \n",
    "binary_cols"
   ]
  },
  {
   "cell_type": "code",
   "execution_count": 15,
   "id": "882995d1",
   "metadata": {
    "execution": {
     "iopub.execute_input": "2024-03-17T07:15:38.447899Z",
     "iopub.status.busy": "2024-03-17T07:15:38.447435Z",
     "iopub.status.idle": "2024-03-17T07:15:40.462437Z",
     "shell.execute_reply": "2024-03-17T07:15:40.460898Z"
    },
    "papermill": {
     "duration": 2.053072,
     "end_time": "2024-03-17T07:15:40.465454",
     "exception": false,
     "start_time": "2024-03-17T07:15:38.412382",
     "status": "completed"
    },
    "tags": []
   },
   "outputs": [
    {
     "data": {
      "image/png": "[encoded data removed]",
      "text/plain": [
       "<Figure size 1300x700 with 13 Axes>"
      ]
     },
     "metadata": {},
     "output_type": "display_data"
    }
   ],
   "source": [
    "rows,cols = 3,5\n",
    "fig, axes = plt.subplots(nrows = rows, ncols = cols, figsize=(13,7))\n",
    "\n",
    "for idx, feat in enumerate(binary_cols):\n",
    "    if(int(idx/cols)==rows-1):\n",
    "        ax = axes[int(idx/cols), idx%cols+1]\n",
    "    else:\n",
    "        ax = axes[int(idx/cols), idx%cols]\n",
    "    sns.boxplot(x = 'G3', y = feat, data = df_por, ax = ax)\n",
    "    ax.set_xlabel(\"\")\n",
    "    ax.set_ylabel(feat)\n",
    "\n",
    "axes[-1,-1].remove()\n",
    "axes[-1,0].remove()\n",
    "\n",
    "plt.suptitle(\"Marks Distribution (G3 along X-axis) between Binary Features\", fontsize=16)\n",
    "fig.tight_layout();\n",
    "plt.show();"
   ]
  },
  {
   "cell_type": "markdown",
   "id": "21883ade",
   "metadata": {
    "papermill": {
     "duration": 0.027356,
     "end_time": "2024-03-17T07:15:40.522796",
     "exception": false,
     "start_time": "2024-03-17T07:15:40.495440",
     "status": "completed"
    },
    "tags": []
   },
   "source": [
    "<b>Observation: </b>\n",
    "* We see the features which may contribute towards a difference in distribution of marks among students are: \n",
    "     * schoolsup\n",
    "     * higher\n",
    "     * internet\n",
    "     * sex\n",
    "     * address\n",
    "     * school\n",
    "     * nursery\n",
    "     * actvities"
   ]
  },
  {
   "cell_type": "markdown",
   "id": "b0772e50",
   "metadata": {
    "papermill": {
     "duration": 0.031945,
     "end_time": "2024-03-17T07:15:40.583892",
     "exception": false,
     "start_time": "2024-03-17T07:15:40.551947",
     "status": "completed"
    },
    "tags": []
   },
   "source": [
    "Now lets see how other categorical features affect marks distribution"
   ]
  },
  {
   "cell_type": "code",
   "execution_count": 16,
   "id": "93816788",
   "metadata": {
    "execution": {
     "iopub.execute_input": "2024-03-17T07:15:40.643199Z",
     "iopub.status.busy": "2024-03-17T07:15:40.642807Z",
     "iopub.status.idle": "2024-03-17T07:15:40.651265Z",
     "shell.execute_reply": "2024-03-17T07:15:40.650134Z"
    },
    "papermill": {
     "duration": 0.041401,
     "end_time": "2024-03-17T07:15:40.654841",
     "exception": false,
     "start_time": "2024-03-17T07:15:40.613440",
     "status": "completed"
    },
    "tags": []
   },
   "outputs": [
    {
     "data": {
      "text/plain": [
       "['famrel',\n",
       " 'goout',\n",
       " 'Dalc',\n",
       " 'freetime',\n",
       " 'Mjob',\n",
       " 'Fjob',\n",
       " 'failures',\n",
       " 'guardian',\n",
       " 'traveltime',\n",
       " 'age',\n",
       " 'reason',\n",
       " 'studytime',\n",
       " 'Medu',\n",
       " 'Walc',\n",
       " 'health',\n",
       " 'Fedu']"
      ]
     },
     "execution_count": 16,
     "metadata": {},
     "output_type": "execute_result"
    }
   ],
   "source": [
    "other_cat_cols = list(set(df_por.select_dtypes(include=['category']).columns) - set(binary_cols))\n",
    "other_cat_cols"
   ]
  },
  {
   "cell_type": "code",
   "execution_count": 17,
   "id": "0b6b8770",
   "metadata": {
    "execution": {
     "iopub.execute_input": "2024-03-17T07:15:40.715739Z",
     "iopub.status.busy": "2024-03-17T07:15:40.715214Z",
     "iopub.status.idle": "2024-03-17T07:15:44.565228Z",
     "shell.execute_reply": "2024-03-17T07:15:44.563949Z"
    },
    "papermill": {
     "duration": 3.884869,
     "end_time": "2024-03-17T07:15:44.569727",
     "exception": false,
     "start_time": "2024-03-17T07:15:40.684858",
     "status": "completed"
    },
    "tags": []
   },
   "outputs": [
    {
     "data": {
      "image/png": "[encoded data removed]",
      "text/plain": [
       "<Figure size 1300x2000 with 16 Axes>"
      ]
     },
     "metadata": {},
     "output_type": "display_data"
    }
   ],
   "source": [
    "rows,cols = 4,4\n",
    "fig, axes = plt.subplots(nrows = rows, ncols = cols, figsize=(13,20))\n",
    "\n",
    "for idx, feat in enumerate(other_cat_cols):\n",
    "    ax = axes[int(idx/cols), idx%cols]\n",
    "    sns.boxplot(x = feat, y = 'G3', data = df_por, ax = ax)\n",
    "    ax.set_ylabel(\"G3\") if not idx%cols else ax.set_ylabel(\"\")\n",
    "    ax.set_xlabel(feat)\n",
    "\n",
    "fig.tight_layout();\n",
    "plt.show();"
   ]
  },
  {
   "cell_type": "markdown",
   "id": "67827a27",
   "metadata": {
    "papermill": {
     "duration": 0.034968,
     "end_time": "2024-03-17T07:15:44.639398",
     "exception": false,
     "start_time": "2024-03-17T07:15:44.604430",
     "status": "completed"
    },
    "tags": []
   },
   "source": [
    "<b>Observations: </b>\n",
    "* Students having 0 failures score much higher\n",
    "* Students whose mothers are guardian along with those very low weekend alcohol consumption have a high spread or variance\n",
    "* Students whose father is a a teacher tend to score higher\n",
    "* Students whose mother is in health sector tend to score higher\n",
    "\n",
    "These are observations based on individual comparisons, it may happen that these change if we take the resultant effect of mixture of this features"
   ]
  },
  {
   "cell_type": "markdown",
   "id": "5b5c0501",
   "metadata": {
    "papermill": {
     "duration": 0.035562,
     "end_time": "2024-03-17T07:15:44.708628",
     "exception": false,
     "start_time": "2024-03-17T07:15:44.673066",
     "status": "completed"
    },
    "tags": []
   },
   "source": [
    "Let's see the joint effect of father's education and mother's education on the final exam grade using heatmap"
   ]
  },
  {
   "cell_type": "code",
   "execution_count": 18,
   "id": "ddd88ca4",
   "metadata": {
    "execution": {
     "iopub.execute_input": "2024-03-17T07:15:44.780957Z",
     "iopub.status.busy": "2024-03-17T07:15:44.779735Z",
     "iopub.status.idle": "2024-03-17T07:15:44.818718Z",
     "shell.execute_reply": "2024-03-17T07:15:44.817274Z"
    },
    "papermill": {
     "duration": 0.079187,
     "end_time": "2024-03-17T07:15:44.821634",
     "exception": false,
     "start_time": "2024-03-17T07:15:44.742447",
     "status": "completed"
    },
    "tags": []
   },
   "outputs": [
    {
     "data": {
      "text/html": [
       "<div>                            <div id=\"752e3523-c6ce-40f9-b929-278f9b41148a\" class=\"plotly-graph-div\" style=\"height:700px; width:700px;\"></div>            <script type=\"text/javascript\">                require([\"plotly\"], function(Plotly) {                    window.PLOTLYENV=window.PLOTLYENV || {};                                    if (document.getElementById(\"752e3523-c6ce-40f9-b929-278f9b41148a\")) {                    Plotly.newPlot(                        \"752e3523-c6ce-40f9-b929-278f9b41148a\",                        [{\"colorscale\":[[0.0,\"rgb(255,255,217)\"],[0.125,\"rgb(237,248,177)\"],[0.25,\"rgb(199,233,180)\"],[0.375,\"rgb(127,205,187)\"],[0.5,\"rgb(65,182,196)\"],[0.625,\"rgb(29,145,192)\"],[0.75,\"rgb(34,94,168)\"],[0.875,\"rgb(37,52,148)\"],[1.0,\"rgb(8,29,88)\"]],\"hoverongaps\":false,\"hovertemplate\":\"Fathers Education: %{y}\\u003cbr\\u003eMothers Education: %{x}\\u003cbr\\u003eMean Final Exam Score: %{z:.2f}\\u003cbr\\u003e%age of Students: %{text:.2f}\",\"text\":[[0.15408320493066255,0.3081664098613251,0.4622496147919877,0.0,0.0],[0.7704160246533128,14.175654853620955,5.546995377503852,1.2326656394453004,0.3081664098613251],[0.0,8.012326656394453,15.562403697996919,3.852080123266564,1.2326656394453004],[0.0,3.0816640986132513,6.471494607087828,8.320493066255779,3.5439137134052388],[0.15408320493066255,1.2326656394453004,4.160246533127889,6.779661016949152,14.637904468412943]],\"x\":[0,1,2,3,4],\"y\":[0,1,2,3,4],\"z\":[[11.0,10.5,12.666666666666666,null,null],[12.6,10.608695652173912,11.166666666666666,10.5,9.5],[null,11.211538461538462,11.594059405940595,12.4,13.125],[null,11.7,11.928571428571429,11.814814814814815,12.347826086956522],[11.0,11.125,13.0,13.409090909090908,13.115789473684211]],\"type\":\"heatmap\"}],                        {\"template\":{\"data\":{\"histogram2dcontour\":[{\"type\":\"histogram2dcontour\",\"colorbar\":{\"outlinewidth\":0,\"ticks\":\"\"},\"colorscale\":[[0.0,\"#0d0887\"],[0.1111111111111111,\"#46039f\"],[0.2222222222222222,\"#7201a8\"],[0.3333333333333333,\"#9c179e\"],[0.4444444444444444,\"#bd3786\"],[0.5555555555555556,\"#d8576b\"],[0.6666666666666666,\"#ed7953\"],[0.7777777777777778,\"#fb9f3a\"],[0.8888888888888888,\"#fdca26\"],[1.0,\"#f0f921\"]]}],\"choropleth\":[{\"type\":\"choropleth\",\"colorbar\":{\"outlinewidth\":0,\"ticks\":\"\"}}],\"histogram2d\":[{\"type\":\"histogram2d\",\"colorbar\":{\"outlinewidth\":0,\"ticks\":\"\"},\"colorscale\":[[0.0,\"#0d0887\"],[0.1111111111111111,\"#46039f\"],[0.2222222222222222,\"#7201a8\"],[0.3333333333333333,\"#9c179e\"],[0.4444444444444444,\"#bd3786\"],[0.5555555555555556,\"#d8576b\"],[0.6666666666666666,\"#ed7953\"],[0.7777777777777778,\"#fb9f3a\"],[0.8888888888888888,\"#fdca26\"],[1.0,\"#f0f921\"]]}],\"heatmap\":[{\"type\":\"heatmap\",\"colorbar\":{\"outlinewidth\":0,\"ticks\":\"\"},\"colorscale\":[[0.0,\"#0d0887\"],[0.1111111111111111,\"#46039f\"],[0.2222222222222222,\"#7201a8\"],[0.3333333333333333,\"#9c179e\"],[0.4444444444444444,\"#bd3786\"],[0.5555555555555556,\"#d8576b\"],[0.6666666666666666,\"#ed7953\"],[0.7777777777777778,\"#fb9f3a\"],[0.8888888888888888,\"#fdca26\"],[1.0,\"#f0f921\"]]}],\"heatmapgl\":[{\"type\":\"heatmapgl\",\"colorbar\":{\"outlinewidth\":0,\"ticks\":\"\"},\"colorscale\":[[0.0,\"#0d0887\"],[0.1111111111111111,\"#46039f\"],[0.2222222222222222,\"#7201a8\"],[0.3333333333333333,\"#9c179e\"],[0.4444444444444444,\"#bd3786\"],[0.5555555555555556,\"#d8576b\"],[0.6666666666666666,\"#ed7953\"],[0.7777777777777778,\"#fb9f3a\"],[0.8888888888888888,\"#fdca26\"],[1.0,\"#f0f921\"]]}],\"contourcarpet\":[{\"type\":\"contourcarpet\",\"colorbar\":{\"outlinewidth\":0,\"ticks\":\"\"}}],\"contour\":[{\"type\":\"contour\",\"colorbar\":{\"outlinewidth\":0,\"ticks\":\"\"},\"colorscale\":[[0.0,\"#0d0887\"],[0.1111111111111111,\"#46039f\"],[0.2222222222222222,\"#7201a8\"],[0.3333333333333333,\"#9c179e\"],[0.4444444444444444,\"#bd3786\"],[0.5555555555555556,\"#d8576b\"],[0.6666666666666666,\"#ed7953\"],[0.7777777777777778,\"#fb9f3a\"],[0.8888888888888888,\"#fdca26\"],[1.0,\"#f0f921\"]]}],\"surface\":[{\"type\":\"surface\",\"colorbar\":{\"outlinewidth\":0,\"ticks\":\"\"},\"colorscale\":[[0.0,\"#0d0887\"],[0.1111111111111111,\"#46039f\"],[0.2222222222222222,\"#7201a8\"],[0.3333333333333333,\"#9c179e\"],[0.4444444444444444,\"#bd3786\"],[0.5555555555555556,\"#d8576b\"],[0.6666666666666666,\"#ed7953\"],[0.7777777777777778,\"#fb9f3a\"],[0.8888888888888888,\"#fdca26\"],[1.0,\"#f0f921\"]]}],\"mesh3d\":[{\"type\":\"mesh3d\",\"colorbar\":{\"outlinewidth\":0,\"ticks\":\"\"}}],\"scatter\":[{\"fillpattern\":{\"fillmode\":\"overlay\",\"size\":10,\"solidity\":0.2},\"type\":\"scatter\"}],\"parcoords\":[{\"type\":\"parcoords\",\"line\":{\"colorbar\":{\"outlinewidth\":0,\"ticks\":\"\"}}}],\"scatterpolargl\":[{\"type\":\"scatterpolargl\",\"marker\":{\"colorbar\":{\"outlinewidth\":0,\"ticks\":\"\"}}}],\"bar\":[{\"error_x\":{\"color\":\"#2a3f5f\"},\"error_y\":{\"color\":\"#2a3f5f\"},\"marker\":{\"line\":{\"color\":\"#E5ECF6\",\"width\":0.5},\"pattern\":{\"fillmode\":\"overlay\",\"size\":10,\"solidity\":0.2}},\"type\":\"bar\"}],\"scattergeo\":[{\"type\":\"scattergeo\",\"marker\":{\"colorbar\":{\"outlinewidth\":0,\"ticks\":\"\"}}}],\"scatterpolar\":[{\"type\":\"scatterpolar\",\"marker\":{\"colorbar\":{\"outlinewidth\":0,\"ticks\":\"\"}}}],\"histogram\":[{\"marker\":{\"pattern\":{\"fillmode\":\"overlay\",\"size\":10,\"solidity\":0.2}},\"type\":\"histogram\"}],\"scattergl\":[{\"type\":\"scattergl\",\"marker\":{\"colorbar\":{\"outlinewidth\":0,\"ticks\":\"\"}}}],\"scatter3d\":[{\"type\":\"scatter3d\",\"line\":{\"colorbar\":{\"outlinewidth\":0,\"ticks\":\"\"}},\"marker\":{\"colorbar\":{\"outlinewidth\":0,\"ticks\":\"\"}}}],\"scattermapbox\":[{\"type\":\"scattermapbox\",\"marker\":{\"colorbar\":{\"outlinewidth\":0,\"ticks\":\"\"}}}],\"scatterternary\":[{\"type\":\"scatterternary\",\"marker\":{\"colorbar\":{\"outlinewidth\":0,\"ticks\":\"\"}}}],\"scattercarpet\":[{\"type\":\"scattercarpet\",\"marker\":{\"colorbar\":{\"outlinewidth\":0,\"ticks\":\"\"}}}],\"carpet\":[{\"aaxis\":{\"endlinecolor\":\"#2a3f5f\",\"gridcolor\":\"white\",\"linecolor\":\"white\",\"minorgridcolor\":\"white\",\"startlinecolor\":\"#2a3f5f\"},\"baxis\":{\"endlinecolor\":\"#2a3f5f\",\"gridcolor\":\"white\",\"linecolor\":\"white\",\"minorgridcolor\":\"white\",\"startlinecolor\":\"#2a3f5f\"},\"type\":\"carpet\"}],\"table\":[{\"cells\":{\"fill\":{\"color\":\"#EBF0F8\"},\"line\":{\"color\":\"white\"}},\"header\":{\"fill\":{\"color\":\"#C8D4E3\"},\"line\":{\"color\":\"white\"}},\"type\":\"table\"}],\"barpolar\":[{\"marker\":{\"line\":{\"color\":\"#E5ECF6\",\"width\":0.5},\"pattern\":{\"fillmode\":\"overlay\",\"size\":10,\"solidity\":0.2}},\"type\":\"barpolar\"}],\"pie\":[{\"automargin\":true,\"type\":\"pie\"}]},\"layout\":{\"autotypenumbers\":\"strict\",\"colorway\":[\"#636efa\",\"#EF553B\",\"#00cc96\",\"#ab63fa\",\"#FFA15A\",\"#19d3f3\",\"#FF6692\",\"#B6E880\",\"#FF97FF\",\"#FECB52\"],\"font\":{\"color\":\"#2a3f5f\"},\"hovermode\":\"closest\",\"hoverlabel\":{\"align\":\"left\"},\"paper_bgcolor\":\"white\",\"plot_bgcolor\":\"#E5ECF6\",\"polar\":{\"bgcolor\":\"#E5ECF6\",\"angularaxis\":{\"gridcolor\":\"white\",\"linecolor\":\"white\",\"ticks\":\"\"},\"radialaxis\":{\"gridcolor\":\"white\",\"linecolor\":\"white\",\"ticks\":\"\"}},\"ternary\":{\"bgcolor\":\"#E5ECF6\",\"aaxis\":{\"gridcolor\":\"white\",\"linecolor\":\"white\",\"ticks\":\"\"},\"baxis\":{\"gridcolor\":\"white\",\"linecolor\":\"white\",\"ticks\":\"\"},\"caxis\":{\"gridcolor\":\"white\",\"linecolor\":\"white\",\"ticks\":\"\"}},\"coloraxis\":{\"colorbar\":{\"outlinewidth\":0,\"ticks\":\"\"}},\"colorscale\":{\"sequential\":[[0.0,\"#0d0887\"],[0.1111111111111111,\"#46039f\"],[0.2222222222222222,\"#7201a8\"],[0.3333333333333333,\"#9c179e\"],[0.4444444444444444,\"#bd3786\"],[0.5555555555555556,\"#d8576b\"],[0.6666666666666666,\"#ed7953\"],[0.7777777777777778,\"#fb9f3a\"],[0.8888888888888888,\"#fdca26\"],[1.0,\"#f0f921\"]],\"sequentialminus\":[[0.0,\"#0d0887\"],[0.1111111111111111,\"#46039f\"],[0.2222222222222222,\"#7201a8\"],[0.3333333333333333,\"#9c179e\"],[0.4444444444444444,\"#bd3786\"],[0.5555555555555556,\"#d8576b\"],[0.6666666666666666,\"#ed7953\"],[0.7777777777777778,\"#fb9f3a\"],[0.8888888888888888,\"#fdca26\"],[1.0,\"#f0f921\"]],\"diverging\":[[0,\"#8e0152\"],[0.1,\"#c51b7d\"],[0.2,\"#de77ae\"],[0.3,\"#f1b6da\"],[0.4,\"#fde0ef\"],[0.5,\"#f7f7f7\"],[0.6,\"#e6f5d0\"],[0.7,\"#b8e186\"],[0.8,\"#7fbc41\"],[0.9,\"#4d9221\"],[1,\"#276419\"]]},\"xaxis\":{\"gridcolor\":\"white\",\"linecolor\":\"white\",\"ticks\":\"\",\"title\":{\"standoff\":15},\"zerolinecolor\":\"white\",\"automargin\":true,\"zerolinewidth\":2},\"yaxis\":{\"gridcolor\":\"white\",\"linecolor\":\"white\",\"ticks\":\"\",\"title\":{\"standoff\":15},\"zerolinecolor\":\"white\",\"automargin\":true,\"zerolinewidth\":2},\"scene\":{\"xaxis\":{\"backgroundcolor\":\"#E5ECF6\",\"gridcolor\":\"white\",\"linecolor\":\"white\",\"showbackground\":true,\"ticks\":\"\",\"zerolinecolor\":\"white\",\"gridwidth\":2},\"yaxis\":{\"backgroundcolor\":\"#E5ECF6\",\"gridcolor\":\"white\",\"linecolor\":\"white\",\"showbackground\":true,\"ticks\":\"\",\"zerolinecolor\":\"white\",\"gridwidth\":2},\"zaxis\":{\"backgroundcolor\":\"#E5ECF6\",\"gridcolor\":\"white\",\"linecolor\":\"white\",\"showbackground\":true,\"ticks\":\"\",\"zerolinecolor\":\"white\",\"gridwidth\":2}},\"shapedefaults\":{\"line\":{\"color\":\"#2a3f5f\"}},\"annotationdefaults\":{\"arrowcolor\":\"#2a3f5f\",\"arrowhead\":0,\"arrowwidth\":1},\"geo\":{\"bgcolor\":\"white\",\"landcolor\":\"#E5ECF6\",\"subunitcolor\":\"white\",\"showland\":true,\"showlakes\":true,\"lakecolor\":\"white\"},\"title\":{\"x\":0.05},\"mapbox\":{\"style\":\"light\"}}},\"title\":{\"text\":\"Joint effect of Father's and Mother's education on Student's Final Exam Marks\",\"x\":0.5},\"xaxis\":{\"title\":{\"text\":\"Mother's Education\"}},\"yaxis\":{\"title\":{\"text\":\"Father's Education\"}},\"width\":700,\"height\":700},                        {\"responsive\": true}                    ).then(function(){\n",
       "                            \n",
       "var gd = document.getElementById('752e3523-c6ce-40f9-b929-278f9b41148a');\n",
       "var x = new MutationObserver(function (mutations, observer) {{\n",
       "        var display = window.getComputedStyle(gd).display;\n",
       "        if (!display || display === 'none') {{\n",
       "            console.log([gd, 'removed!']);\n",
       "            Plotly.purge(gd);\n",
       "            observer.disconnect();\n",
       "        }}\n",
       "}});\n",
       "\n",
       "// Listen for the removal of the full notebook cells\n",
       "var notebookContainer = gd.closest('#notebook-container');\n",
       "if (notebookContainer) {{\n",
       "    x.observe(notebookContainer, {childList: true});\n",
       "}}\n",
       "\n",
       "// Listen for the clearing of the current output cell\n",
       "var outputEl = gd.closest('.output');\n",
       "if (outputEl) {{\n",
       "    x.observe(outputEl, {childList: true});\n",
       "}}\n",
       "\n",
       "                        })                };                });            </script>        </div>"
      ]
     },
     "metadata": {},
     "output_type": "display_data"
    }
   ],
   "source": [
    "edu_effect = df_por.groupby(['Medu', 'Fedu'])['G3'].mean().unstack()\n",
    "edu_effect_c = df_por.groupby(['Medu', 'Fedu'])['G3'].count().unstack()\n",
    "\n",
    "fig = go.Figure(data = go.Heatmap(\n",
    "                z = edu_effect.values, x = edu_effect.columns, y = edu_effect.index, text = edu_effect_c.values*100/len(df_por), hovertemplate='Fathers Education: %{y}<br>Mothers Education: %{x}<br>Mean Final Exam Score: %{z:.2f}<br>%age of Students: %{text:.2f}',\n",
    "                colorscale = \"YlGnBu\", hoverongaps = False))\n",
    "\n",
    "fig.update_layout(title=\"Joint effect of Father's and Mother's education on Student's Final Exam Marks\",\n",
    "                 xaxis_title = \"Mother's Education\",\n",
    "                 yaxis_title = \"Father's Education\", title_x = 0.5,\n",
    "                 width = 700, height = 700\n",
    "                )\n",
    "\n",
    "fig.show()"
   ]
  },
  {
   "cell_type": "markdown",
   "id": "fa977ce0",
   "metadata": {
    "papermill": {
     "duration": 0.036808,
     "end_time": "2024-03-17T07:15:44.892386",
     "exception": false,
     "start_time": "2024-03-17T07:15:44.855578",
     "status": "completed"
    },
    "tags": []
   },
   "source": [
    "<b>Observation:</b>\n",
    "* We see 14.64% students come from family where father and mother both have pursued higher education and their mean score is 13.12\n",
    "* 0.15% students have parents with no education and their mean score is 11\n",
    "* 6.78% students having their father pursued higher education and their mother, secondary education and they have the highest average score of 13.41"
   ]
  },
  {
   "cell_type": "code",
   "execution_count": 19,
   "id": "972c4aae",
   "metadata": {
    "execution": {
     "iopub.execute_input": "2024-03-17T07:15:44.962294Z",
     "iopub.status.busy": "2024-03-17T07:15:44.961883Z",
     "iopub.status.idle": "2024-03-17T07:15:44.995189Z",
     "shell.execute_reply": "2024-03-17T07:15:44.994112Z"
    },
    "papermill": {
     "duration": 0.071088,
     "end_time": "2024-03-17T07:15:44.997990",
     "exception": false,
     "start_time": "2024-03-17T07:15:44.926902",
     "status": "completed"
    },
    "tags": []
   },
   "outputs": [
    {
     "data": {
      "text/html": [
       "<div>                            <div id=\"df2d0084-086d-4247-a99b-1df7a2162ffe\" class=\"plotly-graph-div\" style=\"height:700px; width:700px;\"></div>            <script type=\"text/javascript\">                require([\"plotly\"], function(Plotly) {                    window.PLOTLYENV=window.PLOTLYENV || {};                                    if (document.getElementById(\"df2d0084-086d-4247-a99b-1df7a2162ffe\")) {                    Plotly.newPlot(                        \"df2d0084-086d-4247-a99b-1df7a2162ffe\",                        [{\"colorscale\":[[0.0,\"rgb(255,255,217)\"],[0.125,\"rgb(237,248,177)\"],[0.25,\"rgb(199,233,180)\"],[0.375,\"rgb(127,205,187)\"],[0.5,\"rgb(65,182,196)\"],[0.625,\"rgb(29,145,192)\"],[0.75,\"rgb(34,94,168)\"],[0.875,\"rgb(37,52,148)\"],[1.0,\"rgb(8,29,88)\"]],\"hoverongaps\":false,\"hovertemplate\":\"Fathers job: %{y}\\u003cbr\\u003eMothers job: %{x}\\u003cbr\\u003eMean Final Exam Score: %{z:.2f}\\u003cbr\\u003e%age of Students: %{text:.2f}\",\"text\":[[2.773497688751926,0.3081664098613251,11.864406779661017,5.546995377503852,0.3081664098613251],[0.15408320493066255,1.386748844375963,3.235747303543914,2.3112480739599386,0.3081664098613251],[2.157164869029276,0.4622496147919877,28.19722650231125,7.704160246533128,1.2326656394453004],[1.078582434514638,0.6163328197226502,8.936825885978429,9.090909090909092,1.2326656394453004],[0.3081664098613251,0.7704160246533128,4.314329738058552,3.235747303543914,2.4653312788906008]],\"x\":[\"at_home\",\"health\",\"other\",\"services\",\"teacher\"],\"y\":[\"at_home\",\"health\",\"other\",\"services\",\"teacher\"],\"z\":[[11.833333333333334,11.0,11.090909090909092,10.555555555555555,11.0],[9.0,13.777777777777779,13.047619047619047,12.533333333333333,16.0],[11.071428571428571,11.333333333333334,11.80327868852459,11.4,11.5],[11.142857142857142,11.0,12.448275862068966,11.779661016949152,14.125],[12.5,13.0,12.642857142857142,12.952380952380953,14.375]],\"type\":\"heatmap\"}],                        {\"template\":{\"data\":{\"histogram2dcontour\":[{\"type\":\"histogram2dcontour\",\"colorbar\":{\"outlinewidth\":0,\"ticks\":\"\"},\"colorscale\":[[0.0,\"#0d0887\"],[0.1111111111111111,\"#46039f\"],[0.2222222222222222,\"#7201a8\"],[0.3333333333333333,\"#9c179e\"],[0.4444444444444444,\"#bd3786\"],[0.5555555555555556,\"#d8576b\"],[0.6666666666666666,\"#ed7953\"],[0.7777777777777778,\"#fb9f3a\"],[0.8888888888888888,\"#fdca26\"],[1.0,\"#f0f921\"]]}],\"choropleth\":[{\"type\":\"choropleth\",\"colorbar\":{\"outlinewidth\":0,\"ticks\":\"\"}}],\"histogram2d\":[{\"type\":\"histogram2d\",\"colorbar\":{\"outlinewidth\":0,\"ticks\":\"\"},\"colorscale\":[[0.0,\"#0d0887\"],[0.1111111111111111,\"#46039f\"],[0.2222222222222222,\"#7201a8\"],[0.3333333333333333,\"#9c179e\"],[0.4444444444444444,\"#bd3786\"],[0.5555555555555556,\"#d8576b\"],[0.6666666666666666,\"#ed7953\"],[0.7777777777777778,\"#fb9f3a\"],[0.8888888888888888,\"#fdca26\"],[1.0,\"#f0f921\"]]}],\"heatmap\":[{\"type\":\"heatmap\",\"colorbar\":{\"outlinewidth\":0,\"ticks\":\"\"},\"colorscale\":[[0.0,\"#0d0887\"],[0.1111111111111111,\"#46039f\"],[0.2222222222222222,\"#7201a8\"],[0.3333333333333333,\"#9c179e\"],[0.4444444444444444,\"#bd3786\"],[0.5555555555555556,\"#d8576b\"],[0.6666666666666666,\"#ed7953\"],[0.7777777777777778,\"#fb9f3a\"],[0.8888888888888888,\"#fdca26\"],[1.0,\"#f0f921\"]]}],\"heatmapgl\":[{\"type\":\"heatmapgl\",\"colorbar\":{\"outlinewidth\":0,\"ticks\":\"\"},\"colorscale\":[[0.0,\"#0d0887\"],[0.1111111111111111,\"#46039f\"],[0.2222222222222222,\"#7201a8\"],[0.3333333333333333,\"#9c179e\"],[0.4444444444444444,\"#bd3786\"],[0.5555555555555556,\"#d8576b\"],[0.6666666666666666,\"#ed7953\"],[0.7777777777777778,\"#fb9f3a\"],[0.8888888888888888,\"#fdca26\"],[1.0,\"#f0f921\"]]}],\"contourcarpet\":[{\"type\":\"contourcarpet\",\"colorbar\":{\"outlinewidth\":0,\"ticks\":\"\"}}],\"contour\":[{\"type\":\"contour\",\"colorbar\":{\"outlinewidth\":0,\"ticks\":\"\"},\"colorscale\":[[0.0,\"#0d0887\"],[0.1111111111111111,\"#46039f\"],[0.2222222222222222,\"#7201a8\"],[0.3333333333333333,\"#9c179e\"],[0.4444444444444444,\"#bd3786\"],[0.5555555555555556,\"#d8576b\"],[0.6666666666666666,\"#ed7953\"],[0.7777777777777778,\"#fb9f3a\"],[0.8888888888888888,\"#fdca26\"],[1.0,\"#f0f921\"]]}],\"surface\":[{\"type\":\"surface\",\"colorbar\":{\"outlinewidth\":0,\"ticks\":\"\"},\"colorscale\":[[0.0,\"#0d0887\"],[0.1111111111111111,\"#46039f\"],[0.2222222222222222,\"#7201a8\"],[0.3333333333333333,\"#9c179e\"],[0.4444444444444444,\"#bd3786\"],[0.5555555555555556,\"#d8576b\"],[0.6666666666666666,\"#ed7953\"],[0.7777777777777778,\"#fb9f3a\"],[0.8888888888888888,\"#fdca26\"],[1.0,\"#f0f921\"]]}],\"mesh3d\":[{\"type\":\"mesh3d\",\"colorbar\":{\"outlinewidth\":0,\"ticks\":\"\"}}],\"scatter\":[{\"fillpattern\":{\"fillmode\":\"overlay\",\"size\":10,\"solidity\":0.2},\"type\":\"scatter\"}],\"parcoords\":[{\"type\":\"parcoords\",\"line\":{\"colorbar\":{\"outlinewidth\":0,\"ticks\":\"\"}}}],\"scatterpolargl\":[{\"type\":\"scatterpolargl\",\"marker\":{\"colorbar\":{\"outlinewidth\":0,\"ticks\":\"\"}}}],\"bar\":[{\"error_x\":{\"color\":\"#2a3f5f\"},\"error_y\":{\"color\":\"#2a3f5f\"},\"marker\":{\"line\":{\"color\":\"#E5ECF6\",\"width\":0.5},\"pattern\":{\"fillmode\":\"overlay\",\"size\":10,\"solidity\":0.2}},\"type\":\"bar\"}],\"scattergeo\":[{\"type\":\"scattergeo\",\"marker\":{\"colorbar\":{\"outlinewidth\":0,\"ticks\":\"\"}}}],\"scatterpolar\":[{\"type\":\"scatterpolar\",\"marker\":{\"colorbar\":{\"outlinewidth\":0,\"ticks\":\"\"}}}],\"histogram\":[{\"marker\":{\"pattern\":{\"fillmode\":\"overlay\",\"size\":10,\"solidity\":0.2}},\"type\":\"histogram\"}],\"scattergl\":[{\"type\":\"scattergl\",\"marker\":{\"colorbar\":{\"outlinewidth\":0,\"ticks\":\"\"}}}],\"scatter3d\":[{\"type\":\"scatter3d\",\"line\":{\"colorbar\":{\"outlinewidth\":0,\"ticks\":\"\"}},\"marker\":{\"colorbar\":{\"outlinewidth\":0,\"ticks\":\"\"}}}],\"scattermapbox\":[{\"type\":\"scattermapbox\",\"marker\":{\"colorbar\":{\"outlinewidth\":0,\"ticks\":\"\"}}}],\"scatterternary\":[{\"type\":\"scatterternary\",\"marker\":{\"colorbar\":{\"outlinewidth\":0,\"ticks\":\"\"}}}],\"scattercarpet\":[{\"type\":\"scattercarpet\",\"marker\":{\"colorbar\":{\"outlinewidth\":0,\"ticks\":\"\"}}}],\"carpet\":[{\"aaxis\":{\"endlinecolor\":\"#2a3f5f\",\"gridcolor\":\"white\",\"linecolor\":\"white\",\"minorgridcolor\":\"white\",\"startlinecolor\":\"#2a3f5f\"},\"baxis\":{\"endlinecolor\":\"#2a3f5f\",\"gridcolor\":\"white\",\"linecolor\":\"white\",\"minorgridcolor\":\"white\",\"startlinecolor\":\"#2a3f5f\"},\"type\":\"carpet\"}],\"table\":[{\"cells\":{\"fill\":{\"color\":\"#EBF0F8\"},\"line\":{\"color\":\"white\"}},\"header\":{\"fill\":{\"color\":\"#C8D4E3\"},\"line\":{\"color\":\"white\"}},\"type\":\"table\"}],\"barpolar\":[{\"marker\":{\"line\":{\"color\":\"#E5ECF6\",\"width\":0.5},\"pattern\":{\"fillmode\":\"overlay\",\"size\":10,\"solidity\":0.2}},\"type\":\"barpolar\"}],\"pie\":[{\"automargin\":true,\"type\":\"pie\"}]},\"layout\":{\"autotypenumbers\":\"strict\",\"colorway\":[\"#636efa\",\"#EF553B\",\"#00cc96\",\"#ab63fa\",\"#FFA15A\",\"#19d3f3\",\"#FF6692\",\"#B6E880\",\"#FF97FF\",\"#FECB52\"],\"font\":{\"color\":\"#2a3f5f\"},\"hovermode\":\"closest\",\"hoverlabel\":{\"align\":\"left\"},\"paper_bgcolor\":\"white\",\"plot_bgcolor\":\"#E5ECF6\",\"polar\":{\"bgcolor\":\"#E5ECF6\",\"angularaxis\":{\"gridcolor\":\"white\",\"linecolor\":\"white\",\"ticks\":\"\"},\"radialaxis\":{\"gridcolor\":\"white\",\"linecolor\":\"white\",\"ticks\":\"\"}},\"ternary\":{\"bgcolor\":\"#E5ECF6\",\"aaxis\":{\"gridcolor\":\"white\",\"linecolor\":\"white\",\"ticks\":\"\"},\"baxis\":{\"gridcolor\":\"white\",\"linecolor\":\"white\",\"ticks\":\"\"},\"caxis\":{\"gridcolor\":\"white\",\"linecolor\":\"white\",\"ticks\":\"\"}},\"coloraxis\":{\"colorbar\":{\"outlinewidth\":0,\"ticks\":\"\"}},\"colorscale\":{\"sequential\":[[0.0,\"#0d0887\"],[0.1111111111111111,\"#46039f\"],[0.2222222222222222,\"#7201a8\"],[0.3333333333333333,\"#9c179e\"],[0.4444444444444444,\"#bd3786\"],[0.5555555555555556,\"#d8576b\"],[0.6666666666666666,\"#ed7953\"],[0.7777777777777778,\"#fb9f3a\"],[0.8888888888888888,\"#fdca26\"],[1.0,\"#f0f921\"]],\"sequentialminus\":[[0.0,\"#0d0887\"],[0.1111111111111111,\"#46039f\"],[0.2222222222222222,\"#7201a8\"],[0.3333333333333333,\"#9c179e\"],[0.4444444444444444,\"#bd3786\"],[0.5555555555555556,\"#d8576b\"],[0.6666666666666666,\"#ed7953\"],[0.7777777777777778,\"#fb9f3a\"],[0.8888888888888888,\"#fdca26\"],[1.0,\"#f0f921\"]],\"diverging\":[[0,\"#8e0152\"],[0.1,\"#c51b7d\"],[0.2,\"#de77ae\"],[0.3,\"#f1b6da\"],[0.4,\"#fde0ef\"],[0.5,\"#f7f7f7\"],[0.6,\"#e6f5d0\"],[0.7,\"#b8e186\"],[0.8,\"#7fbc41\"],[0.9,\"#4d9221\"],[1,\"#276419\"]]},\"xaxis\":{\"gridcolor\":\"white\",\"linecolor\":\"white\",\"ticks\":\"\",\"title\":{\"standoff\":15},\"zerolinecolor\":\"white\",\"automargin\":true,\"zerolinewidth\":2},\"yaxis\":{\"gridcolor\":\"white\",\"linecolor\":\"white\",\"ticks\":\"\",\"title\":{\"standoff\":15},\"zerolinecolor\":\"white\",\"automargin\":true,\"zerolinewidth\":2},\"scene\":{\"xaxis\":{\"backgroundcolor\":\"#E5ECF6\",\"gridcolor\":\"white\",\"linecolor\":\"white\",\"showbackground\":true,\"ticks\":\"\",\"zerolinecolor\":\"white\",\"gridwidth\":2},\"yaxis\":{\"backgroundcolor\":\"#E5ECF6\",\"gridcolor\":\"white\",\"linecolor\":\"white\",\"showbackground\":true,\"ticks\":\"\",\"zerolinecolor\":\"white\",\"gridwidth\":2},\"zaxis\":{\"backgroundcolor\":\"#E5ECF6\",\"gridcolor\":\"white\",\"linecolor\":\"white\",\"showbackground\":true,\"ticks\":\"\",\"zerolinecolor\":\"white\",\"gridwidth\":2}},\"shapedefaults\":{\"line\":{\"color\":\"#2a3f5f\"}},\"annotationdefaults\":{\"arrowcolor\":\"#2a3f5f\",\"arrowhead\":0,\"arrowwidth\":1},\"geo\":{\"bgcolor\":\"white\",\"landcolor\":\"#E5ECF6\",\"subunitcolor\":\"white\",\"showland\":true,\"showlakes\":true,\"lakecolor\":\"white\"},\"title\":{\"x\":0.05},\"mapbox\":{\"style\":\"light\"}}},\"title\":{\"text\":\"Joint effect of Father's and Mother's job on Student's Final Exam Marks\",\"x\":0.5},\"xaxis\":{\"title\":{\"text\":\"Mother's job\"}},\"yaxis\":{\"title\":{\"text\":\"Father's job\"}},\"width\":700,\"height\":700},                        {\"responsive\": true}                    ).then(function(){\n",
       "                            \n",
       "var gd = document.getElementById('df2d0084-086d-4247-a99b-1df7a2162ffe');\n",
       "var x = new MutationObserver(function (mutations, observer) {{\n",
       "        var display = window.getComputedStyle(gd).display;\n",
       "        if (!display || display === 'none') {{\n",
       "            console.log([gd, 'removed!']);\n",
       "            Plotly.purge(gd);\n",
       "            observer.disconnect();\n",
       "        }}\n",
       "}});\n",
       "\n",
       "// Listen for the removal of the full notebook cells\n",
       "var notebookContainer = gd.closest('#notebook-container');\n",
       "if (notebookContainer) {{\n",
       "    x.observe(notebookContainer, {childList: true});\n",
       "}}\n",
       "\n",
       "// Listen for the clearing of the current output cell\n",
       "var outputEl = gd.closest('.output');\n",
       "if (outputEl) {{\n",
       "    x.observe(outputEl, {childList: true});\n",
       "}}\n",
       "\n",
       "                        })                };                });            </script>        </div>"
      ]
     },
     "metadata": {},
     "output_type": "display_data"
    }
   ],
   "source": [
    "job_effect = df_por.groupby(['Mjob', 'Fjob'])['G3'].mean().unstack()\n",
    "job_effect_c = df_por.groupby(['Mjob', 'Fjob'])['G3'].count().unstack()\n",
    "\n",
    "fig = go.Figure(data = go.Heatmap(\n",
    "                z = job_effect.values, x = job_effect.columns, y = job_effect.index, text = job_effect_c.values*100/len(df_por), hovertemplate='Fathers job: %{y}<br>Mothers job: %{x}<br>Mean Final Exam Score: %{z:.2f}<br>%age of Students: %{text:.2f}',\n",
    "                colorscale = \"YlGnBu\", hoverongaps = False))\n",
    "\n",
    "fig.update_layout(title=\"Joint effect of Father's and Mother's job on Student's Final Exam Marks\",\n",
    "                 xaxis_title = \"Mother's job\",\n",
    "                 yaxis_title = \"Father's job\", title_x = 0.5,\n",
    "                 width = 700, height = 700\n",
    "                )\n",
    "\n",
    "fig.show()"
   ]
  },
  {
   "cell_type": "markdown",
   "id": "72fb92aa",
   "metadata": {
    "papermill": {
     "duration": 0.036395,
     "end_time": "2024-03-17T07:15:45.070812",
     "exception": false,
     "start_time": "2024-03-17T07:15:45.034417",
     "status": "completed"
    },
    "tags": []
   },
   "source": [
    "<b>Observation: </b>\n",
    "* 0.15% of students have their mother at home and father at health sector. Their mean score is the least, 9.\n",
    "* 0.31% of students have their mother as teacher and father at health sector and their mean score is the highest 16.\n",
    "* Mean score of students having one of their parents as teacher: 13.13 (father) & 13.59 (mother) "
   ]
  },
  {
   "cell_type": "markdown",
   "id": "b28a0c68",
   "metadata": {
    "papermill": {
     "duration": 0.035715,
     "end_time": "2024-03-17T07:15:45.140100",
     "exception": false,
     "start_time": "2024-03-17T07:15:45.104385",
     "status": "completed"
    },
    "tags": []
   },
   "source": [
    "# <center>Data Preprocessing</center>"
   ]
  },
  {
   "cell_type": "markdown",
   "id": "07793560",
   "metadata": {
    "papermill": {
     "duration": 0.034774,
     "end_time": "2024-03-17T07:15:45.209459",
     "exception": false,
     "start_time": "2024-03-17T07:15:45.174685",
     "status": "completed"
    },
    "tags": []
   },
   "source": [
    "### Binary encoding the columns having 2 unique values with 0 and 1"
   ]
  },
  {
   "cell_type": "code",
   "execution_count": 20,
   "id": "ce616bd3",
   "metadata": {
    "execution": {
     "iopub.execute_input": "2024-03-17T07:15:45.275872Z",
     "iopub.status.busy": "2024-03-17T07:15:45.275101Z",
     "iopub.status.idle": "2024-03-17T07:15:45.315781Z",
     "shell.execute_reply": "2024-03-17T07:15:45.314414Z"
    },
    "papermill": {
     "duration": 0.077082,
     "end_time": "2024-03-17T07:15:45.318599",
     "exception": false,
     "start_time": "2024-03-17T07:15:45.241517",
     "status": "completed"
    },
    "tags": []
   },
   "outputs": [],
   "source": [
    "school_encode = {'GP' : 0, 'MS' : 1}\n",
    "sex_encode = {'F' : 0, 'M' : 1}\n",
    "address_encode = {'U' : 0, 'R' : 1}\n",
    "famsize_encode = {'LE3' : 0, 'GT3' : 1}\n",
    "Pstatus_encode = {'A' : 0, 'T' : 1}\n",
    "yes_no_encode = {'yes' : 1, 'no' : 0}\n",
    "\n",
    "df_encoded = df_por.copy()\n",
    "df_encoded['school'] = df_encoded['school'].map(school_encode)\n",
    "df_encoded['sex'] = df_encoded['sex'].map(sex_encode)\n",
    "df_encoded['address'] = df_encoded['address'].map(address_encode)\n",
    "df_encoded['famsize'] = df_encoded['famsize'].map(famsize_encode)\n",
    "df_encoded['Pstatus'] = df_encoded['Pstatus'].map(Pstatus_encode)\n",
    "df_encoded = df_encoded.replace(yes_no_encode)"
   ]
  },
  {
   "cell_type": "markdown",
   "id": "17017443",
   "metadata": {
    "papermill": {
     "duration": 0.030564,
     "end_time": "2024-03-17T07:15:45.383894",
     "exception": false,
     "start_time": "2024-03-17T07:15:45.353330",
     "status": "completed"
    },
    "tags": []
   },
   "source": [
    "### One-hot encoding other categorical columns"
   ]
  },
  {
   "cell_type": "code",
   "execution_count": 21,
   "id": "cabd81bf",
   "metadata": {
    "execution": {
     "iopub.execute_input": "2024-03-17T07:15:45.450559Z",
     "iopub.status.busy": "2024-03-17T07:15:45.450159Z",
     "iopub.status.idle": "2024-03-17T07:15:45.472449Z",
     "shell.execute_reply": "2024-03-17T07:15:45.470976Z"
    },
    "papermill": {
     "duration": 0.0588,
     "end_time": "2024-03-17T07:15:45.475615",
     "exception": false,
     "start_time": "2024-03-17T07:15:45.416815",
     "status": "completed"
    },
    "tags": []
   },
   "outputs": [],
   "source": [
    "df_encoded = pd.get_dummies(df_encoded, columns = ['Mjob'], prefix = ['Mjob_'])\n",
    "df_encoded = pd.get_dummies(df_encoded, columns = ['Fjob'], prefix = ['Fjob_'])\n",
    "df_encoded = pd.get_dummies(df_encoded, columns = ['reason'], prefix = ['reason_'])\n",
    "df_encoded = pd.get_dummies(df_encoded, columns = ['guardian'], prefix = ['guardian_'])"
   ]
  },
  {
   "cell_type": "markdown",
   "id": "855417ad",
   "metadata": {
    "papermill": {
     "duration": 0.031254,
     "end_time": "2024-03-17T07:15:45.538621",
     "exception": false,
     "start_time": "2024-03-17T07:15:45.507367",
     "status": "completed"
    },
    "tags": []
   },
   "source": [
    "Converting all the data in the table to `int64`"
   ]
  },
  {
   "cell_type": "code",
   "execution_count": 22,
   "id": "005a4064",
   "metadata": {
    "execution": {
     "iopub.execute_input": "2024-03-17T07:15:45.608667Z",
     "iopub.status.busy": "2024-03-17T07:15:45.608212Z",
     "iopub.status.idle": "2024-03-17T07:15:45.627340Z",
     "shell.execute_reply": "2024-03-17T07:15:45.626048Z"
    },
    "papermill": {
     "duration": 0.058942,
     "end_time": "2024-03-17T07:15:45.630346",
     "exception": false,
     "start_time": "2024-03-17T07:15:45.571404",
     "status": "completed"
    },
    "tags": []
   },
   "outputs": [
    {
     "name": "stdout",
     "output_type": "stream",
     "text": [
      "<class 'pandas.core.frame.DataFrame'>\n",
      "RangeIndex: 649 entries, 0 to 648\n",
      "Data columns (total 46 columns):\n",
      " #   Column              Non-Null Count  Dtype\n",
      "---  ------              --------------  -----\n",
      " 0   school              649 non-null    int64\n",
      " 1   sex                 649 non-null    int64\n",
      " 2   age                 649 non-null    int64\n",
      " 3   address             649 non-null    int64\n",
      " 4   famsize             649 non-null    int64\n",
      " 5   Pstatus             649 non-null    int64\n",
      " 6   Medu                649 non-null    int64\n",
      " 7   Fedu                649 non-null    int64\n",
      " 8   traveltime          649 non-null    int64\n",
      " 9   studytime           649 non-null    int64\n",
      " 10  failures            649 non-null    int64\n",
      " 11  schoolsup           649 non-null    int64\n",
      " 12  famsup              649 non-null    int64\n",
      " 13  paid                649 non-null    int64\n",
      " 14  activities          649 non-null    int64\n",
      " 15  nursery             649 non-null    int64\n",
      " 16  higher              649 non-null    int64\n",
      " 17  internet            649 non-null    int64\n",
      " 18  romantic            649 non-null    int64\n",
      " 19  famrel              649 non-null    int64\n",
      " 20  freetime            649 non-null    int64\n",
      " 21  goout               649 non-null    int64\n",
      " 22  Dalc                649 non-null    int64\n",
      " 23  Walc                649 non-null    int64\n",
      " 24  health              649 non-null    int64\n",
      " 25  absences            649 non-null    int64\n",
      " 26  G1                  649 non-null    int64\n",
      " 27  G2                  649 non-null    int64\n",
      " 28  G3                  649 non-null    int64\n",
      " 29  Mjob__at_home       649 non-null    int64\n",
      " 30  Mjob__health        649 non-null    int64\n",
      " 31  Mjob__other         649 non-null    int64\n",
      " 32  Mjob__services      649 non-null    int64\n",
      " 33  Mjob__teacher       649 non-null    int64\n",
      " 34  Fjob__at_home       649 non-null    int64\n",
      " 35  Fjob__health        649 non-null    int64\n",
      " 36  Fjob__other         649 non-null    int64\n",
      " 37  Fjob__services      649 non-null    int64\n",
      " 38  Fjob__teacher       649 non-null    int64\n",
      " 39  reason__course      649 non-null    int64\n",
      " 40  reason__home        649 non-null    int64\n",
      " 41  reason__other       649 non-null    int64\n",
      " 42  reason__reputation  649 non-null    int64\n",
      " 43  guardian__father    649 non-null    int64\n",
      " 44  guardian__mother    649 non-null    int64\n",
      " 45  guardian__other     649 non-null    int64\n",
      "dtypes: int64(46)\n",
      "memory usage: 233.4 KB\n"
     ]
    }
   ],
   "source": [
    "df_encoded = df_encoded.astype('int64')\n",
    "df_encoded.info()"
   ]
  },
  {
   "cell_type": "code",
   "execution_count": 23,
   "id": "008374c2",
   "metadata": {
    "execution": {
     "iopub.execute_input": "2024-03-17T07:15:45.699472Z",
     "iopub.status.busy": "2024-03-17T07:15:45.699081Z",
     "iopub.status.idle": "2024-03-17T07:15:45.718944Z",
     "shell.execute_reply": "2024-03-17T07:15:45.717965Z"
    },
    "papermill": {
     "duration": 0.056866,
     "end_time": "2024-03-17T07:15:45.721228",
     "exception": false,
     "start_time": "2024-03-17T07:15:45.664362",
     "status": "completed"
    },
    "tags": []
   },
   "outputs": [
    {
     "data": {
      "text/html": [
       "<div>\n",
       "<style scoped>\n",
       "    .dataframe tbody tr th:only-of-type {\n",
       "        vertical-align: middle;\n",
       "    }\n",
       "\n",
       "    .dataframe tbody tr th {\n",
       "        vertical-align: top;\n",
       "    }\n",
       "\n",
       "    .dataframe thead th {\n",
       "        text-align: right;\n",
       "    }\n",
       "</style>\n",
       "<table border=\"1\" class=\"dataframe\">\n",
       "  <thead>\n",
       "    <tr style=\"text-align: right;\">\n",
       "      <th></th>\n",
       "      <th>school</th>\n",
       "      <th>sex</th>\n",
       "      <th>age</th>\n",
       "      <th>address</th>\n",
       "      <th>famsize</th>\n",
       "      <th>Pstatus</th>\n",
       "      <th>Medu</th>\n",
       "      <th>Fedu</th>\n",
       "      <th>traveltime</th>\n",
       "      <th>studytime</th>\n",
       "      <th>...</th>\n",
       "      <th>Fjob__other</th>\n",
       "      <th>Fjob__services</th>\n",
       "      <th>Fjob__teacher</th>\n",
       "      <th>reason__course</th>\n",
       "      <th>reason__home</th>\n",
       "      <th>reason__other</th>\n",
       "      <th>reason__reputation</th>\n",
       "      <th>guardian__father</th>\n",
       "      <th>guardian__mother</th>\n",
       "      <th>guardian__other</th>\n",
       "    </tr>\n",
       "  </thead>\n",
       "  <tbody>\n",
       "    <tr>\n",
       "      <th>0</th>\n",
       "      <td>0</td>\n",
       "      <td>0</td>\n",
       "      <td>18</td>\n",
       "      <td>0</td>\n",
       "      <td>1</td>\n",
       "      <td>0</td>\n",
       "      <td>4</td>\n",
       "      <td>4</td>\n",
       "      <td>2</td>\n",
       "      <td>2</td>\n",
       "      <td>...</td>\n",
       "      <td>0</td>\n",
       "      <td>0</td>\n",
       "      <td>1</td>\n",
       "      <td>1</td>\n",
       "      <td>0</td>\n",
       "      <td>0</td>\n",
       "      <td>0</td>\n",
       "      <td>0</td>\n",
       "      <td>1</td>\n",
       "      <td>0</td>\n",
       "    </tr>\n",
       "    <tr>\n",
       "      <th>1</th>\n",
       "      <td>0</td>\n",
       "      <td>0</td>\n",
       "      <td>17</td>\n",
       "      <td>0</td>\n",
       "      <td>1</td>\n",
       "      <td>1</td>\n",
       "      <td>1</td>\n",
       "      <td>1</td>\n",
       "      <td>1</td>\n",
       "      <td>2</td>\n",
       "      <td>...</td>\n",
       "      <td>1</td>\n",
       "      <td>0</td>\n",
       "      <td>0</td>\n",
       "      <td>1</td>\n",
       "      <td>0</td>\n",
       "      <td>0</td>\n",
       "      <td>0</td>\n",
       "      <td>1</td>\n",
       "      <td>0</td>\n",
       "      <td>0</td>\n",
       "    </tr>\n",
       "    <tr>\n",
       "      <th>2</th>\n",
       "      <td>0</td>\n",
       "      <td>0</td>\n",
       "      <td>15</td>\n",
       "      <td>0</td>\n",
       "      <td>0</td>\n",
       "      <td>1</td>\n",
       "      <td>1</td>\n",
       "      <td>1</td>\n",
       "      <td>1</td>\n",
       "      <td>2</td>\n",
       "      <td>...</td>\n",
       "      <td>1</td>\n",
       "      <td>0</td>\n",
       "      <td>0</td>\n",
       "      <td>0</td>\n",
       "      <td>0</td>\n",
       "      <td>1</td>\n",
       "      <td>0</td>\n",
       "      <td>0</td>\n",
       "      <td>1</td>\n",
       "      <td>0</td>\n",
       "    </tr>\n",
       "    <tr>\n",
       "      <th>3</th>\n",
       "      <td>0</td>\n",
       "      <td>0</td>\n",
       "      <td>15</td>\n",
       "      <td>0</td>\n",
       "      <td>1</td>\n",
       "      <td>1</td>\n",
       "      <td>4</td>\n",
       "      <td>2</td>\n",
       "      <td>1</td>\n",
       "      <td>3</td>\n",
       "      <td>...</td>\n",
       "      <td>0</td>\n",
       "      <td>1</td>\n",
       "      <td>0</td>\n",
       "      <td>0</td>\n",
       "      <td>1</td>\n",
       "      <td>0</td>\n",
       "      <td>0</td>\n",
       "      <td>0</td>\n",
       "      <td>1</td>\n",
       "      <td>0</td>\n",
       "    </tr>\n",
       "    <tr>\n",
       "      <th>4</th>\n",
       "      <td>0</td>\n",
       "      <td>0</td>\n",
       "      <td>16</td>\n",
       "      <td>0</td>\n",
       "      <td>1</td>\n",
       "      <td>1</td>\n",
       "      <td>3</td>\n",
       "      <td>3</td>\n",
       "      <td>1</td>\n",
       "      <td>2</td>\n",
       "      <td>...</td>\n",
       "      <td>1</td>\n",
       "      <td>0</td>\n",
       "      <td>0</td>\n",
       "      <td>0</td>\n",
       "      <td>1</td>\n",
       "      <td>0</td>\n",
       "      <td>0</td>\n",
       "      <td>1</td>\n",
       "      <td>0</td>\n",
       "      <td>0</td>\n",
       "    </tr>\n",
       "  </tbody>\n",
       "</table>\n",
       "<p>5 rows × 46 columns</p>\n",
       "</div>"
      ],
      "text/plain": [
       "   school  sex  age  address  famsize  Pstatus  Medu  Fedu  traveltime  \\\n",
       "0       0    0   18        0        1        0     4     4           2   \n",
       "1       0    0   17        0        1        1     1     1           1   \n",
       "2       0    0   15        0        0        1     1     1           1   \n",
       "3       0    0   15        0        1        1     4     2           1   \n",
       "4       0    0   16        0        1        1     3     3           1   \n",
       "\n",
       "   studytime  ...  Fjob__other  Fjob__services  Fjob__teacher  reason__course  \\\n",
       "0          2  ...            0               0              1               1   \n",
       "1          2  ...            1               0              0               1   \n",
       "2          2  ...            1               0              0               0   \n",
       "3          3  ...            0               1              0               0   \n",
       "4          2  ...            1               0              0               0   \n",
       "\n",
       "   reason__home  reason__other  reason__reputation  guardian__father  \\\n",
       "0             0              0                   0                 0   \n",
       "1             0              0                   0                 1   \n",
       "2             0              1                   0                 0   \n",
       "3             1              0                   0                 0   \n",
       "4             1              0                   0                 1   \n",
       "\n",
       "   guardian__mother  guardian__other  \n",
       "0                 1                0  \n",
       "1                 0                0  \n",
       "2                 1                0  \n",
       "3                 1                0  \n",
       "4                 0                0  \n",
       "\n",
       "[5 rows x 46 columns]"
      ]
     },
     "execution_count": 23,
     "metadata": {},
     "output_type": "execute_result"
    }
   ],
   "source": [
    "df_encoded.head()"
   ]
  },
  {
   "cell_type": "markdown",
   "id": "ccba6444",
   "metadata": {
    "papermill": {
     "duration": 0.032694,
     "end_time": "2024-03-17T07:15:45.785332",
     "exception": false,
     "start_time": "2024-03-17T07:15:45.752638",
     "status": "completed"
    },
    "tags": []
   },
   "source": [
    "#### From here, we split our dataset into train and test for model training and testing purposes"
   ]
  },
  {
   "cell_type": "code",
   "execution_count": 24,
   "id": "0f461e74",
   "metadata": {
    "execution": {
     "iopub.execute_input": "2024-03-17T07:15:45.859883Z",
     "iopub.status.busy": "2024-03-17T07:15:45.859490Z",
     "iopub.status.idle": "2024-03-17T07:15:46.212043Z",
     "shell.execute_reply": "2024-03-17T07:15:46.210708Z"
    },
    "papermill": {
     "duration": 0.393824,
     "end_time": "2024-03-17T07:15:46.214813",
     "exception": false,
     "start_time": "2024-03-17T07:15:45.820989",
     "status": "completed"
    },
    "tags": []
   },
   "outputs": [],
   "source": [
    "from sklearn.model_selection import train_test_split\n",
    "X = df_encoded.drop(columns = ['G3'])\n",
    "y = df_encoded['G3']\n",
    "\n",
    "X_train, X_test, y_train, y_test = train_test_split(X,y,test_size = 0.3, random_state = 13)"
   ]
  },
  {
   "cell_type": "markdown",
   "id": "35e127ce",
   "metadata": {
    "papermill": {
     "duration": 0.034009,
     "end_time": "2024-03-17T07:15:46.282060",
     "exception": false,
     "start_time": "2024-03-17T07:15:46.248051",
     "status": "completed"
    },
    "tags": []
   },
   "source": [
    "### Let's scale our dataset using z-score method to maintain uniformity among features"
   ]
  },
  {
   "cell_type": "code",
   "execution_count": 25,
   "id": "782772b4",
   "metadata": {
    "execution": {
     "iopub.execute_input": "2024-03-17T07:15:46.352794Z",
     "iopub.status.busy": "2024-03-17T07:15:46.352361Z",
     "iopub.status.idle": "2024-03-17T07:15:46.368748Z",
     "shell.execute_reply": "2024-03-17T07:15:46.366894Z"
    },
    "papermill": {
     "duration": 0.057285,
     "end_time": "2024-03-17T07:15:46.371744",
     "exception": false,
     "start_time": "2024-03-17T07:15:46.314459",
     "status": "completed"
    },
    "tags": []
   },
   "outputs": [],
   "source": [
    "from sklearn.preprocessing import StandardScaler\n",
    "\n",
    "scale = StandardScaler()\n",
    "X_train_scaled = scale.fit_transform(X_train)\n",
    "X_test_scaled = scale.transform(X_test)"
   ]
  },
  {
   "cell_type": "markdown",
   "id": "d3474bb8",
   "metadata": {
    "papermill": {
     "duration": 0.036776,
     "end_time": "2024-03-17T07:15:46.442873",
     "exception": false,
     "start_time": "2024-03-17T07:15:46.406097",
     "status": "completed"
    },
    "tags": []
   },
   "source": [
    "<h1><center>Model Building</center></h1>"
   ]
  },
  {
   "cell_type": "code",
   "execution_count": 26,
   "id": "21475581",
   "metadata": {
    "execution": {
     "iopub.execute_input": "2024-03-17T07:15:46.513132Z",
     "iopub.status.busy": "2024-03-17T07:15:46.512716Z",
     "iopub.status.idle": "2024-03-17T07:15:46.535811Z",
     "shell.execute_reply": "2024-03-17T07:15:46.534311Z"
    },
    "papermill": {
     "duration": 0.06306,
     "end_time": "2024-03-17T07:15:46.538845",
     "exception": false,
     "start_time": "2024-03-17T07:15:46.475785",
     "status": "completed"
    },
    "tags": []
   },
   "outputs": [
    {
     "data": {
      "text/html": [
       "<div>\n",
       "<style scoped>\n",
       "    .dataframe tbody tr th:only-of-type {\n",
       "        vertical-align: middle;\n",
       "    }\n",
       "\n",
       "    .dataframe tbody tr th {\n",
       "        vertical-align: top;\n",
       "    }\n",
       "\n",
       "    .dataframe thead th {\n",
       "        text-align: right;\n",
       "    }\n",
       "</style>\n",
       "<table border=\"1\" class=\"dataframe\">\n",
       "  <thead>\n",
       "    <tr style=\"text-align: right;\">\n",
       "      <th></th>\n",
       "      <th>school</th>\n",
       "      <th>sex</th>\n",
       "      <th>age</th>\n",
       "      <th>address</th>\n",
       "      <th>famsize</th>\n",
       "      <th>Pstatus</th>\n",
       "      <th>Medu</th>\n",
       "      <th>Fedu</th>\n",
       "      <th>traveltime</th>\n",
       "      <th>studytime</th>\n",
       "      <th>...</th>\n",
       "      <th>Fjob__other</th>\n",
       "      <th>Fjob__services</th>\n",
       "      <th>Fjob__teacher</th>\n",
       "      <th>reason__course</th>\n",
       "      <th>reason__home</th>\n",
       "      <th>reason__other</th>\n",
       "      <th>reason__reputation</th>\n",
       "      <th>guardian__father</th>\n",
       "      <th>guardian__mother</th>\n",
       "      <th>guardian__other</th>\n",
       "    </tr>\n",
       "  </thead>\n",
       "  <tbody>\n",
       "    <tr>\n",
       "      <th>27</th>\n",
       "      <td>0</td>\n",
       "      <td>1</td>\n",
       "      <td>15</td>\n",
       "      <td>0</td>\n",
       "      <td>1</td>\n",
       "      <td>1</td>\n",
       "      <td>4</td>\n",
       "      <td>2</td>\n",
       "      <td>1</td>\n",
       "      <td>1</td>\n",
       "      <td>...</td>\n",
       "      <td>0</td>\n",
       "      <td>1</td>\n",
       "      <td>0</td>\n",
       "      <td>0</td>\n",
       "      <td>0</td>\n",
       "      <td>1</td>\n",
       "      <td>0</td>\n",
       "      <td>0</td>\n",
       "      <td>1</td>\n",
       "      <td>0</td>\n",
       "    </tr>\n",
       "    <tr>\n",
       "      <th>97</th>\n",
       "      <td>0</td>\n",
       "      <td>0</td>\n",
       "      <td>16</td>\n",
       "      <td>0</td>\n",
       "      <td>1</td>\n",
       "      <td>1</td>\n",
       "      <td>2</td>\n",
       "      <td>1</td>\n",
       "      <td>1</td>\n",
       "      <td>2</td>\n",
       "      <td>...</td>\n",
       "      <td>1</td>\n",
       "      <td>0</td>\n",
       "      <td>0</td>\n",
       "      <td>1</td>\n",
       "      <td>0</td>\n",
       "      <td>0</td>\n",
       "      <td>0</td>\n",
       "      <td>0</td>\n",
       "      <td>1</td>\n",
       "      <td>0</td>\n",
       "    </tr>\n",
       "    <tr>\n",
       "      <th>482</th>\n",
       "      <td>1</td>\n",
       "      <td>0</td>\n",
       "      <td>15</td>\n",
       "      <td>1</td>\n",
       "      <td>0</td>\n",
       "      <td>1</td>\n",
       "      <td>1</td>\n",
       "      <td>1</td>\n",
       "      <td>2</td>\n",
       "      <td>1</td>\n",
       "      <td>...</td>\n",
       "      <td>1</td>\n",
       "      <td>0</td>\n",
       "      <td>0</td>\n",
       "      <td>1</td>\n",
       "      <td>0</td>\n",
       "      <td>0</td>\n",
       "      <td>0</td>\n",
       "      <td>0</td>\n",
       "      <td>1</td>\n",
       "      <td>0</td>\n",
       "    </tr>\n",
       "    <tr>\n",
       "      <th>187</th>\n",
       "      <td>0</td>\n",
       "      <td>0</td>\n",
       "      <td>16</td>\n",
       "      <td>0</td>\n",
       "      <td>1</td>\n",
       "      <td>1</td>\n",
       "      <td>1</td>\n",
       "      <td>3</td>\n",
       "      <td>1</td>\n",
       "      <td>2</td>\n",
       "      <td>...</td>\n",
       "      <td>0</td>\n",
       "      <td>1</td>\n",
       "      <td>0</td>\n",
       "      <td>0</td>\n",
       "      <td>1</td>\n",
       "      <td>0</td>\n",
       "      <td>0</td>\n",
       "      <td>0</td>\n",
       "      <td>1</td>\n",
       "      <td>0</td>\n",
       "    </tr>\n",
       "    <tr>\n",
       "      <th>235</th>\n",
       "      <td>0</td>\n",
       "      <td>0</td>\n",
       "      <td>17</td>\n",
       "      <td>0</td>\n",
       "      <td>1</td>\n",
       "      <td>1</td>\n",
       "      <td>1</td>\n",
       "      <td>1</td>\n",
       "      <td>1</td>\n",
       "      <td>3</td>\n",
       "      <td>...</td>\n",
       "      <td>1</td>\n",
       "      <td>0</td>\n",
       "      <td>0</td>\n",
       "      <td>0</td>\n",
       "      <td>0</td>\n",
       "      <td>0</td>\n",
       "      <td>1</td>\n",
       "      <td>0</td>\n",
       "      <td>1</td>\n",
       "      <td>0</td>\n",
       "    </tr>\n",
       "    <tr>\n",
       "      <th>...</th>\n",
       "      <td>...</td>\n",
       "      <td>...</td>\n",
       "      <td>...</td>\n",
       "      <td>...</td>\n",
       "      <td>...</td>\n",
       "      <td>...</td>\n",
       "      <td>...</td>\n",
       "      <td>...</td>\n",
       "      <td>...</td>\n",
       "      <td>...</td>\n",
       "      <td>...</td>\n",
       "      <td>...</td>\n",
       "      <td>...</td>\n",
       "      <td>...</td>\n",
       "      <td>...</td>\n",
       "      <td>...</td>\n",
       "      <td>...</td>\n",
       "      <td>...</td>\n",
       "      <td>...</td>\n",
       "      <td>...</td>\n",
       "      <td>...</td>\n",
       "    </tr>\n",
       "    <tr>\n",
       "      <th>153</th>\n",
       "      <td>0</td>\n",
       "      <td>0</td>\n",
       "      <td>15</td>\n",
       "      <td>0</td>\n",
       "      <td>1</td>\n",
       "      <td>1</td>\n",
       "      <td>4</td>\n",
       "      <td>4</td>\n",
       "      <td>1</td>\n",
       "      <td>3</td>\n",
       "      <td>...</td>\n",
       "      <td>0</td>\n",
       "      <td>1</td>\n",
       "      <td>0</td>\n",
       "      <td>1</td>\n",
       "      <td>0</td>\n",
       "      <td>0</td>\n",
       "      <td>0</td>\n",
       "      <td>0</td>\n",
       "      <td>1</td>\n",
       "      <td>0</td>\n",
       "    </tr>\n",
       "    <tr>\n",
       "      <th>528</th>\n",
       "      <td>1</td>\n",
       "      <td>0</td>\n",
       "      <td>17</td>\n",
       "      <td>1</td>\n",
       "      <td>1</td>\n",
       "      <td>1</td>\n",
       "      <td>2</td>\n",
       "      <td>2</td>\n",
       "      <td>1</td>\n",
       "      <td>1</td>\n",
       "      <td>...</td>\n",
       "      <td>1</td>\n",
       "      <td>0</td>\n",
       "      <td>0</td>\n",
       "      <td>0</td>\n",
       "      <td>0</td>\n",
       "      <td>1</td>\n",
       "      <td>0</td>\n",
       "      <td>0</td>\n",
       "      <td>1</td>\n",
       "      <td>0</td>\n",
       "    </tr>\n",
       "    <tr>\n",
       "      <th>74</th>\n",
       "      <td>0</td>\n",
       "      <td>0</td>\n",
       "      <td>16</td>\n",
       "      <td>0</td>\n",
       "      <td>1</td>\n",
       "      <td>1</td>\n",
       "      <td>3</td>\n",
       "      <td>3</td>\n",
       "      <td>1</td>\n",
       "      <td>2</td>\n",
       "      <td>...</td>\n",
       "      <td>0</td>\n",
       "      <td>1</td>\n",
       "      <td>0</td>\n",
       "      <td>0</td>\n",
       "      <td>1</td>\n",
       "      <td>0</td>\n",
       "      <td>0</td>\n",
       "      <td>0</td>\n",
       "      <td>1</td>\n",
       "      <td>0</td>\n",
       "    </tr>\n",
       "    <tr>\n",
       "      <th>176</th>\n",
       "      <td>0</td>\n",
       "      <td>1</td>\n",
       "      <td>15</td>\n",
       "      <td>0</td>\n",
       "      <td>0</td>\n",
       "      <td>1</td>\n",
       "      <td>1</td>\n",
       "      <td>2</td>\n",
       "      <td>2</td>\n",
       "      <td>1</td>\n",
       "      <td>...</td>\n",
       "      <td>1</td>\n",
       "      <td>0</td>\n",
       "      <td>0</td>\n",
       "      <td>1</td>\n",
       "      <td>0</td>\n",
       "      <td>0</td>\n",
       "      <td>0</td>\n",
       "      <td>0</td>\n",
       "      <td>1</td>\n",
       "      <td>0</td>\n",
       "    </tr>\n",
       "    <tr>\n",
       "      <th>338</th>\n",
       "      <td>0</td>\n",
       "      <td>0</td>\n",
       "      <td>17</td>\n",
       "      <td>1</td>\n",
       "      <td>0</td>\n",
       "      <td>1</td>\n",
       "      <td>3</td>\n",
       "      <td>1</td>\n",
       "      <td>2</td>\n",
       "      <td>4</td>\n",
       "      <td>...</td>\n",
       "      <td>1</td>\n",
       "      <td>0</td>\n",
       "      <td>0</td>\n",
       "      <td>0</td>\n",
       "      <td>0</td>\n",
       "      <td>0</td>\n",
       "      <td>1</td>\n",
       "      <td>0</td>\n",
       "      <td>1</td>\n",
       "      <td>0</td>\n",
       "    </tr>\n",
       "  </tbody>\n",
       "</table>\n",
       "<p>454 rows × 45 columns</p>\n",
       "</div>"
      ],
      "text/plain": [
       "     school  sex  age  address  famsize  Pstatus  Medu  Fedu  traveltime  \\\n",
       "27        0    1   15        0        1        1     4     2           1   \n",
       "97        0    0   16        0        1        1     2     1           1   \n",
       "482       1    0   15        1        0        1     1     1           2   \n",
       "187       0    0   16        0        1        1     1     3           1   \n",
       "235       0    0   17        0        1        1     1     1           1   \n",
       "..      ...  ...  ...      ...      ...      ...   ...   ...         ...   \n",
       "153       0    0   15        0        1        1     4     4           1   \n",
       "528       1    0   17        1        1        1     2     2           1   \n",
       "74        0    0   16        0        1        1     3     3           1   \n",
       "176       0    1   15        0        0        1     1     2           2   \n",
       "338       0    0   17        1        0        1     3     1           2   \n",
       "\n",
       "     studytime  ...  Fjob__other  Fjob__services  Fjob__teacher  \\\n",
       "27           1  ...            0               1              0   \n",
       "97           2  ...            1               0              0   \n",
       "482          1  ...            1               0              0   \n",
       "187          2  ...            0               1              0   \n",
       "235          3  ...            1               0              0   \n",
       "..         ...  ...          ...             ...            ...   \n",
       "153          3  ...            0               1              0   \n",
       "528          1  ...            1               0              0   \n",
       "74           2  ...            0               1              0   \n",
       "176          1  ...            1               0              0   \n",
       "338          4  ...            1               0              0   \n",
       "\n",
       "     reason__course  reason__home  reason__other  reason__reputation  \\\n",
       "27                0             0              1                   0   \n",
       "97                1             0              0                   0   \n",
       "482               1             0              0                   0   \n",
       "187               0             1              0                   0   \n",
       "235               0             0              0                   1   \n",
       "..              ...           ...            ...                 ...   \n",
       "153               1             0              0                   0   \n",
       "528               0             0              1                   0   \n",
       "74                0             1              0                   0   \n",
       "176               1             0              0                   0   \n",
       "338               0             0              0                   1   \n",
       "\n",
       "     guardian__father  guardian__mother  guardian__other  \n",
       "27                  0                 1                0  \n",
       "97                  0                 1                0  \n",
       "482                 0                 1                0  \n",
       "187                 0                 1                0  \n",
       "235                 0                 1                0  \n",
       "..                ...               ...              ...  \n",
       "153                 0                 1                0  \n",
       "528                 0                 1                0  \n",
       "74                  0                 1                0  \n",
       "176                 0                 1                0  \n",
       "338                 0                 1                0  \n",
       "\n",
       "[454 rows x 45 columns]"
      ]
     },
     "execution_count": 26,
     "metadata": {},
     "output_type": "execute_result"
    }
   ],
   "source": [
    "X_train"
   ]
  },
  {
   "cell_type": "code",
   "execution_count": 27,
   "id": "751aa184",
   "metadata": {
    "execution": {
     "iopub.execute_input": "2024-03-17T07:15:46.606748Z",
     "iopub.status.busy": "2024-03-17T07:15:46.606289Z",
     "iopub.status.idle": "2024-03-17T07:15:46.614256Z",
     "shell.execute_reply": "2024-03-17T07:15:46.613339Z"
    },
    "papermill": {
     "duration": 0.045751,
     "end_time": "2024-03-17T07:15:46.616467",
     "exception": false,
     "start_time": "2024-03-17T07:15:46.570716",
     "status": "completed"
    },
    "tags": []
   },
   "outputs": [
    {
     "data": {
      "text/plain": [
       "27     11\n",
       "97     12\n",
       "482     9\n",
       "187    13\n",
       "235    12\n",
       "       ..\n",
       "153    13\n",
       "528     9\n",
       "74     11\n",
       "176    10\n",
       "338    19\n",
       "Name: G3, Length: 454, dtype: int64"
      ]
     },
     "execution_count": 27,
     "metadata": {},
     "output_type": "execute_result"
    }
   ],
   "source": [
    "y_train"
   ]
  },
  {
   "cell_type": "markdown",
   "id": "733d314f",
   "metadata": {
    "papermill": {
     "duration": 0.035792,
     "end_time": "2024-03-17T07:15:46.685571",
     "exception": false,
     "start_time": "2024-03-17T07:15:46.649779",
     "status": "completed"
    },
    "tags": []
   },
   "source": [
    "**Let us define our metric:**<br> We will be using `mean_squared_error` as our metric for this regression problem\n"
   ]
  },
  {
   "cell_type": "code",
   "execution_count": 28,
   "id": "1eb015a2",
   "metadata": {
    "execution": {
     "iopub.execute_input": "2024-03-17T07:15:46.759992Z",
     "iopub.status.busy": "2024-03-17T07:15:46.758513Z",
     "iopub.status.idle": "2024-03-17T07:15:46.764098Z",
     "shell.execute_reply": "2024-03-17T07:15:46.763022Z"
    },
    "papermill": {
     "duration": 0.045721,
     "end_time": "2024-03-17T07:15:46.767283",
     "exception": false,
     "start_time": "2024-03-17T07:15:46.721562",
     "status": "completed"
    },
    "tags": []
   },
   "outputs": [],
   "source": [
    "from sklearn.metrics import mean_squared_error as MSE"
   ]
  },
  {
   "cell_type": "markdown",
   "id": "9321ba49",
   "metadata": {
    "papermill": {
     "duration": 0.036073,
     "end_time": "2024-03-17T07:15:46.838384",
     "exception": false,
     "start_time": "2024-03-17T07:15:46.802311",
     "status": "completed"
    },
    "tags": []
   },
   "source": [
    "### **We will be starting with basic models and slowly increase complexity, in all the methods 5-fold Cross Validation is used to mitigate overfitting**"
   ]
  },
  {
   "cell_type": "markdown",
   "id": "39005899",
   "metadata": {
    "papermill": {
     "duration": 0.040978,
     "end_time": "2024-03-17T07:15:46.920212",
     "exception": false,
     "start_time": "2024-03-17T07:15:46.879234",
     "status": "completed"
    },
    "tags": []
   },
   "source": [
    "# Decision Tree Regressor"
   ]
  },
  {
   "cell_type": "markdown",
   "id": "01f12abb",
   "metadata": {
    "papermill": {
     "duration": 0.03659,
     "end_time": "2024-03-17T07:15:46.997355",
     "exception": false,
     "start_time": "2024-03-17T07:15:46.960765",
     "status": "completed"
    },
    "tags": []
   },
   "source": [
    "#### Let's see performance of Decision Trees using `DecisionTreeRegressor` from `sklearn.tree`"
   ]
  },
  {
   "cell_type": "markdown",
   "id": "bac85314",
   "metadata": {
    "papermill": {
     "duration": 0.035972,
     "end_time": "2024-03-17T07:15:47.075308",
     "exception": false,
     "start_time": "2024-03-17T07:15:47.039336",
     "status": "completed"
    },
    "tags": []
   },
   "source": [
    "We will first use randomized hyperparameter search to find the best parameters and then do a grid search around the best set of parameters found from random search."
   ]
  },
  {
   "cell_type": "code",
   "execution_count": 29,
   "id": "b04f3389",
   "metadata": {
    "execution": {
     "iopub.execute_input": "2024-03-17T07:15:47.156016Z",
     "iopub.status.busy": "2024-03-17T07:15:47.155477Z",
     "iopub.status.idle": "2024-03-17T07:15:50.074994Z",
     "shell.execute_reply": "2024-03-17T07:15:50.073905Z"
    },
    "papermill": {
     "duration": 2.963669,
     "end_time": "2024-03-17T07:15:50.077889",
     "exception": false,
     "start_time": "2024-03-17T07:15:47.114220",
     "status": "completed"
    },
    "tags": []
   },
   "outputs": [
    {
     "name": "stdout",
     "output_type": "stream",
     "text": [
      "Best Parameters (Random Search): {'min_samples_split': 15, 'min_samples_leaf': 7, 'max_features': None, 'max_depth': 14, 'criterion': 'friedman_mse'}\n",
      "Best Score(Random Search) (Negative MSE): -2.386206322892962\n"
     ]
    }
   ],
   "source": [
    "from sklearn.tree import DecisionTreeRegressor\n",
    "from sklearn.model_selection import RandomizedSearchCV, GridSearchCV\n",
    "\n",
    "DTree = DecisionTreeRegressor(random_state = 17)\n",
    "\n",
    "seed = np.random.RandomState(11)\n",
    "rand_params = {\n",
    "    'max_depth': seed.randint(1, 20, 10),\n",
    "    'min_samples_split': seed.randint(2, 20, 10),\n",
    "    'min_samples_leaf': seed.randint(1, 20, 10),\n",
    "    'max_features': ['sqrt', 'log2', None],\n",
    "    'criterion': ['squared_error', 'friedman_mse', 'absolute_error']\n",
    "}\n",
    "random_search = RandomizedSearchCV(DTree, param_distributions = rand_params, n_iter = 10, scoring = 'neg_mean_squared_error', cv = 5, n_jobs = -1, random_state = 42)\n",
    "\n",
    "\n",
    "random_search.fit(X_train, y_train)\n",
    "print(\"Best Parameters (Random Search):\", random_search.best_params_)\n",
    "print(\"Best Score(Random Search) (Negative MSE):\", random_search.best_score_)"
   ]
  },
  {
   "cell_type": "markdown",
   "id": "97f7a2a4",
   "metadata": {
    "papermill": {
     "duration": 0.030786,
     "end_time": "2024-03-17T07:15:50.142506",
     "exception": false,
     "start_time": "2024-03-17T07:15:50.111720",
     "status": "completed"
    },
    "tags": []
   },
   "source": [
    "Now, we will use Grid Search about the best parameters given by random search"
   ]
  },
  {
   "cell_type": "code",
   "execution_count": 30,
   "id": "5b9fa4ca",
   "metadata": {
    "execution": {
     "iopub.execute_input": "2024-03-17T07:15:50.211243Z",
     "iopub.status.busy": "2024-03-17T07:15:50.210420Z",
     "iopub.status.idle": "2024-03-17T07:15:51.598129Z",
     "shell.execute_reply": "2024-03-17T07:15:51.596231Z"
    },
    "papermill": {
     "duration": 1.426679,
     "end_time": "2024-03-17T07:15:51.600862",
     "exception": false,
     "start_time": "2024-03-17T07:15:50.174183",
     "status": "completed"
    },
    "tags": []
   },
   "outputs": [
    {
     "name": "stdout",
     "output_type": "stream",
     "text": [
      "Best Parameters:  {'max_depth': 12, 'min_samples_leaf': 8, 'min_samples_split': 13}\n",
      "Best Score (Negative MSE):  -2.324576082841572\n"
     ]
    }
   ],
   "source": [
    "best_rand_params = random_search.best_params_\n",
    "grid_params = {\n",
    "    'min_samples_split' : range(best_rand_params['min_samples_split']-2,best_rand_params['min_samples_split']+2),\n",
    "    'min_samples_leaf' : range(best_rand_params['min_samples_leaf']-2,best_rand_params['min_samples_leaf']+2),\n",
    "    'max_depth' : range(best_rand_params['max_depth']-2,best_rand_params['max_depth']+2)\n",
    "}\n",
    "\n",
    "DTree = DecisionTreeRegressor(max_features = None, criterion = 'friedman_mse', random_state = 17)\n",
    "grid_search = GridSearchCV(DTree, param_grid = grid_params, cv = 5, scoring = 'neg_mean_squared_error', n_jobs = -1)\n",
    "\n",
    "grid_search.fit(X_train, y_train)\n",
    "print(\"Best Parameters: \", grid_search.best_params_)\n",
    "print(\"Best Score (Negative MSE): \", grid_search.best_score_)"
   ]
  },
  {
   "cell_type": "code",
   "execution_count": 31,
   "id": "8c0c9cb8",
   "metadata": {
    "execution": {
     "iopub.execute_input": "2024-03-17T07:15:51.687398Z",
     "iopub.status.busy": "2024-03-17T07:15:51.686976Z",
     "iopub.status.idle": "2024-03-17T07:15:51.692446Z",
     "shell.execute_reply": "2024-03-17T07:15:51.691335Z"
    },
    "papermill": {
     "duration": 0.057789,
     "end_time": "2024-03-17T07:15:51.695915",
     "exception": false,
     "start_time": "2024-03-17T07:15:51.638126",
     "status": "completed"
    },
    "tags": []
   },
   "outputs": [],
   "source": [
    "best_DTree = grid_search.best_estimator_"
   ]
  },
  {
   "cell_type": "markdown",
   "id": "6f2f6491",
   "metadata": {
    "papermill": {
     "duration": 0.042434,
     "end_time": "2024-03-17T07:15:51.787230",
     "exception": false,
     "start_time": "2024-03-17T07:15:51.744796",
     "status": "completed"
    },
    "tags": []
   },
   "source": [
    "### Learning Curve for Decision Trees"
   ]
  },
  {
   "cell_type": "code",
   "execution_count": 32,
   "id": "97f24e98",
   "metadata": {
    "execution": {
     "iopub.execute_input": "2024-03-17T07:15:51.857990Z",
     "iopub.status.busy": "2024-03-17T07:15:51.856948Z",
     "iopub.status.idle": "2024-03-17T07:15:52.924411Z",
     "shell.execute_reply": "2024-03-17T07:15:52.923029Z"
    },
    "papermill": {
     "duration": 1.106336,
     "end_time": "2024-03-17T07:15:52.927712",
     "exception": false,
     "start_time": "2024-03-17T07:15:51.821376",
     "status": "completed"
    },
    "tags": []
   },
   "outputs": [
    {
     "data": {
      "image/png": "[encoded data removed]",
      "text/plain": [
       "<Figure size 640x480 with 1 Axes>"
      ]
     },
     "metadata": {},
     "output_type": "display_data"
    }
   ],
   "source": [
    "from sklearn.model_selection import learning_curve\n",
    "\n",
    "train_sizes, train_scores, test_scores = learning_curve(\n",
    "    best_DTree, X, y, train_sizes=np.linspace(0.1, 1.0, 10), cv=5)\n",
    "\n",
    "train_mean = np.mean(train_scores, axis=1)\n",
    "train_std = np.std(train_scores, axis=1)\n",
    "test_mean = np.mean(test_scores, axis=1)\n",
    "test_std = np.std(test_scores, axis=1)\n",
    "\n",
    "plt.plot(train_sizes, train_mean, color='blue', marker='o', label='Training')\n",
    "plt.fill_between(train_sizes, train_mean + train_std, train_mean - train_std, alpha=0.15, color='blue')\n",
    "plt.plot(train_sizes, test_mean, color='green', linestyle='--', marker='s', label='Validation')\n",
    "plt.fill_between(train_sizes, test_mean + test_std, test_mean - test_std, alpha=0.15, color='green')\n",
    "\n",
    "plt.xlabel('Number of Training Samples')\n",
    "plt.ylabel('Mean Squared Error')\n",
    "plt.legend()\n",
    "plt.show()"
   ]
  },
  {
   "cell_type": "markdown",
   "id": "81bdff2b",
   "metadata": {
    "papermill": {
     "duration": 0.034366,
     "end_time": "2024-03-17T07:15:52.998280",
     "exception": false,
     "start_time": "2024-03-17T07:15:52.963914",
     "status": "completed"
    },
    "tags": []
   },
   "source": [
    "<b>Building the model which gave the best score in grid search and train it on the whole training set</b>"
   ]
  },
  {
   "cell_type": "code",
   "execution_count": 33,
   "id": "c3711286",
   "metadata": {
    "execution": {
     "iopub.execute_input": "2024-03-17T07:15:53.070533Z",
     "iopub.status.busy": "2024-03-17T07:15:53.069987Z",
     "iopub.status.idle": "2024-03-17T07:15:53.087682Z",
     "shell.execute_reply": "2024-03-17T07:15:53.086819Z"
    },
    "papermill": {
     "duration": 0.054911,
     "end_time": "2024-03-17T07:15:53.090155",
     "exception": false,
     "start_time": "2024-03-17T07:15:53.035244",
     "status": "completed"
    },
    "tags": []
   },
   "outputs": [
    {
     "data": {
      "text/html": [
       "<style>#sk-container-id-1 {color: black;background-color: white;}#sk-container-id-1 pre{padding: 0;}#sk-container-id-1 div.sk-toggleable {background-color: white;}#sk-container-id-1 label.sk-toggleable__label {cursor: pointer;display: block;width: 100%;margin-bottom: 0;padding: 0.3em;box-sizing: border-box;text-align: center;}#sk-container-id-1 label.sk-toggleable__label-arrow:before {content: \"▸\";float: left;margin-right: 0.25em;color: #696969;}#sk-container-id-1 label.sk-toggleable__label-arrow:hover:before {color: black;}#sk-container-id-1 div.sk-estimator:hover label.sk-toggleable__label-arrow:before {color: black;}#sk-container-id-1 div.sk-toggleable__content {max-height: 0;max-width: 0;overflow: hidden;text-align: left;background-color: #f0f8ff;}#sk-container-id-1 div.sk-toggleable__content pre {margin: 0.2em;color: black;border-radius: 0.25em;background-color: #f0f8ff;}#sk-container-id-1 input.sk-toggleable__control:checked~div.sk-toggleable__content {max-height: 200px;max-width: 100%;overflow: auto;}#sk-container-id-1 input.sk-toggleable__control:checked~label.sk-toggleable__label-arrow:before {content: \"▾\";}#sk-container-id-1 div.sk-estimator input.sk-toggleable__control:checked~label.sk-toggleable__label {background-color: #d4ebff;}#sk-container-id-1 div.sk-label input.sk-toggleable__control:checked~label.sk-toggleable__label {background-color: #d4ebff;}#sk-container-id-1 input.sk-hidden--visually {border: 0;clip: rect(1px 1px 1px 1px);clip: rect(1px, 1px, 1px, 1px);height: 1px;margin: -1px;overflow: hidden;padding: 0;position: absolute;width: 1px;}#sk-container-id-1 div.sk-estimator {font-family: monospace;background-color: #f0f8ff;border: 1px dotted black;border-radius: 0.25em;box-sizing: border-box;margin-bottom: 0.5em;}#sk-container-id-1 div.sk-estimator:hover {background-color: #d4ebff;}#sk-container-id-1 div.sk-parallel-item::after {content: \"\";width: 100%;border-bottom: 1px solid gray;flex-grow: 1;}#sk-container-id-1 div.sk-label:hover label.sk-toggleable__label {background-color: #d4ebff;}#sk-container-id-1 div.sk-serial::before {content: \"\";position: absolute;border-left: 1px solid gray;box-sizing: border-box;top: 0;bottom: 0;left: 50%;z-index: 0;}#sk-container-id-1 div.sk-serial {display: flex;flex-direction: column;align-items: center;background-color: white;padding-right: 0.2em;padding-left: 0.2em;position: relative;}#sk-container-id-1 div.sk-item {position: relative;z-index: 1;}#sk-container-id-1 div.sk-parallel {display: flex;align-items: stretch;justify-content: center;background-color: white;position: relative;}#sk-container-id-1 div.sk-item::before, #sk-container-id-1 div.sk-parallel-item::before {content: \"\";position: absolute;border-left: 1px solid gray;box-sizing: border-box;top: 0;bottom: 0;left: 50%;z-index: -1;}#sk-container-id-1 div.sk-parallel-item {display: flex;flex-direction: column;z-index: 1;position: relative;background-color: white;}#sk-container-id-1 div.sk-parallel-item:first-child::after {align-self: flex-end;width: 50%;}#sk-container-id-1 div.sk-parallel-item:last-child::after {align-self: flex-start;width: 50%;}#sk-container-id-1 div.sk-parallel-item:only-child::after {width: 0;}#sk-container-id-1 div.sk-dashed-wrapped {border: 1px dashed gray;margin: 0 0.4em 0.5em 0.4em;box-sizing: border-box;padding-bottom: 0.4em;background-color: white;}#sk-container-id-1 div.sk-label label {font-family: monospace;font-weight: bold;display: inline-block;line-height: 1.2em;}#sk-container-id-1 div.sk-label-container {text-align: center;}#sk-container-id-1 div.sk-container {/* jupyter's `normalize.less` sets `[hidden] { display: none; }` but bootstrap.min.css set `[hidden] { display: none !important; }` so we also need the `!important` here to be able to override the default hidden behavior on the sphinx rendered scikit-learn.org. See: https://github.com/scikit-learn/scikit-learn/issues/21755 */display: inline-block !important;position: relative;}#sk-container-id-1 div.sk-text-repr-fallback {display: none;}</style><div id=\"sk-container-id-1\" class=\"sk-top-container\"><div class=\"sk-text-repr-fallback\"><pre>DecisionTreeRegressor(criterion=&#x27;friedman_mse&#x27;, max_depth=12,\n",
       "                      min_samples_leaf=8, min_samples_split=13,\n",
       "                      random_state=17)</pre><b>In a Jupyter environment, please rerun this cell to show the HTML representation or trust the notebook. <br />On GitHub, the HTML representation is unable to render, please try loading this page with nbviewer.org.</b></div><div class=\"sk-container\" hidden><div class=\"sk-item\"><div class=\"sk-estimator sk-toggleable\"><input class=\"sk-toggleable__control sk-hidden--visually\" id=\"sk-estimator-id-1\" type=\"checkbox\" checked><label for=\"sk-estimator-id-1\" class=\"sk-toggleable__label sk-toggleable__label-arrow\">DecisionTreeRegressor</label><div class=\"sk-toggleable__content\"><pre>DecisionTreeRegressor(criterion=&#x27;friedman_mse&#x27;, max_depth=12,\n",
       "                      min_samples_leaf=8, min_samples_split=13,\n",
       "                      random_state=17)</pre></div></div></div></div></div>"
      ],
      "text/plain": [
       "DecisionTreeRegressor(criterion='friedman_mse', max_depth=12,\n",
       "                      min_samples_leaf=8, min_samples_split=13,\n",
       "                      random_state=17)"
      ]
     },
     "execution_count": 33,
     "metadata": {},
     "output_type": "execute_result"
    }
   ],
   "source": [
    "best_DTree.fit(X_train, y_train)"
   ]
  },
  {
   "cell_type": "markdown",
   "id": "9b89474b",
   "metadata": {
    "papermill": {
     "duration": 0.033579,
     "end_time": "2024-03-17T07:15:53.156508",
     "exception": false,
     "start_time": "2024-03-17T07:15:53.122929",
     "status": "completed"
    },
    "tags": []
   },
   "source": [
    "## Decision Tree Performance"
   ]
  },
  {
   "cell_type": "code",
   "execution_count": 34,
   "id": "94f89101",
   "metadata": {
    "execution": {
     "iopub.execute_input": "2024-03-17T07:15:53.227088Z",
     "iopub.status.busy": "2024-03-17T07:15:53.226284Z",
     "iopub.status.idle": "2024-03-17T07:15:53.235549Z",
     "shell.execute_reply": "2024-03-17T07:15:53.234299Z"
    },
    "papermill": {
     "duration": 0.047356,
     "end_time": "2024-03-17T07:15:53.237779",
     "exception": false,
     "start_time": "2024-03-17T07:15:53.190423",
     "status": "completed"
    },
    "tags": []
   },
   "outputs": [
    {
     "name": "stdout",
     "output_type": "stream",
     "text": [
      "Mean Squared Error: 1.52\n"
     ]
    }
   ],
   "source": [
    "y_pred = best_DTree.predict(X_test)\n",
    "print(\"Mean Squared Error: {:.2f}\".format(MSE(y_test,y_pred)))"
   ]
  },
  {
   "cell_type": "markdown",
   "id": "5f81d003",
   "metadata": {
    "papermill": {
     "duration": 0.035397,
     "end_time": "2024-03-17T07:15:53.308504",
     "exception": false,
     "start_time": "2024-03-17T07:15:53.273107",
     "status": "completed"
    },
    "tags": []
   },
   "source": []
  },
  {
   "cell_type": "markdown",
   "id": "5199cb5b",
   "metadata": {
    "papermill": {
     "duration": 0.034684,
     "end_time": "2024-03-17T07:15:53.377032",
     "exception": false,
     "start_time": "2024-03-17T07:15:53.342348",
     "status": "completed"
    },
    "tags": []
   },
   "source": [
    "# k-Nearest Neighbours"
   ]
  },
  {
   "cell_type": "markdown",
   "id": "b609df6c",
   "metadata": {
    "papermill": {
     "duration": 0.036252,
     "end_time": "2024-03-17T07:15:53.448752",
     "exception": false,
     "start_time": "2024-03-17T07:15:53.412500",
     "status": "completed"
    },
    "tags": []
   },
   "source": [
    "#### We will see the performance of kNN using `KNeighboursRegressor` from `sklearn.neighbors`"
   ]
  },
  {
   "cell_type": "markdown",
   "id": "a4a1d6e5",
   "metadata": {
    "papermill": {
     "duration": 0.033362,
     "end_time": "2024-03-17T07:15:53.518295",
     "exception": false,
     "start_time": "2024-03-17T07:15:53.484933",
     "status": "completed"
    },
    "tags": []
   },
   "source": [
    "We will do the same thing as done in Decision Trees, i.e., first search hyperparameters using random search, then grid search around the best parameters obtained from it and, finally build the best model and see its performance"
   ]
  },
  {
   "cell_type": "code",
   "execution_count": 35,
   "id": "15255a0c",
   "metadata": {
    "execution": {
     "iopub.execute_input": "2024-03-17T07:15:53.589174Z",
     "iopub.status.busy": "2024-03-17T07:15:53.588776Z",
     "iopub.status.idle": "2024-03-17T07:15:54.222050Z",
     "shell.execute_reply": "2024-03-17T07:15:54.220799Z"
    },
    "papermill": {
     "duration": 0.670097,
     "end_time": "2024-03-17T07:15:54.224971",
     "exception": false,
     "start_time": "2024-03-17T07:15:53.554874",
     "status": "completed"
    },
    "tags": []
   },
   "outputs": [
    {
     "name": "stdout",
     "output_type": "stream",
     "text": [
      "Best Parameters:  {'n_neighbors': 9}\n",
      "Best Score (Negative MSE):  -2.6618245473309314\n"
     ]
    }
   ],
   "source": [
    "from sklearn.neighbors import KNeighborsRegressor\n",
    "\n",
    "kNR = KNeighborsRegressor()\n",
    "\n",
    "seed_knn = np.random.RandomState(69)\n",
    "rand_params_knn = {\n",
    "    'n_neighbors': seed_knn.randint(1, 20, size=10),      \n",
    "    'weights': ['uniform', 'distance'],                       \n",
    "    'p': [1, 2],                                                \n",
    "    'algorithm': ['auto', 'ball_tree', 'kd_tree', 'brute'] \n",
    "}\n",
    "\n",
    "random_search_knn = RandomizedSearchCV(kNR, param_distributions = rand_params_knn, n_jobs = -1, scoring = 'neg_mean_squared_error', cv = 5, random_state = 17, n_iter = 10)\n",
    "random_search_knn.fit(X_train, y_train)\n",
    "best_params_knn = random_search_knn.best_params_\n",
    "\n",
    "best_kNR = random_search_knn.best_estimator_\n",
    "\n",
    "grid_params_knn = {\n",
    "    'n_neighbors' : range(best_params_knn['n_neighbors']-5, best_params_knn['n_neighbors']+5)\n",
    "}\n",
    "\n",
    "grid_search_knn = GridSearchCV(best_kNR, param_grid = grid_params_knn, n_jobs = -1, cv = 5, scoring = 'neg_mean_squared_error')\n",
    "grid_search_knn.fit(X_train, y_train)\n",
    "print(\"Best Parameters: \", grid_search_knn.best_params_)\n",
    "print(\"Best Score (Negative MSE): \", grid_search_knn.best_score_)"
   ]
  },
  {
   "cell_type": "markdown",
   "id": "5c77946c",
   "metadata": {
    "papermill": {
     "duration": 0.032465,
     "end_time": "2024-03-17T07:15:54.291336",
     "exception": false,
     "start_time": "2024-03-17T07:15:54.258871",
     "status": "completed"
    },
    "tags": []
   },
   "source": [
    "#### Learning curves are not applicable for kNNs as they make predictions on the test set using parameters that are not required to be learned from train set"
   ]
  },
  {
   "cell_type": "code",
   "execution_count": 36,
   "id": "224fa6a6",
   "metadata": {
    "execution": {
     "iopub.execute_input": "2024-03-17T07:15:54.361460Z",
     "iopub.status.busy": "2024-03-17T07:15:54.360846Z",
     "iopub.status.idle": "2024-03-17T07:15:54.373394Z",
     "shell.execute_reply": "2024-03-17T07:15:54.372129Z"
    },
    "papermill": {
     "duration": 0.051459,
     "end_time": "2024-03-17T07:15:54.375982",
     "exception": false,
     "start_time": "2024-03-17T07:15:54.324523",
     "status": "completed"
    },
    "tags": []
   },
   "outputs": [
    {
     "data": {
      "text/html": [
       "<style>#sk-container-id-2 {color: black;background-color: white;}#sk-container-id-2 pre{padding: 0;}#sk-container-id-2 div.sk-toggleable {background-color: white;}#sk-container-id-2 label.sk-toggleable__label {cursor: pointer;display: block;width: 100%;margin-bottom: 0;padding: 0.3em;box-sizing: border-box;text-align: center;}#sk-container-id-2 label.sk-toggleable__label-arrow:before {content: \"▸\";float: left;margin-right: 0.25em;color: #696969;}#sk-container-id-2 label.sk-toggleable__label-arrow:hover:before {color: black;}#sk-container-id-2 div.sk-estimator:hover label.sk-toggleable__label-arrow:before {color: black;}#sk-container-id-2 div.sk-toggleable__content {max-height: 0;max-width: 0;overflow: hidden;text-align: left;background-color: #f0f8ff;}#sk-container-id-2 div.sk-toggleable__content pre {margin: 0.2em;color: black;border-radius: 0.25em;background-color: #f0f8ff;}#sk-container-id-2 input.sk-toggleable__control:checked~div.sk-toggleable__content {max-height: 200px;max-width: 100%;overflow: auto;}#sk-container-id-2 input.sk-toggleable__control:checked~label.sk-toggleable__label-arrow:before {content: \"▾\";}#sk-container-id-2 div.sk-estimator input.sk-toggleable__control:checked~label.sk-toggleable__label {background-color: #d4ebff;}#sk-container-id-2 div.sk-label input.sk-toggleable__control:checked~label.sk-toggleable__label {background-color: #d4ebff;}#sk-container-id-2 input.sk-hidden--visually {border: 0;clip: rect(1px 1px 1px 1px);clip: rect(1px, 1px, 1px, 1px);height: 1px;margin: -1px;overflow: hidden;padding: 0;position: absolute;width: 1px;}#sk-container-id-2 div.sk-estimator {font-family: monospace;background-color: #f0f8ff;border: 1px dotted black;border-radius: 0.25em;box-sizing: border-box;margin-bottom: 0.5em;}#sk-container-id-2 div.sk-estimator:hover {background-color: #d4ebff;}#sk-container-id-2 div.sk-parallel-item::after {content: \"\";width: 100%;border-bottom: 1px solid gray;flex-grow: 1;}#sk-container-id-2 div.sk-label:hover label.sk-toggleable__label {background-color: #d4ebff;}#sk-container-id-2 div.sk-serial::before {content: \"\";position: absolute;border-left: 1px solid gray;box-sizing: border-box;top: 0;bottom: 0;left: 50%;z-index: 0;}#sk-container-id-2 div.sk-serial {display: flex;flex-direction: column;align-items: center;background-color: white;padding-right: 0.2em;padding-left: 0.2em;position: relative;}#sk-container-id-2 div.sk-item {position: relative;z-index: 1;}#sk-container-id-2 div.sk-parallel {display: flex;align-items: stretch;justify-content: center;background-color: white;position: relative;}#sk-container-id-2 div.sk-item::before, #sk-container-id-2 div.sk-parallel-item::before {content: \"\";position: absolute;border-left: 1px solid gray;box-sizing: border-box;top: 0;bottom: 0;left: 50%;z-index: -1;}#sk-container-id-2 div.sk-parallel-item {display: flex;flex-direction: column;z-index: 1;position: relative;background-color: white;}#sk-container-id-2 div.sk-parallel-item:first-child::after {align-self: flex-end;width: 50%;}#sk-container-id-2 div.sk-parallel-item:last-child::after {align-self: flex-start;width: 50%;}#sk-container-id-2 div.sk-parallel-item:only-child::after {width: 0;}#sk-container-id-2 div.sk-dashed-wrapped {border: 1px dashed gray;margin: 0 0.4em 0.5em 0.4em;box-sizing: border-box;padding-bottom: 0.4em;background-color: white;}#sk-container-id-2 div.sk-label label {font-family: monospace;font-weight: bold;display: inline-block;line-height: 1.2em;}#sk-container-id-2 div.sk-label-container {text-align: center;}#sk-container-id-2 div.sk-container {/* jupyter's `normalize.less` sets `[hidden] { display: none; }` but bootstrap.min.css set `[hidden] { display: none !important; }` so we also need the `!important` here to be able to override the default hidden behavior on the sphinx rendered scikit-learn.org. See: https://github.com/scikit-learn/scikit-learn/issues/21755 */display: inline-block !important;position: relative;}#sk-container-id-2 div.sk-text-repr-fallback {display: none;}</style><div id=\"sk-container-id-2\" class=\"sk-top-container\"><div class=\"sk-text-repr-fallback\"><pre>KNeighborsRegressor(algorithm=&#x27;kd_tree&#x27;, n_neighbors=9, weights=&#x27;distance&#x27;)</pre><b>In a Jupyter environment, please rerun this cell to show the HTML representation or trust the notebook. <br />On GitHub, the HTML representation is unable to render, please try loading this page with nbviewer.org.</b></div><div class=\"sk-container\" hidden><div class=\"sk-item\"><div class=\"sk-estimator sk-toggleable\"><input class=\"sk-toggleable__control sk-hidden--visually\" id=\"sk-estimator-id-2\" type=\"checkbox\" checked><label for=\"sk-estimator-id-2\" class=\"sk-toggleable__label sk-toggleable__label-arrow\">KNeighborsRegressor</label><div class=\"sk-toggleable__content\"><pre>KNeighborsRegressor(algorithm=&#x27;kd_tree&#x27;, n_neighbors=9, weights=&#x27;distance&#x27;)</pre></div></div></div></div></div>"
      ],
      "text/plain": [
       "KNeighborsRegressor(algorithm='kd_tree', n_neighbors=9, weights='distance')"
      ]
     },
     "execution_count": 36,
     "metadata": {},
     "output_type": "execute_result"
    }
   ],
   "source": [
    "best_kNR = grid_search_knn.best_estimator_\n",
    "best_kNR.fit(X_train, y_train)"
   ]
  },
  {
   "cell_type": "markdown",
   "id": "16c1ff8a",
   "metadata": {
    "papermill": {
     "duration": 0.035587,
     "end_time": "2024-03-17T07:15:54.446583",
     "exception": false,
     "start_time": "2024-03-17T07:15:54.410996",
     "status": "completed"
    },
    "tags": []
   },
   "source": [
    "## kNN Performance"
   ]
  },
  {
   "cell_type": "code",
   "execution_count": 37,
   "id": "ad6c8b69",
   "metadata": {
    "execution": {
     "iopub.execute_input": "2024-03-17T07:15:54.520089Z",
     "iopub.status.busy": "2024-03-17T07:15:54.519142Z",
     "iopub.status.idle": "2024-03-17T07:15:54.536878Z",
     "shell.execute_reply": "2024-03-17T07:15:54.535749Z"
    },
    "papermill": {
     "duration": 0.060242,
     "end_time": "2024-03-17T07:15:54.540822",
     "exception": false,
     "start_time": "2024-03-17T07:15:54.480580",
     "status": "completed"
    },
    "tags": []
   },
   "outputs": [
    {
     "name": "stdout",
     "output_type": "stream",
     "text": [
      "Mean Squared Error: 1.28\n"
     ]
    }
   ],
   "source": [
    "y_pred = best_kNR.predict(X_test)\n",
    "print(\"Mean Squared Error: {:.2f}\".format(MSE(y_test,y_pred)))"
   ]
  },
  {
   "cell_type": "markdown",
   "id": "610f16d1",
   "metadata": {
    "papermill": {
     "duration": 0.038556,
     "end_time": "2024-03-17T07:15:54.614722",
     "exception": false,
     "start_time": "2024-03-17T07:15:54.576166",
     "status": "completed"
    },
    "tags": []
   },
   "source": [
    "# Linear Regression"
   ]
  },
  {
   "cell_type": "markdown",
   "id": "8bd7551e",
   "metadata": {
    "papermill": {
     "duration": 0.038236,
     "end_time": "2024-03-17T07:15:54.690634",
     "exception": false,
     "start_time": "2024-03-17T07:15:54.652398",
     "status": "completed"
    },
    "tags": []
   },
   "source": [
    "#### We will see the performance of linear regression using `LinearRegression`, `Lasso`, `Ridge` from `sklearn.linear_model`"
   ]
  },
  {
   "cell_type": "code",
   "execution_count": 38,
   "id": "2ec8b279",
   "metadata": {
    "execution": {
     "iopub.execute_input": "2024-03-17T07:15:54.764320Z",
     "iopub.status.busy": "2024-03-17T07:15:54.763540Z",
     "iopub.status.idle": "2024-03-17T07:15:54.769966Z",
     "shell.execute_reply": "2024-03-17T07:15:54.768851Z"
    },
    "papermill": {
     "duration": 0.045592,
     "end_time": "2024-03-17T07:15:54.772229",
     "exception": false,
     "start_time": "2024-03-17T07:15:54.726637",
     "status": "completed"
    },
    "tags": []
   },
   "outputs": [],
   "source": [
    "from sklearn.linear_model import LinearRegression, Lasso, LassoCV, Ridge, RidgeCV"
   ]
  },
  {
   "cell_type": "markdown",
   "id": "c2ae8114",
   "metadata": {
    "papermill": {
     "duration": 0.034477,
     "end_time": "2024-03-17T07:15:54.843161",
     "exception": false,
     "start_time": "2024-03-17T07:15:54.808684",
     "status": "completed"
    },
    "tags": []
   },
   "source": [
    "First, lets see the performance of `LinearRegression`"
   ]
  },
  {
   "cell_type": "code",
   "execution_count": 39,
   "id": "d7ab362a",
   "metadata": {
    "execution": {
     "iopub.execute_input": "2024-03-17T07:15:54.916020Z",
     "iopub.status.busy": "2024-03-17T07:15:54.915307Z",
     "iopub.status.idle": "2024-03-17T07:15:55.009594Z",
     "shell.execute_reply": "2024-03-17T07:15:55.008484Z"
    },
    "papermill": {
     "duration": 0.13547,
     "end_time": "2024-03-17T07:15:55.012676",
     "exception": false,
     "start_time": "2024-03-17T07:15:54.877206",
     "status": "completed"
    },
    "tags": []
   },
   "outputs": [
    {
     "name": "stdout",
     "output_type": "stream",
     "text": [
      "Best Parameters: {'fit_intercept': True}\n",
      "Best Score (Negative MSE): -2.0554641729685104\n"
     ]
    }
   ],
   "source": [
    "lin_reg = LinearRegression()\n",
    "\n",
    "param_dist = {\n",
    "    'fit_intercept': [True, False],                             \n",
    "}\n",
    "\n",
    "grid_search_LR = GridSearchCV(lin_reg, param_grid=param_dist, cv=5, scoring='neg_mean_squared_error')\n",
    "grid_search_LR.fit(X_train_scaled, y_train)\n",
    "\n",
    "print(\"Best Parameters:\", grid_search_LR.best_params_)\n",
    "print(\"Best Score (Negative MSE):\", grid_search_LR.best_score_)"
   ]
  },
  {
   "cell_type": "code",
   "execution_count": 40,
   "id": "6ee2b13c",
   "metadata": {
    "execution": {
     "iopub.execute_input": "2024-03-17T07:15:55.134696Z",
     "iopub.status.busy": "2024-03-17T07:15:55.134203Z",
     "iopub.status.idle": "2024-03-17T07:15:55.150757Z",
     "shell.execute_reply": "2024-03-17T07:15:55.149562Z"
    },
    "papermill": {
     "duration": 0.082837,
     "end_time": "2024-03-17T07:15:55.155400",
     "exception": false,
     "start_time": "2024-03-17T07:15:55.072563",
     "status": "completed"
    },
    "tags": []
   },
   "outputs": [
    {
     "data": {
      "text/html": [
       "<style>#sk-container-id-3 {color: black;background-color: white;}#sk-container-id-3 pre{padding: 0;}#sk-container-id-3 div.sk-toggleable {background-color: white;}#sk-container-id-3 label.sk-toggleable__label {cursor: pointer;display: block;width: 100%;margin-bottom: 0;padding: 0.3em;box-sizing: border-box;text-align: center;}#sk-container-id-3 label.sk-toggleable__label-arrow:before {content: \"▸\";float: left;margin-right: 0.25em;color: #696969;}#sk-container-id-3 label.sk-toggleable__label-arrow:hover:before {color: black;}#sk-container-id-3 div.sk-estimator:hover label.sk-toggleable__label-arrow:before {color: black;}#sk-container-id-3 div.sk-toggleable__content {max-height: 0;max-width: 0;overflow: hidden;text-align: left;background-color: #f0f8ff;}#sk-container-id-3 div.sk-toggleable__content pre {margin: 0.2em;color: black;border-radius: 0.25em;background-color: #f0f8ff;}#sk-container-id-3 input.sk-toggleable__control:checked~div.sk-toggleable__content {max-height: 200px;max-width: 100%;overflow: auto;}#sk-container-id-3 input.sk-toggleable__control:checked~label.sk-toggleable__label-arrow:before {content: \"▾\";}#sk-container-id-3 div.sk-estimator input.sk-toggleable__control:checked~label.sk-toggleable__label {background-color: #d4ebff;}#sk-container-id-3 div.sk-label input.sk-toggleable__control:checked~label.sk-toggleable__label {background-color: #d4ebff;}#sk-container-id-3 input.sk-hidden--visually {border: 0;clip: rect(1px 1px 1px 1px);clip: rect(1px, 1px, 1px, 1px);height: 1px;margin: -1px;overflow: hidden;padding: 0;position: absolute;width: 1px;}#sk-container-id-3 div.sk-estimator {font-family: monospace;background-color: #f0f8ff;border: 1px dotted black;border-radius: 0.25em;box-sizing: border-box;margin-bottom: 0.5em;}#sk-container-id-3 div.sk-estimator:hover {background-color: #d4ebff;}#sk-container-id-3 div.sk-parallel-item::after {content: \"\";width: 100%;border-bottom: 1px solid gray;flex-grow: 1;}#sk-container-id-3 div.sk-label:hover label.sk-toggleable__label {background-color: #d4ebff;}#sk-container-id-3 div.sk-serial::before {content: \"\";position: absolute;border-left: 1px solid gray;box-sizing: border-box;top: 0;bottom: 0;left: 50%;z-index: 0;}#sk-container-id-3 div.sk-serial {display: flex;flex-direction: column;align-items: center;background-color: white;padding-right: 0.2em;padding-left: 0.2em;position: relative;}#sk-container-id-3 div.sk-item {position: relative;z-index: 1;}#sk-container-id-3 div.sk-parallel {display: flex;align-items: stretch;justify-content: center;background-color: white;position: relative;}#sk-container-id-3 div.sk-item::before, #sk-container-id-3 div.sk-parallel-item::before {content: \"\";position: absolute;border-left: 1px solid gray;box-sizing: border-box;top: 0;bottom: 0;left: 50%;z-index: -1;}#sk-container-id-3 div.sk-parallel-item {display: flex;flex-direction: column;z-index: 1;position: relative;background-color: white;}#sk-container-id-3 div.sk-parallel-item:first-child::after {align-self: flex-end;width: 50%;}#sk-container-id-3 div.sk-parallel-item:last-child::after {align-self: flex-start;width: 50%;}#sk-container-id-3 div.sk-parallel-item:only-child::after {width: 0;}#sk-container-id-3 div.sk-dashed-wrapped {border: 1px dashed gray;margin: 0 0.4em 0.5em 0.4em;box-sizing: border-box;padding-bottom: 0.4em;background-color: white;}#sk-container-id-3 div.sk-label label {font-family: monospace;font-weight: bold;display: inline-block;line-height: 1.2em;}#sk-container-id-3 div.sk-label-container {text-align: center;}#sk-container-id-3 div.sk-container {/* jupyter's `normalize.less` sets `[hidden] { display: none; }` but bootstrap.min.css set `[hidden] { display: none !important; }` so we also need the `!important` here to be able to override the default hidden behavior on the sphinx rendered scikit-learn.org. See: https://github.com/scikit-learn/scikit-learn/issues/21755 */display: inline-block !important;position: relative;}#sk-container-id-3 div.sk-text-repr-fallback {display: none;}</style><div id=\"sk-container-id-3\" class=\"sk-top-container\"><div class=\"sk-text-repr-fallback\"><pre>LinearRegression()</pre><b>In a Jupyter environment, please rerun this cell to show the HTML representation or trust the notebook. <br />On GitHub, the HTML representation is unable to render, please try loading this page with nbviewer.org.</b></div><div class=\"sk-container\" hidden><div class=\"sk-item\"><div class=\"sk-estimator sk-toggleable\"><input class=\"sk-toggleable__control sk-hidden--visually\" id=\"sk-estimator-id-3\" type=\"checkbox\" checked><label for=\"sk-estimator-id-3\" class=\"sk-toggleable__label sk-toggleable__label-arrow\">LinearRegression</label><div class=\"sk-toggleable__content\"><pre>LinearRegression()</pre></div></div></div></div></div>"
      ],
      "text/plain": [
       "LinearRegression()"
      ]
     },
     "execution_count": 40,
     "metadata": {},
     "output_type": "execute_result"
    }
   ],
   "source": [
    "best_lin_reg = grid_search_LR.best_estimator_\n",
    "best_lin_reg.fit(X_train_scaled, y_train)"
   ]
  },
  {
   "cell_type": "markdown",
   "id": "2d84182c",
   "metadata": {
    "papermill": {
     "duration": 0.054988,
     "end_time": "2024-03-17T07:15:55.270461",
     "exception": false,
     "start_time": "2024-03-17T07:15:55.215473",
     "status": "completed"
    },
    "tags": []
   },
   "source": [
    "## Linear Regression Performance without regularization"
   ]
  },
  {
   "cell_type": "code",
   "execution_count": 41,
   "id": "651a3fef",
   "metadata": {
    "execution": {
     "iopub.execute_input": "2024-03-17T07:15:55.346046Z",
     "iopub.status.busy": "2024-03-17T07:15:55.345499Z",
     "iopub.status.idle": "2024-03-17T07:15:55.352718Z",
     "shell.execute_reply": "2024-03-17T07:15:55.351745Z"
    },
    "papermill": {
     "duration": 0.04673,
     "end_time": "2024-03-17T07:15:55.355160",
     "exception": false,
     "start_time": "2024-03-17T07:15:55.308430",
     "status": "completed"
    },
    "tags": []
   },
   "outputs": [
    {
     "name": "stdout",
     "output_type": "stream",
     "text": [
      "Mean Squared Error: 1.23\n"
     ]
    }
   ],
   "source": [
    "y_pred = best_lin_reg.predict(X_test_scaled)\n",
    "print(\"Mean Squared Error: {:.2f}\".format(MSE(y_test,y_pred)))"
   ]
  },
  {
   "cell_type": "markdown",
   "id": "2cff91e7",
   "metadata": {
    "papermill": {
     "duration": 0.037761,
     "end_time": "2024-03-17T07:15:55.432160",
     "exception": false,
     "start_time": "2024-03-17T07:15:55.394399",
     "status": "completed"
    },
    "tags": []
   },
   "source": [
    "Now we use `Ridge` and also plot validation curve"
   ]
  },
  {
   "cell_type": "code",
   "execution_count": 42,
   "id": "048629df",
   "metadata": {
    "execution": {
     "iopub.execute_input": "2024-03-17T07:15:55.508869Z",
     "iopub.status.busy": "2024-03-17T07:15:55.507998Z",
     "iopub.status.idle": "2024-03-17T07:16:00.663307Z",
     "shell.execute_reply": "2024-03-17T07:16:00.661487Z"
    },
    "papermill": {
     "duration": 5.196081,
     "end_time": "2024-03-17T07:16:00.667036",
     "exception": false,
     "start_time": "2024-03-17T07:15:55.470955",
     "status": "completed"
    },
    "tags": []
   },
   "outputs": [],
   "source": [
    "from sklearn.model_selection import validation_curve\n",
    "\n",
    "alphas = np.logspace(-5, 5, 50)  #Regularization Parameter\n",
    "\n",
    "ridge = Ridge()\n",
    "\n",
    "train_scores, valid_scores = validation_curve(\n",
    "    ridge, X_train, y_train, param_name=\"alpha\", param_range=alphas,\n",
    "    scoring=\"neg_mean_squared_error\", cv=5\n",
    ")"
   ]
  },
  {
   "cell_type": "code",
   "execution_count": 43,
   "id": "95399499",
   "metadata": {
    "execution": {
     "iopub.execute_input": "2024-03-17T07:16:00.796662Z",
     "iopub.status.busy": "2024-03-17T07:16:00.796218Z",
     "iopub.status.idle": "2024-03-17T07:16:01.548994Z",
     "shell.execute_reply": "2024-03-17T07:16:01.547805Z"
    },
    "papermill": {
     "duration": 0.814545,
     "end_time": "2024-03-17T07:16:01.552322",
     "exception": false,
     "start_time": "2024-03-17T07:16:00.737777",
     "status": "completed"
    },
    "tags": []
   },
   "outputs": [
    {
     "data": {
      "image/png": "[encoded data removed]",
      "text/plain": [
       "<Figure size 1000x600 with 1 Axes>"
      ]
     },
     "metadata": {},
     "output_type": "display_data"
    }
   ],
   "source": [
    "train_scores_mean = -np.mean(train_scores, axis=1)\n",
    "train_scores_std = np.std(train_scores, axis=1)\n",
    "valid_scores_mean = -np.mean(valid_scores, axis=1)\n",
    "valid_scores_std = np.std(valid_scores, axis=1)\n",
    "\n",
    "plt.figure(figsize=(10, 6))\n",
    "plt.semilogx(alphas, train_scores_mean, label=\"Training score\", color=\"darkorange\")\n",
    "plt.fill_between(alphas, train_scores_mean - train_scores_std,\n",
    "                 train_scores_mean + train_scores_std, alpha=0.2,\n",
    "                 color=\"darkorange\")\n",
    "plt.semilogx(alphas, valid_scores_mean, label=\"Cross-validation score\", color=\"navy\")\n",
    "plt.fill_between(alphas, valid_scores_mean - valid_scores_std,\n",
    "                 valid_scores_mean + valid_scores_std, alpha=0.2,\n",
    "                 color=\"navy\")\n",
    "plt.title(\"Validation Curve with Ridge Regression\")\n",
    "plt.xlabel(\"Alpha\")\n",
    "plt.ylabel(\"MSE\")\n",
    "plt.legend(loc=\"best\")\n",
    "plt.show()"
   ]
  },
  {
   "cell_type": "markdown",
   "id": "f0e0ce12",
   "metadata": {
    "papermill": {
     "duration": 0.037405,
     "end_time": "2024-03-17T07:16:01.625811",
     "exception": false,
     "start_time": "2024-03-17T07:16:01.588406",
     "status": "completed"
    },
    "tags": []
   },
   "source": [
    "We find the best alpha and create the best model"
   ]
  },
  {
   "cell_type": "code",
   "execution_count": 44,
   "id": "07d140a5",
   "metadata": {
    "execution": {
     "iopub.execute_input": "2024-03-17T07:16:01.723813Z",
     "iopub.status.busy": "2024-03-17T07:16:01.723014Z",
     "iopub.status.idle": "2024-03-17T07:16:04.100079Z",
     "shell.execute_reply": "2024-03-17T07:16:04.098490Z"
    },
    "papermill": {
     "duration": 2.425579,
     "end_time": "2024-03-17T07:16:04.106375",
     "exception": false,
     "start_time": "2024-03-17T07:16:01.680796",
     "status": "completed"
    },
    "tags": []
   },
   "outputs": [
    {
     "name": "stdout",
     "output_type": "stream",
     "text": [
      "Best Alpha:  6.7341506577508214\n"
     ]
    }
   ],
   "source": [
    "best_alphas = np.logspace(-2,5,100)\n",
    "best_Ridge = RidgeCV(alphas = best_alphas, cv = 5, scoring = 'neg_mean_squared_error')\n",
    "best_Ridge.fit(X_train_scaled, y_train)\n",
    "print(\"Best Alpha: \",best_Ridge.alpha_)"
   ]
  },
  {
   "cell_type": "markdown",
   "id": "04f1fddc",
   "metadata": {
    "papermill": {
     "duration": 0.053767,
     "end_time": "2024-03-17T07:16:04.232754",
     "exception": false,
     "start_time": "2024-03-17T07:16:04.178987",
     "status": "completed"
    },
    "tags": []
   },
   "source": [
    "## Linear Regression Performance with ridge regularization"
   ]
  },
  {
   "cell_type": "code",
   "execution_count": 45,
   "id": "288897bd",
   "metadata": {
    "execution": {
     "iopub.execute_input": "2024-03-17T07:16:04.313241Z",
     "iopub.status.busy": "2024-03-17T07:16:04.312886Z",
     "iopub.status.idle": "2024-03-17T07:16:04.319477Z",
     "shell.execute_reply": "2024-03-17T07:16:04.318135Z"
    },
    "papermill": {
     "duration": 0.049636,
     "end_time": "2024-03-17T07:16:04.323133",
     "exception": false,
     "start_time": "2024-03-17T07:16:04.273497",
     "status": "completed"
    },
    "tags": []
   },
   "outputs": [
    {
     "name": "stdout",
     "output_type": "stream",
     "text": [
      "Mean Squared Error: 1.24\n"
     ]
    }
   ],
   "source": [
    "y_pred = best_Ridge.predict(X_test_scaled)\n",
    "print(\"Mean Squared Error: {:.2f}\".format(MSE(y_test,y_pred)))"
   ]
  },
  {
   "cell_type": "markdown",
   "id": "c4ec81ef",
   "metadata": {
    "papermill": {
     "duration": 0.039059,
     "end_time": "2024-03-17T07:16:04.399803",
     "exception": false,
     "start_time": "2024-03-17T07:16:04.360744",
     "status": "completed"
    },
    "tags": []
   },
   "source": [
    "# Random Forest"
   ]
  },
  {
   "cell_type": "markdown",
   "id": "9f10021c",
   "metadata": {
    "papermill": {
     "duration": 0.038628,
     "end_time": "2024-03-17T07:16:04.475815",
     "exception": false,
     "start_time": "2024-03-17T07:16:04.437187",
     "status": "completed"
    },
    "tags": []
   },
   "source": [
    "We will be using `RandomForestRegressor` from `sklearn.ensemble`"
   ]
  },
  {
   "cell_type": "code",
   "execution_count": 46,
   "id": "4f39f441",
   "metadata": {
    "execution": {
     "iopub.execute_input": "2024-03-17T07:16:04.553343Z",
     "iopub.status.busy": "2024-03-17T07:16:04.552947Z",
     "iopub.status.idle": "2024-03-17T07:16:51.001378Z",
     "shell.execute_reply": "2024-03-17T07:16:50.998769Z"
    },
    "papermill": {
     "duration": 46.528774,
     "end_time": "2024-03-17T07:16:51.042890",
     "exception": false,
     "start_time": "2024-03-17T07:16:04.514116",
     "status": "completed"
    },
    "tags": []
   },
   "outputs": [
    {
     "name": "stdout",
     "output_type": "stream",
     "text": [
      "Best Parameters:  {'max_depth': 20, 'min_samples_leaf': 4, 'min_samples_split': 3}\n",
      "Best Score (Negative MSE):  -1.994492848024133\n",
      "CPU times: user 2.57 s, sys: 172 ms, total: 2.75 s\n",
      "Wall time: 46.4 s\n"
     ]
    }
   ],
   "source": [
    "%%time\n",
    "from sklearn.ensemble import RandomForestRegressor\n",
    "\n",
    "RF = RandomForestRegressor(random_state = 19)\n",
    "\n",
    "seedRF = np.random.RandomState(11)\n",
    "rand_params_RF = {\n",
    "    'n_estimators': seedRF.randint(50,200,10),\n",
    "    'max_depth': seedRF.randint(10,30,10),\n",
    "    'min_samples_split': seedRF.randint(4,10,10),\n",
    "    'min_samples_leaf': seedRF.randint(4,10,10),\n",
    "    'max_features': ['sqrt', 'log2', None] \n",
    "}\n",
    "\n",
    "random_search_RF = RandomizedSearchCV(RF, param_distributions = rand_params_RF, n_jobs = -1, scoring = 'neg_mean_squared_error', cv = 5, random_state = 69, n_iter = 15)\n",
    "random_search_RF.fit(X_train, y_train)\n",
    "best_params_RF = random_search_RF.best_params_\n",
    "\n",
    "best_RF = random_search_RF.best_estimator_\n",
    "\n",
    "grid_params_RF = {\n",
    "    'max_depth' : range(best_params_RF['max_depth']-2, best_params_RF['max_depth']+2),\n",
    "    'min_samples_split' : range(best_params_RF['min_samples_split']-2, best_params_RF['min_samples_split']+2),\n",
    "    'min_samples_leaf' : range(best_params_RF['min_samples_leaf']-2, best_params_RF['min_samples_leaf']+2)\n",
    "}\n",
    "\n",
    "grid_search_RF = GridSearchCV(RF, param_grid = grid_params_RF, n_jobs = -1, cv = 5, scoring = 'neg_mean_squared_error')\n",
    "grid_search_RF.fit(X_train, y_train)\n",
    "\n",
    "print(\"Best Parameters: \", grid_search_RF.best_params_)\n",
    "print(\"Best Score (Negative MSE): \",grid_search_RF.best_score_)"
   ]
  },
  {
   "cell_type": "markdown",
   "id": "df17ad51",
   "metadata": {
    "papermill": {
     "duration": 0.041263,
     "end_time": "2024-03-17T07:16:51.122340",
     "exception": false,
     "start_time": "2024-03-17T07:16:51.081077",
     "status": "completed"
    },
    "tags": []
   },
   "source": [
    "### Learning Curve for Random Forest:"
   ]
  },
  {
   "cell_type": "code",
   "execution_count": 47,
   "id": "85796465",
   "metadata": {
    "execution": {
     "iopub.execute_input": "2024-03-17T07:16:51.214834Z",
     "iopub.status.busy": "2024-03-17T07:16:51.214388Z",
     "iopub.status.idle": "2024-03-17T07:17:07.584256Z",
     "shell.execute_reply": "2024-03-17T07:17:07.582924Z"
    },
    "papermill": {
     "duration": 16.419126,
     "end_time": "2024-03-17T07:17:07.586964",
     "exception": false,
     "start_time": "2024-03-17T07:16:51.167838",
     "status": "completed"
    },
    "tags": []
   },
   "outputs": [
    {
     "data": {
      "image/png": "[encoded data removed]",
      "text/plain": [
       "<Figure size 640x480 with 1 Axes>"
      ]
     },
     "metadata": {},
     "output_type": "display_data"
    }
   ],
   "source": [
    "train_sizes, train_scores, test_scores = learning_curve(\n",
    "    best_RF, X, y, train_sizes=np.linspace(0.1, 1.0, 10), cv=5)\n",
    "\n",
    "train_mean = np.mean(train_scores, axis=1)\n",
    "train_std = np.std(train_scores, axis=1)\n",
    "test_mean = np.mean(test_scores, axis=1)\n",
    "test_std = np.std(test_scores, axis=1)\n",
    "\n",
    "plt.plot(train_sizes, train_mean, color='blue', marker='o', label='Training')\n",
    "plt.fill_between(train_sizes, train_mean + train_std, train_mean - train_std, alpha=0.15, color='blue')\n",
    "plt.plot(train_sizes, test_mean, color='green', linestyle='--', marker='s', label='Validation')\n",
    "plt.fill_between(train_sizes, test_mean + test_std, test_mean - test_std, alpha=0.15, color='green')\n",
    "\n",
    "plt.xlabel('Number of Training Samples')\n",
    "plt.ylabel('Mean Squared Error')\n",
    "plt.legend()\n",
    "plt.show()"
   ]
  },
  {
   "cell_type": "code",
   "execution_count": 48,
   "id": "182c197a",
   "metadata": {
    "execution": {
     "iopub.execute_input": "2024-03-17T07:17:07.660806Z",
     "iopub.status.busy": "2024-03-17T07:17:07.660148Z",
     "iopub.status.idle": "2024-03-17T07:17:08.004747Z",
     "shell.execute_reply": "2024-03-17T07:17:08.000284Z"
    },
    "papermill": {
     "duration": 0.385782,
     "end_time": "2024-03-17T07:17:08.008076",
     "exception": false,
     "start_time": "2024-03-17T07:17:07.622294",
     "status": "completed"
    },
    "tags": []
   },
   "outputs": [
    {
     "data": {
      "text/html": [
       "<style>#sk-container-id-4 {color: black;background-color: white;}#sk-container-id-4 pre{padding: 0;}#sk-container-id-4 div.sk-toggleable {background-color: white;}#sk-container-id-4 label.sk-toggleable__label {cursor: pointer;display: block;width: 100%;margin-bottom: 0;padding: 0.3em;box-sizing: border-box;text-align: center;}#sk-container-id-4 label.sk-toggleable__label-arrow:before {content: \"▸\";float: left;margin-right: 0.25em;color: #696969;}#sk-container-id-4 label.sk-toggleable__label-arrow:hover:before {color: black;}#sk-container-id-4 div.sk-estimator:hover label.sk-toggleable__label-arrow:before {color: black;}#sk-container-id-4 div.sk-toggleable__content {max-height: 0;max-width: 0;overflow: hidden;text-align: left;background-color: #f0f8ff;}#sk-container-id-4 div.sk-toggleable__content pre {margin: 0.2em;color: black;border-radius: 0.25em;background-color: #f0f8ff;}#sk-container-id-4 input.sk-toggleable__control:checked~div.sk-toggleable__content {max-height: 200px;max-width: 100%;overflow: auto;}#sk-container-id-4 input.sk-toggleable__control:checked~label.sk-toggleable__label-arrow:before {content: \"▾\";}#sk-container-id-4 div.sk-estimator input.sk-toggleable__control:checked~label.sk-toggleable__label {background-color: #d4ebff;}#sk-container-id-4 div.sk-label input.sk-toggleable__control:checked~label.sk-toggleable__label {background-color: #d4ebff;}#sk-container-id-4 input.sk-hidden--visually {border: 0;clip: rect(1px 1px 1px 1px);clip: rect(1px, 1px, 1px, 1px);height: 1px;margin: -1px;overflow: hidden;padding: 0;position: absolute;width: 1px;}#sk-container-id-4 div.sk-estimator {font-family: monospace;background-color: #f0f8ff;border: 1px dotted black;border-radius: 0.25em;box-sizing: border-box;margin-bottom: 0.5em;}#sk-container-id-4 div.sk-estimator:hover {background-color: #d4ebff;}#sk-container-id-4 div.sk-parallel-item::after {content: \"\";width: 100%;border-bottom: 1px solid gray;flex-grow: 1;}#sk-container-id-4 div.sk-label:hover label.sk-toggleable__label {background-color: #d4ebff;}#sk-container-id-4 div.sk-serial::before {content: \"\";position: absolute;border-left: 1px solid gray;box-sizing: border-box;top: 0;bottom: 0;left: 50%;z-index: 0;}#sk-container-id-4 div.sk-serial {display: flex;flex-direction: column;align-items: center;background-color: white;padding-right: 0.2em;padding-left: 0.2em;position: relative;}#sk-container-id-4 div.sk-item {position: relative;z-index: 1;}#sk-container-id-4 div.sk-parallel {display: flex;align-items: stretch;justify-content: center;background-color: white;position: relative;}#sk-container-id-4 div.sk-item::before, #sk-container-id-4 div.sk-parallel-item::before {content: \"\";position: absolute;border-left: 1px solid gray;box-sizing: border-box;top: 0;bottom: 0;left: 50%;z-index: -1;}#sk-container-id-4 div.sk-parallel-item {display: flex;flex-direction: column;z-index: 1;position: relative;background-color: white;}#sk-container-id-4 div.sk-parallel-item:first-child::after {align-self: flex-end;width: 50%;}#sk-container-id-4 div.sk-parallel-item:last-child::after {align-self: flex-start;width: 50%;}#sk-container-id-4 div.sk-parallel-item:only-child::after {width: 0;}#sk-container-id-4 div.sk-dashed-wrapped {border: 1px dashed gray;margin: 0 0.4em 0.5em 0.4em;box-sizing: border-box;padding-bottom: 0.4em;background-color: white;}#sk-container-id-4 div.sk-label label {font-family: monospace;font-weight: bold;display: inline-block;line-height: 1.2em;}#sk-container-id-4 div.sk-label-container {text-align: center;}#sk-container-id-4 div.sk-container {/* jupyter's `normalize.less` sets `[hidden] { display: none; }` but bootstrap.min.css set `[hidden] { display: none !important; }` so we also need the `!important` here to be able to override the default hidden behavior on the sphinx rendered scikit-learn.org. See: https://github.com/scikit-learn/scikit-learn/issues/21755 */display: inline-block !important;position: relative;}#sk-container-id-4 div.sk-text-repr-fallback {display: none;}</style><div id=\"sk-container-id-4\" class=\"sk-top-container\"><div class=\"sk-text-repr-fallback\"><pre>RandomForestRegressor(max_depth=20, min_samples_leaf=4, min_samples_split=3,\n",
       "                      random_state=19)</pre><b>In a Jupyter environment, please rerun this cell to show the HTML representation or trust the notebook. <br />On GitHub, the HTML representation is unable to render, please try loading this page with nbviewer.org.</b></div><div class=\"sk-container\" hidden><div class=\"sk-item\"><div class=\"sk-estimator sk-toggleable\"><input class=\"sk-toggleable__control sk-hidden--visually\" id=\"sk-estimator-id-4\" type=\"checkbox\" checked><label for=\"sk-estimator-id-4\" class=\"sk-toggleable__label sk-toggleable__label-arrow\">RandomForestRegressor</label><div class=\"sk-toggleable__content\"><pre>RandomForestRegressor(max_depth=20, min_samples_leaf=4, min_samples_split=3,\n",
       "                      random_state=19)</pre></div></div></div></div></div>"
      ],
      "text/plain": [
       "RandomForestRegressor(max_depth=20, min_samples_leaf=4, min_samples_split=3,\n",
       "                      random_state=19)"
      ]
     },
     "execution_count": 48,
     "metadata": {},
     "output_type": "execute_result"
    }
   ],
   "source": [
    "best_RF = grid_search_RF.best_estimator_\n",
    "best_RF.fit(X_train,y_train)"
   ]
  },
  {
   "cell_type": "markdown",
   "id": "72660859",
   "metadata": {
    "papermill": {
     "duration": 0.039944,
     "end_time": "2024-03-17T07:17:08.091581",
     "exception": false,
     "start_time": "2024-03-17T07:17:08.051637",
     "status": "completed"
    },
    "tags": []
   },
   "source": [
    "## Random Forest Performance"
   ]
  },
  {
   "cell_type": "code",
   "execution_count": 49,
   "id": "2aec9deb",
   "metadata": {
    "execution": {
     "iopub.execute_input": "2024-03-17T07:17:08.177169Z",
     "iopub.status.busy": "2024-03-17T07:17:08.176294Z",
     "iopub.status.idle": "2024-03-17T07:17:08.194319Z",
     "shell.execute_reply": "2024-03-17T07:17:08.193098Z"
    },
    "papermill": {
     "duration": 0.06032,
     "end_time": "2024-03-17T07:17:08.197291",
     "exception": false,
     "start_time": "2024-03-17T07:17:08.136971",
     "status": "completed"
    },
    "tags": []
   },
   "outputs": [
    {
     "name": "stdout",
     "output_type": "stream",
     "text": [
      "Mean Squared Error: 1.06\n"
     ]
    }
   ],
   "source": [
    "y_pred = best_RF.predict(X_test)\n",
    "print(\"Mean Squared Error: {:.2f}\".format(MSE(y_test,y_pred)))"
   ]
  },
  {
   "cell_type": "markdown",
   "id": "0aab6260",
   "metadata": {
    "papermill": {
     "duration": 0.037519,
     "end_time": "2024-03-17T07:17:08.277071",
     "exception": false,
     "start_time": "2024-03-17T07:17:08.239552",
     "status": "completed"
    },
    "tags": []
   },
   "source": [
    "# XGBoost"
   ]
  },
  {
   "cell_type": "markdown",
   "id": "51b3c9ce",
   "metadata": {
    "papermill": {
     "duration": 0.042699,
     "end_time": "2024-03-17T07:17:08.357191",
     "exception": false,
     "start_time": "2024-03-17T07:17:08.314492",
     "status": "completed"
    },
    "tags": []
   },
   "source": [
    "We will be using `XGBRegressor` from `xgboost`"
   ]
  },
  {
   "cell_type": "code",
   "execution_count": 50,
   "id": "8b5c1fa7",
   "metadata": {
    "execution": {
     "iopub.execute_input": "2024-03-17T07:17:08.435405Z",
     "iopub.status.busy": "2024-03-17T07:17:08.434129Z",
     "iopub.status.idle": "2024-03-17T07:17:18.039468Z",
     "shell.execute_reply": "2024-03-17T07:17:18.038542Z"
    },
    "papermill": {
     "duration": 9.645743,
     "end_time": "2024-03-17T07:17:18.041766",
     "exception": false,
     "start_time": "2024-03-17T07:17:08.396023",
     "status": "completed"
    },
    "tags": []
   },
   "outputs": [
    {
     "name": "stdout",
     "output_type": "stream",
     "text": [
      "Best Parameters (Random Search):  {'subsample': 0.7, 'reg_lambda': 0.5, 'reg_alpha': 0.5, 'n_estimators': 87, 'max_depth': 29, 'learning_rate': 0.05, 'gamma': 0.2, 'colsample_bytree': 1.0}\n",
      "Best Parameters:  {'max_depth': 27}\n",
      "Best Score (Negative MSE):  -2.5668381228709327\n",
      "CPU times: user 3.01 s, sys: 79.8 ms, total: 3.09 s\n",
      "Wall time: 9.59 s\n"
     ]
    }
   ],
   "source": [
    "%%time\n",
    "from xgboost import XGBRegressor\n",
    "\n",
    "xg = XGBRegressor(random_state = 19)\n",
    "\n",
    "seedxg = np.random.RandomState(11)\n",
    "rand_params_xg = {\n",
    "    'n_estimators': seedxg.randint(50,200,20),\n",
    "    'max_depth': seedxg.randint(5,30,10),\n",
    "    'learning_rate': [0.01, 0.05, 0.1, 0.001],\n",
    "    'subsample': [0.7, 0.8, 0.9, 1.0],\n",
    "    'colsample_bytree': [0.7, 0.8, 0.9, 1.0],\n",
    "    'gamma': [0, 0.1, 0.2],\n",
    "    'reg_alpha': [0, 0.1, 0.5],\n",
    "    'reg_lambda': [0, 0.1, 0.5] \n",
    "}\n",
    "\n",
    "random_search_xg = RandomizedSearchCV(xg, param_distributions = rand_params_xg, n_jobs = -1, scoring = 'neg_mean_squared_error', cv = 5, random_state = 69, n_iter = 15)\n",
    "random_search_xg.fit(X_train, y_train)\n",
    "best_params_xg = random_search_xg.best_params_\n",
    "\n",
    "best_xg = random_search_xg.best_estimator_\n",
    "print(\"Best Parameters (Random Search): \", random_search_xg.best_params_)\n",
    "grid_params_xg = {\n",
    "    'max_depth' : range(best_params_xg['max_depth']-2, best_params_xg['max_depth']+2),\n",
    "}\n",
    "\n",
    "grid_search_xg = GridSearchCV(xg, param_grid = grid_params_xg, n_jobs = -1, cv = 5, scoring = 'neg_mean_squared_error')\n",
    "grid_search_xg.fit(X_train, y_train)\n",
    "\n",
    "print(\"Best Parameters: \", grid_search_xg.best_params_)\n",
    "print(\"Best Score (Negative MSE): \",grid_search_xg.best_score_)"
   ]
  },
  {
   "cell_type": "code",
   "execution_count": 51,
   "id": "0b67df3f",
   "metadata": {
    "execution": {
     "iopub.execute_input": "2024-03-17T07:17:18.122223Z",
     "iopub.status.busy": "2024-03-17T07:17:18.121547Z",
     "iopub.status.idle": "2024-03-17T07:17:18.275252Z",
     "shell.execute_reply": "2024-03-17T07:17:18.273799Z"
    },
    "papermill": {
     "duration": 0.196515,
     "end_time": "2024-03-17T07:17:18.277992",
     "exception": false,
     "start_time": "2024-03-17T07:17:18.081477",
     "status": "completed"
    },
    "tags": []
   },
   "outputs": [
    {
     "data": {
      "text/html": [
       "<style>#sk-container-id-5 {color: black;background-color: white;}#sk-container-id-5 pre{padding: 0;}#sk-container-id-5 div.sk-toggleable {background-color: white;}#sk-container-id-5 label.sk-toggleable__label {cursor: pointer;display: block;width: 100%;margin-bottom: 0;padding: 0.3em;box-sizing: border-box;text-align: center;}#sk-container-id-5 label.sk-toggleable__label-arrow:before {content: \"▸\";float: left;margin-right: 0.25em;color: #696969;}#sk-container-id-5 label.sk-toggleable__label-arrow:hover:before {color: black;}#sk-container-id-5 div.sk-estimator:hover label.sk-toggleable__label-arrow:before {color: black;}#sk-container-id-5 div.sk-toggleable__content {max-height: 0;max-width: 0;overflow: hidden;text-align: left;background-color: #f0f8ff;}#sk-container-id-5 div.sk-toggleable__content pre {margin: 0.2em;color: black;border-radius: 0.25em;background-color: #f0f8ff;}#sk-container-id-5 input.sk-toggleable__control:checked~div.sk-toggleable__content {max-height: 200px;max-width: 100%;overflow: auto;}#sk-container-id-5 input.sk-toggleable__control:checked~label.sk-toggleable__label-arrow:before {content: \"▾\";}#sk-container-id-5 div.sk-estimator input.sk-toggleable__control:checked~label.sk-toggleable__label {background-color: #d4ebff;}#sk-container-id-5 div.sk-label input.sk-toggleable__control:checked~label.sk-toggleable__label {background-color: #d4ebff;}#sk-container-id-5 input.sk-hidden--visually {border: 0;clip: rect(1px 1px 1px 1px);clip: rect(1px, 1px, 1px, 1px);height: 1px;margin: -1px;overflow: hidden;padding: 0;position: absolute;width: 1px;}#sk-container-id-5 div.sk-estimator {font-family: monospace;background-color: #f0f8ff;border: 1px dotted black;border-radius: 0.25em;box-sizing: border-box;margin-bottom: 0.5em;}#sk-container-id-5 div.sk-estimator:hover {background-color: #d4ebff;}#sk-container-id-5 div.sk-parallel-item::after {content: \"\";width: 100%;border-bottom: 1px solid gray;flex-grow: 1;}#sk-container-id-5 div.sk-label:hover label.sk-toggleable__label {background-color: #d4ebff;}#sk-container-id-5 div.sk-serial::before {content: \"\";position: absolute;border-left: 1px solid gray;box-sizing: border-box;top: 0;bottom: 0;left: 50%;z-index: 0;}#sk-container-id-5 div.sk-serial {display: flex;flex-direction: column;align-items: center;background-color: white;padding-right: 0.2em;padding-left: 0.2em;position: relative;}#sk-container-id-5 div.sk-item {position: relative;z-index: 1;}#sk-container-id-5 div.sk-parallel {display: flex;align-items: stretch;justify-content: center;background-color: white;position: relative;}#sk-container-id-5 div.sk-item::before, #sk-container-id-5 div.sk-parallel-item::before {content: \"\";position: absolute;border-left: 1px solid gray;box-sizing: border-box;top: 0;bottom: 0;left: 50%;z-index: -1;}#sk-container-id-5 div.sk-parallel-item {display: flex;flex-direction: column;z-index: 1;position: relative;background-color: white;}#sk-container-id-5 div.sk-parallel-item:first-child::after {align-self: flex-end;width: 50%;}#sk-container-id-5 div.sk-parallel-item:last-child::after {align-self: flex-start;width: 50%;}#sk-container-id-5 div.sk-parallel-item:only-child::after {width: 0;}#sk-container-id-5 div.sk-dashed-wrapped {border: 1px dashed gray;margin: 0 0.4em 0.5em 0.4em;box-sizing: border-box;padding-bottom: 0.4em;background-color: white;}#sk-container-id-5 div.sk-label label {font-family: monospace;font-weight: bold;display: inline-block;line-height: 1.2em;}#sk-container-id-5 div.sk-label-container {text-align: center;}#sk-container-id-5 div.sk-container {/* jupyter's `normalize.less` sets `[hidden] { display: none; }` but bootstrap.min.css set `[hidden] { display: none !important; }` so we also need the `!important` here to be able to override the default hidden behavior on the sphinx rendered scikit-learn.org. See: https://github.com/scikit-learn/scikit-learn/issues/21755 */display: inline-block !important;position: relative;}#sk-container-id-5 div.sk-text-repr-fallback {display: none;}</style><div id=\"sk-container-id-5\" class=\"sk-top-container\"><div class=\"sk-text-repr-fallback\"><pre>XGBRegressor(base_score=None, booster=None, callbacks=None,\n",
       "             colsample_bylevel=None, colsample_bynode=None,\n",
       "             colsample_bytree=None, device=None, early_stopping_rounds=None,\n",
       "             enable_categorical=False, eval_metric=None, feature_types=None,\n",
       "             gamma=None, grow_policy=None, importance_type=None,\n",
       "             interaction_constraints=None, learning_rate=None, max_bin=None,\n",
       "             max_cat_threshold=None, max_cat_to_onehot=None,\n",
       "             max_delta_step=None, max_depth=27, max_leaves=None,\n",
       "             min_child_weight=None, missing=nan, monotone_constraints=None,\n",
       "             multi_strategy=None, n_estimators=None, n_jobs=None,\n",
       "             num_parallel_tree=None, random_state=19, ...)</pre><b>In a Jupyter environment, please rerun this cell to show the HTML representation or trust the notebook. <br />On GitHub, the HTML representation is unable to render, please try loading this page with nbviewer.org.</b></div><div class=\"sk-container\" hidden><div class=\"sk-item\"><div class=\"sk-estimator sk-toggleable\"><input class=\"sk-toggleable__control sk-hidden--visually\" id=\"sk-estimator-id-5\" type=\"checkbox\" checked><label for=\"sk-estimator-id-5\" class=\"sk-toggleable__label sk-toggleable__label-arrow\">XGBRegressor</label><div class=\"sk-toggleable__content\"><pre>XGBRegressor(base_score=None, booster=None, callbacks=None,\n",
       "             colsample_bylevel=None, colsample_bynode=None,\n",
       "             colsample_bytree=None, device=None, early_stopping_rounds=None,\n",
       "             enable_categorical=False, eval_metric=None, feature_types=None,\n",
       "             gamma=None, grow_policy=None, importance_type=None,\n",
       "             interaction_constraints=None, learning_rate=None, max_bin=None,\n",
       "             max_cat_threshold=None, max_cat_to_onehot=None,\n",
       "             max_delta_step=None, max_depth=27, max_leaves=None,\n",
       "             min_child_weight=None, missing=nan, monotone_constraints=None,\n",
       "             multi_strategy=None, n_estimators=None, n_jobs=None,\n",
       "             num_parallel_tree=None, random_state=19, ...)</pre></div></div></div></div></div>"
      ],
      "text/plain": [
       "XGBRegressor(base_score=None, booster=None, callbacks=None,\n",
       "             colsample_bylevel=None, colsample_bynode=None,\n",
       "             colsample_bytree=None, device=None, early_stopping_rounds=None,\n",
       "             enable_categorical=False, eval_metric=None, feature_types=None,\n",
       "             gamma=None, grow_policy=None, importance_type=None,\n",
       "             interaction_constraints=None, learning_rate=None, max_bin=None,\n",
       "             max_cat_threshold=None, max_cat_to_onehot=None,\n",
       "             max_delta_step=None, max_depth=27, max_leaves=None,\n",
       "             min_child_weight=None, missing=nan, monotone_constraints=None,\n",
       "             multi_strategy=None, n_estimators=None, n_jobs=None,\n",
       "             num_parallel_tree=None, random_state=19, ...)"
      ]
     },
     "execution_count": 51,
     "metadata": {},
     "output_type": "execute_result"
    }
   ],
   "source": [
    "best_xg = grid_search_xg.best_estimator_\n",
    "best_xg.fit(X_train,y_train)"
   ]
  },
  {
   "cell_type": "markdown",
   "id": "37e629d7",
   "metadata": {
    "papermill": {
     "duration": 0.038911,
     "end_time": "2024-03-17T07:17:18.355977",
     "exception": false,
     "start_time": "2024-03-17T07:17:18.317066",
     "status": "completed"
    },
    "tags": []
   },
   "source": [
    "## XGBoost Performance"
   ]
  },
  {
   "cell_type": "code",
   "execution_count": 52,
   "id": "0915689e",
   "metadata": {
    "execution": {
     "iopub.execute_input": "2024-03-17T07:17:18.437054Z",
     "iopub.status.busy": "2024-03-17T07:17:18.436356Z",
     "iopub.status.idle": "2024-03-17T07:17:18.457165Z",
     "shell.execute_reply": "2024-03-17T07:17:18.455840Z"
    },
    "papermill": {
     "duration": 0.064207,
     "end_time": "2024-03-17T07:17:18.459756",
     "exception": false,
     "start_time": "2024-03-17T07:17:18.395549",
     "status": "completed"
    },
    "tags": []
   },
   "outputs": [
    {
     "name": "stdout",
     "output_type": "stream",
     "text": [
      "Mean Squared Error: 1.41\n"
     ]
    }
   ],
   "source": [
    "y_pred = best_xg.predict(X_test)\n",
    "print(\"Mean Squared Error: {:.2f}\".format(MSE(y_test,y_pred)))"
   ]
  },
  {
   "cell_type": "markdown",
   "id": "fd75cfa4",
   "metadata": {
    "papermill": {
     "duration": 0.03853,
     "end_time": "2024-03-17T07:17:18.540731",
     "exception": false,
     "start_time": "2024-03-17T07:17:18.502201",
     "status": "completed"
    },
    "tags": []
   },
   "source": [
    "# CatBoost"
   ]
  },
  {
   "cell_type": "markdown",
   "id": "9ca96900",
   "metadata": {
    "papermill": {
     "duration": 0.038931,
     "end_time": "2024-03-17T07:17:18.621682",
     "exception": false,
     "start_time": "2024-03-17T07:17:18.582751",
     "status": "completed"
    },
    "tags": []
   },
   "source": [
    "We will be using `CatBoostRegressor` from `catboost`"
   ]
  },
  {
   "cell_type": "code",
   "execution_count": 53,
   "id": "0eb68665",
   "metadata": {
    "execution": {
     "iopub.execute_input": "2024-03-17T07:17:18.708050Z",
     "iopub.status.busy": "2024-03-17T07:17:18.706671Z",
     "iopub.status.idle": "2024-03-17T07:20:12.569599Z",
     "shell.execute_reply": "2024-03-17T07:20:12.568379Z"
    },
    "papermill": {
     "duration": 173.90821,
     "end_time": "2024-03-17T07:20:12.572425",
     "exception": false,
     "start_time": "2024-03-17T07:17:18.664215",
     "status": "completed"
    },
    "tags": []
   },
   "outputs": [
    {
     "name": "stdout",
     "output_type": "stream",
     "text": [
      "Best Parameters (Random Search):  {'subsample': 0.7, 'random_strength': 1, 'learning_rate': 0.05, 'l2_leaf_reg': 7, 'iterations': 438, 'depth': 4, 'border_count': 128, 'bagging_temperature': 0.5}\n",
      "Best Parameters:  {'depth': 4}\n",
      "Best Score (Negative MSE):  -2.2311416926172063\n",
      "CPU times: user 3.48 s, sys: 830 ms, total: 4.31 s\n",
      "Wall time: 2min 53s\n"
     ]
    }
   ],
   "source": [
    "%%time\n",
    "from catboost import CatBoostRegressor\n",
    "\n",
    "cat = CatBoostRegressor(random_state = 19, verbose = False)\n",
    "\n",
    "seedcat = np.random.RandomState(11)\n",
    "rand_params_cat = {\n",
    "    'iterations': seedcat.randint(100,500,10),\n",
    "    'learning_rate': [0.01, 0.05, 0.1],\n",
    "    'depth': seedcat.randint(3,15,10),\n",
    "    'l2_leaf_reg': [1, 3, 5, 7],\n",
    "    'bagging_temperature': [0.0, 0.5, 1.0],\n",
    "    'random_strength': [1, 3, 5],\n",
    "    'border_count': [32, 64, 128],\n",
    "    'subsample': [0.7, 0.8, 0.9, 1.0]\n",
    "}\n",
    "\n",
    "random_search_cat = RandomizedSearchCV(cat, param_distributions = rand_params_cat, n_jobs = -1, scoring = 'neg_mean_squared_error', cv = 5, random_state = 69, n_iter = 15)\n",
    "random_search_cat.fit(X_train, y_train)\n",
    "best_params_cat = random_search_cat.best_params_\n",
    "\n",
    "best_cat = random_search_cat.best_estimator_\n",
    "print(\"Best Parameters (Random Search): \", random_search_cat.best_params_)\n",
    "grid_params_cat = {\n",
    "    'depth' : range(best_params_cat['depth']-2, best_params_cat['depth']+2),\n",
    "}\n",
    "\n",
    "grid_search_cat = GridSearchCV(cat, param_grid = grid_params_cat, n_jobs = -1, cv = 5, scoring = 'neg_mean_squared_error')\n",
    "grid_search_cat.fit(X_train, y_train)\n",
    "\n",
    "print(\"Best Parameters: \", grid_search_cat.best_params_)\n",
    "print(\"Best Score (Negative MSE): \",grid_search_cat.best_score_)"
   ]
  },
  {
   "cell_type": "code",
   "execution_count": 54,
   "id": "32e3dd42",
   "metadata": {
    "execution": {
     "iopub.execute_input": "2024-03-17T07:20:12.647333Z",
     "iopub.status.busy": "2024-03-17T07:20:12.646949Z",
     "iopub.status.idle": "2024-03-17T07:20:13.231572Z",
     "shell.execute_reply": "2024-03-17T07:20:13.230110Z"
    },
    "papermill": {
     "duration": 0.625393,
     "end_time": "2024-03-17T07:20:13.234071",
     "exception": false,
     "start_time": "2024-03-17T07:20:12.608678",
     "status": "completed"
    },
    "tags": []
   },
   "outputs": [
    {
     "data": {
      "text/plain": [
       "<catboost.core.CatBoostRegressor at 0x7f02793c7430>"
      ]
     },
     "execution_count": 54,
     "metadata": {},
     "output_type": "execute_result"
    }
   ],
   "source": [
    "best_cat = grid_search_cat.best_estimator_\n",
    "best_cat.fit(X_train,y_train)"
   ]
  },
  {
   "cell_type": "markdown",
   "id": "8787d4cd",
   "metadata": {
    "papermill": {
     "duration": 0.036816,
     "end_time": "2024-03-17T07:20:13.307870",
     "exception": false,
     "start_time": "2024-03-17T07:20:13.271054",
     "status": "completed"
    },
    "tags": []
   },
   "source": [
    "### CatBoost Performance"
   ]
  },
  {
   "cell_type": "code",
   "execution_count": 55,
   "id": "6ed8842c",
   "metadata": {
    "execution": {
     "iopub.execute_input": "2024-03-17T07:20:13.383821Z",
     "iopub.status.busy": "2024-03-17T07:20:13.383396Z",
     "iopub.status.idle": "2024-03-17T07:20:13.393348Z",
     "shell.execute_reply": "2024-03-17T07:20:13.392202Z"
    },
    "papermill": {
     "duration": 0.05174,
     "end_time": "2024-03-17T07:20:13.395500",
     "exception": false,
     "start_time": "2024-03-17T07:20:13.343760",
     "status": "completed"
    },
    "tags": []
   },
   "outputs": [
    {
     "name": "stdout",
     "output_type": "stream",
     "text": [
      "Mean Squared Error: 1.11\n"
     ]
    }
   ],
   "source": [
    "y_pred = best_cat.predict(X_test)\n",
    "print(\"Mean Squared Error: {:.2f}\".format(MSE(y_test,y_pred)))"
   ]
  },
  {
   "cell_type": "markdown",
   "id": "ce62eab1",
   "metadata": {
    "papermill": {
     "duration": 0.035646,
     "end_time": "2024-03-17T07:20:13.466619",
     "exception": false,
     "start_time": "2024-03-17T07:20:13.430973",
     "status": "completed"
    },
    "tags": []
   },
   "source": [
    "# LightGBM"
   ]
  },
  {
   "cell_type": "markdown",
   "id": "e8877061",
   "metadata": {
    "papermill": {
     "duration": 0.035096,
     "end_time": "2024-03-17T07:20:13.537079",
     "exception": false,
     "start_time": "2024-03-17T07:20:13.501983",
     "status": "completed"
    },
    "tags": []
   },
   "source": [
    "We will be using `LGBMRegressor` from `lightgbm`"
   ]
  },
  {
   "cell_type": "code",
   "execution_count": 56,
   "id": "03318a1a",
   "metadata": {
    "execution": {
     "iopub.execute_input": "2024-03-17T07:20:13.611439Z",
     "iopub.status.busy": "2024-03-17T07:20:13.611072Z",
     "iopub.status.idle": "2024-03-17T07:20:25.291565Z",
     "shell.execute_reply": "2024-03-17T07:20:25.290790Z"
    },
    "papermill": {
     "duration": 11.721359,
     "end_time": "2024-03-17T07:20:25.293678",
     "exception": false,
     "start_time": "2024-03-17T07:20:13.572319",
     "status": "completed"
    },
    "tags": []
   },
   "outputs": [
    {
     "name": "stdout",
     "output_type": "stream",
     "text": [
      "Best Parameters (Random Search):  {'subsample': 0.7, 'num_leaves': 127, 'n_estimators': 369, 'min_child_samples': 20, 'max_depth': 8, 'learning_rate': 0.01, 'colsample_bytree': 0.8}\n",
      "Best Parameters:  {'max_depth': 8}\n",
      "Best Score (Negative MSE):  -2.446817380046723\n",
      "CPU times: user 1.97 s, sys: 391 ms, total: 2.36 s\n",
      "Wall time: 11.7 s\n"
     ]
    }
   ],
   "source": [
    "%%time\n",
    "\n",
    "import logging\n",
    "logging.getLogger('lightgbm').setLevel(logging.ERROR) #To mute warnings\n",
    "from lightgbm import LGBMRegressor\n",
    "\n",
    "lgbm = LGBMRegressor(random_state = 19, verbose = -1)\n",
    "\n",
    "seedlgbm = np.random.RandomState(11)\n",
    "rand_params_lgbm = {\n",
    "    'n_estimators': seedlgbm.randint(100,500,10),\n",
    "    'learning_rate': [0.01, 0.05, 0.1],\n",
    "    'max_depth': seedlgbm.randint(3,15,10),\n",
    "    'num_leaves': [31, 63, 127],\n",
    "    'min_child_samples': [10, 20, 30],\n",
    "    'subsample': [0.7, 0.8, 0.9, 1.0],\n",
    "    'colsample_bytree': [0.7, 0.8, 0.9, 1.0],\n",
    "}\n",
    "\n",
    "random_search_lgbm = RandomizedSearchCV(lgbm, param_distributions = rand_params_lgbm, n_jobs = -1, scoring = 'neg_mean_squared_error', cv = 5, random_state = 69, n_iter = 15)\n",
    "random_search_lgbm.fit(X_train, y_train)\n",
    "best_params_lgbm = random_search_lgbm.best_params_\n",
    "\n",
    "best_lgbm = random_search_lgbm.best_estimator_\n",
    "print(\"Best Parameters (Random Search): \", random_search_lgbm.best_params_)\n",
    "grid_params_lgbm = {\n",
    "    'max_depth' : range(best_params_lgbm['max_depth']-2, best_params_lgbm['max_depth']+2),\n",
    "}\n",
    "\n",
    "grid_search_lgbm = GridSearchCV(lgbm, param_grid = grid_params_lgbm, n_jobs = -1, cv = 5, scoring = 'neg_mean_squared_error')\n",
    "grid_search_lgbm.fit(X_train, y_train)\n",
    "\n",
    "print(\"Best Parameters: \", grid_search_lgbm.best_params_)\n",
    "print(\"Best Score (Negative MSE): \",grid_search_lgbm.best_score_)"
   ]
  },
  {
   "cell_type": "code",
   "execution_count": 57,
   "id": "0f222458",
   "metadata": {
    "execution": {
     "iopub.execute_input": "2024-03-17T07:20:25.371491Z",
     "iopub.status.busy": "2024-03-17T07:20:25.370609Z",
     "iopub.status.idle": "2024-03-17T07:20:25.416580Z",
     "shell.execute_reply": "2024-03-17T07:20:25.415379Z"
    },
    "papermill": {
     "duration": 0.087612,
     "end_time": "2024-03-17T07:20:25.419270",
     "exception": false,
     "start_time": "2024-03-17T07:20:25.331658",
     "status": "completed"
    },
    "tags": []
   },
   "outputs": [
    {
     "data": {
      "text/html": [
       "<style>#sk-container-id-6 {color: black;background-color: white;}#sk-container-id-6 pre{padding: 0;}#sk-container-id-6 div.sk-toggleable {background-color: white;}#sk-container-id-6 label.sk-toggleable__label {cursor: pointer;display: block;width: 100%;margin-bottom: 0;padding: 0.3em;box-sizing: border-box;text-align: center;}#sk-container-id-6 label.sk-toggleable__label-arrow:before {content: \"▸\";float: left;margin-right: 0.25em;color: #696969;}#sk-container-id-6 label.sk-toggleable__label-arrow:hover:before {color: black;}#sk-container-id-6 div.sk-estimator:hover label.sk-toggleable__label-arrow:before {color: black;}#sk-container-id-6 div.sk-toggleable__content {max-height: 0;max-width: 0;overflow: hidden;text-align: left;background-color: #f0f8ff;}#sk-container-id-6 div.sk-toggleable__content pre {margin: 0.2em;color: black;border-radius: 0.25em;background-color: #f0f8ff;}#sk-container-id-6 input.sk-toggleable__control:checked~div.sk-toggleable__content {max-height: 200px;max-width: 100%;overflow: auto;}#sk-container-id-6 input.sk-toggleable__control:checked~label.sk-toggleable__label-arrow:before {content: \"▾\";}#sk-container-id-6 div.sk-estimator input.sk-toggleable__control:checked~label.sk-toggleable__label {background-color: #d4ebff;}#sk-container-id-6 div.sk-label input.sk-toggleable__control:checked~label.sk-toggleable__label {background-color: #d4ebff;}#sk-container-id-6 input.sk-hidden--visually {border: 0;clip: rect(1px 1px 1px 1px);clip: rect(1px, 1px, 1px, 1px);height: 1px;margin: -1px;overflow: hidden;padding: 0;position: absolute;width: 1px;}#sk-container-id-6 div.sk-estimator {font-family: monospace;background-color: #f0f8ff;border: 1px dotted black;border-radius: 0.25em;box-sizing: border-box;margin-bottom: 0.5em;}#sk-container-id-6 div.sk-estimator:hover {background-color: #d4ebff;}#sk-container-id-6 div.sk-parallel-item::after {content: \"\";width: 100%;border-bottom: 1px solid gray;flex-grow: 1;}#sk-container-id-6 div.sk-label:hover label.sk-toggleable__label {background-color: #d4ebff;}#sk-container-id-6 div.sk-serial::before {content: \"\";position: absolute;border-left: 1px solid gray;box-sizing: border-box;top: 0;bottom: 0;left: 50%;z-index: 0;}#sk-container-id-6 div.sk-serial {display: flex;flex-direction: column;align-items: center;background-color: white;padding-right: 0.2em;padding-left: 0.2em;position: relative;}#sk-container-id-6 div.sk-item {position: relative;z-index: 1;}#sk-container-id-6 div.sk-parallel {display: flex;align-items: stretch;justify-content: center;background-color: white;position: relative;}#sk-container-id-6 div.sk-item::before, #sk-container-id-6 div.sk-parallel-item::before {content: \"\";position: absolute;border-left: 1px solid gray;box-sizing: border-box;top: 0;bottom: 0;left: 50%;z-index: -1;}#sk-container-id-6 div.sk-parallel-item {display: flex;flex-direction: column;z-index: 1;position: relative;background-color: white;}#sk-container-id-6 div.sk-parallel-item:first-child::after {align-self: flex-end;width: 50%;}#sk-container-id-6 div.sk-parallel-item:last-child::after {align-self: flex-start;width: 50%;}#sk-container-id-6 div.sk-parallel-item:only-child::after {width: 0;}#sk-container-id-6 div.sk-dashed-wrapped {border: 1px dashed gray;margin: 0 0.4em 0.5em 0.4em;box-sizing: border-box;padding-bottom: 0.4em;background-color: white;}#sk-container-id-6 div.sk-label label {font-family: monospace;font-weight: bold;display: inline-block;line-height: 1.2em;}#sk-container-id-6 div.sk-label-container {text-align: center;}#sk-container-id-6 div.sk-container {/* jupyter's `normalize.less` sets `[hidden] { display: none; }` but bootstrap.min.css set `[hidden] { display: none !important; }` so we also need the `!important` here to be able to override the default hidden behavior on the sphinx rendered scikit-learn.org. See: https://github.com/scikit-learn/scikit-learn/issues/21755 */display: inline-block !important;position: relative;}#sk-container-id-6 div.sk-text-repr-fallback {display: none;}</style><div id=\"sk-container-id-6\" class=\"sk-top-container\"><div class=\"sk-text-repr-fallback\"><pre>LGBMRegressor(max_depth=8, random_state=19, verbose=-1)</pre><b>In a Jupyter environment, please rerun this cell to show the HTML representation or trust the notebook. <br />On GitHub, the HTML representation is unable to render, please try loading this page with nbviewer.org.</b></div><div class=\"sk-container\" hidden><div class=\"sk-item\"><div class=\"sk-estimator sk-toggleable\"><input class=\"sk-toggleable__control sk-hidden--visually\" id=\"sk-estimator-id-6\" type=\"checkbox\" checked><label for=\"sk-estimator-id-6\" class=\"sk-toggleable__label sk-toggleable__label-arrow\">LGBMRegressor</label><div class=\"sk-toggleable__content\"><pre>LGBMRegressor(max_depth=8, random_state=19, verbose=-1)</pre></div></div></div></div></div>"
      ],
      "text/plain": [
       "LGBMRegressor(max_depth=8, random_state=19, verbose=-1)"
      ]
     },
     "execution_count": 57,
     "metadata": {},
     "output_type": "execute_result"
    }
   ],
   "source": [
    "best_lgbm = grid_search_lgbm.best_estimator_\n",
    "best_lgbm.fit(X_train, y_train)"
   ]
  },
  {
   "cell_type": "markdown",
   "id": "91dd1f0b",
   "metadata": {
    "papermill": {
     "duration": 0.037189,
     "end_time": "2024-03-17T07:20:25.493730",
     "exception": false,
     "start_time": "2024-03-17T07:20:25.456541",
     "status": "completed"
    },
    "tags": []
   },
   "source": [
    "### LightGBM Performance"
   ]
  },
  {
   "cell_type": "code",
   "execution_count": 58,
   "id": "2046e0ec",
   "metadata": {
    "execution": {
     "iopub.execute_input": "2024-03-17T07:20:25.568521Z",
     "iopub.status.busy": "2024-03-17T07:20:25.567811Z",
     "iopub.status.idle": "2024-03-17T07:20:25.577409Z",
     "shell.execute_reply": "2024-03-17T07:20:25.576617Z"
    },
    "papermill": {
     "duration": 0.04913,
     "end_time": "2024-03-17T07:20:25.579427",
     "exception": false,
     "start_time": "2024-03-17T07:20:25.530297",
     "status": "completed"
    },
    "tags": []
   },
   "outputs": [
    {
     "name": "stdout",
     "output_type": "stream",
     "text": [
      "Mean Squared Error: 1.27\n"
     ]
    }
   ],
   "source": [
    "y_pred = best_lgbm.predict(X_test)\n",
    "print(\"Mean Squared Error: {:.2f}\".format(MSE(y_test,y_pred)))"
   ]
  },
  {
   "cell_type": "markdown",
   "id": "6a4f2351",
   "metadata": {
    "papermill": {
     "duration": 0.038584,
     "end_time": "2024-03-17T07:20:25.655662",
     "exception": false,
     "start_time": "2024-03-17T07:20:25.617078",
     "status": "completed"
    },
    "tags": []
   },
   "source": [
    "# <center><b>Final Model: </b>Ensemble of all Models</center>"
   ]
  },
  {
   "cell_type": "code",
   "execution_count": 59,
   "id": "4650ba6c",
   "metadata": {
    "execution": {
     "iopub.execute_input": "2024-03-17T07:20:25.738356Z",
     "iopub.status.busy": "2024-03-17T07:20:25.737674Z",
     "iopub.status.idle": "2024-03-17T07:20:34.500032Z",
     "shell.execute_reply": "2024-03-17T07:20:34.499159Z"
    },
    "papermill": {
     "duration": 8.805879,
     "end_time": "2024-03-17T07:20:34.502348",
     "exception": false,
     "start_time": "2024-03-17T07:20:25.696469",
     "status": "completed"
    },
    "tags": []
   },
   "outputs": [
    {
     "name": "stdout",
     "output_type": "stream",
     "text": [
      "Ensemble Mean Squared Error: 0.93\n",
      "CPU times: user 18.2 s, sys: 12.5 s, total: 30.7 s\n",
      "Wall time: 8.75 s\n"
     ]
    }
   ],
   "source": [
    "%%time\n",
    "from sklearn.ensemble import VotingRegressor\n",
    "mse_values = {\n",
    "    'Decision Trees': MSE(y_test, best_DTree.predict(X_test)),\n",
    "    'kNN': MSE(y_test, best_kNR.predict(X_test)),\n",
    "    'Linear Regression': MSE(y_test, best_lin_reg.predict(X_test_scaled)),\n",
    "    'Ridge': MSE(y_test, best_Ridge.predict(X_test_scaled)),\n",
    "    'Random Forest': MSE(y_test, best_RF.predict(X_test)),\n",
    "    'XGB': MSE(y_test, best_xg.predict(X_test)),\n",
    "    'CatBoost': MSE(y_test, best_cat.predict(X_test)),\n",
    "    'LGBM': MSE(y_test, best_lgbm.predict(X_test))\n",
    "}\n",
    "\n",
    "w = {model: 1/mse for model, mse in mse_values.items()}\n",
    "\n",
    "total_w = sum(w.values())\n",
    "normalized_w = {model: w/total_w for model, w in w.items()}\n",
    "\n",
    "models = [\n",
    "    ('Decision Trees', best_DTree),\n",
    "    ('kNN', best_kNR),\n",
    "    ('Linear Regression', best_lin_reg),\n",
    "    ('Ridge', best_Ridge),\n",
    "    ('Random Forest', best_RF),\n",
    "    ('XGB', best_xg),\n",
    "    ('CatBoost', best_cat),\n",
    "    ('LGBM', best_lgbm)\n",
    "]\n",
    "\n",
    "voting_regressor = VotingRegressor(estimators=models, weights=list(normalized_w.values()))\n",
    "voting_regressor.fit(X_train, y_train)  #FINAL MODEL\n",
    "\n",
    "y_pred_voting = voting_regressor.predict(X_test)\n",
    "print(\"Ensemble Mean Squared Error: {:.2f}\".format(MSE(y_test, y_pred_voting)))"
   ]
  },
  {
   "cell_type": "markdown",
   "id": "81c73006",
   "metadata": {
    "papermill": {
     "duration": 0.038875,
     "end_time": "2024-03-17T07:20:34.578991",
     "exception": false,
     "start_time": "2024-03-17T07:20:34.540116",
     "status": "completed"
    },
    "tags": []
   },
   "source": [
    "# <center>Feature Importance</center>"
   ]
  },
  {
   "cell_type": "code",
   "execution_count": 60,
   "id": "6b89a84c",
   "metadata": {
    "execution": {
     "iopub.execute_input": "2024-03-17T07:20:34.660750Z",
     "iopub.status.busy": "2024-03-17T07:20:34.660019Z",
     "iopub.status.idle": "2024-03-17T07:20:34.678275Z",
     "shell.execute_reply": "2024-03-17T07:20:34.677108Z"
    },
    "papermill": {
     "duration": 0.060341,
     "end_time": "2024-03-17T07:20:34.680877",
     "exception": false,
     "start_time": "2024-03-17T07:20:34.620536",
     "status": "completed"
    },
    "tags": []
   },
   "outputs": [
    {
     "name": "stdout",
     "output_type": "stream",
     "text": [
      "Model kNN does not have feature importance attribute.\n",
      "Model Linear Regression does not have feature importance attribute.\n",
      "Model Ridge does not have feature importance attribute.\n"
     ]
    }
   ],
   "source": [
    "feat_imp = []\n",
    "\n",
    "for name, model in voting_regressor.named_estimators_.items():\n",
    "    if hasattr(model, 'feature_importances_'):\n",
    "        feat_imp.append((name, model.feature_importances_))\n",
    "    else:\n",
    "        print(f\"Model {name} does not have feature importance attribute.\")\n",
    "\n",
    "weighted_feat_imp = np.zeros(X_train.shape[1])\n",
    "\n",
    "for name, imp in feat_imp:\n",
    "    weighted_feat_imp += imp * w[name]\n",
    "\n",
    "normalized_feat_imp = weighted_feat_imp / sum(w.values())"
   ]
  },
  {
   "cell_type": "code",
   "execution_count": 61,
   "id": "870918f6",
   "metadata": {
    "execution": {
     "iopub.execute_input": "2024-03-17T07:20:34.758933Z",
     "iopub.status.busy": "2024-03-17T07:20:34.758298Z",
     "iopub.status.idle": "2024-03-17T07:20:34.779689Z",
     "shell.execute_reply": "2024-03-17T07:20:34.778793Z"
    },
    "papermill": {
     "duration": 0.062094,
     "end_time": "2024-03-17T07:20:34.781799",
     "exception": false,
     "start_time": "2024-03-17T07:20:34.719705",
     "status": "completed"
    },
    "tags": []
   },
   "outputs": [
    {
     "data": {
      "text/html": [
       "<div>\n",
       "<style scoped>\n",
       "    .dataframe tbody tr th:only-of-type {\n",
       "        vertical-align: middle;\n",
       "    }\n",
       "\n",
       "    .dataframe tbody tr th {\n",
       "        vertical-align: top;\n",
       "    }\n",
       "\n",
       "    .dataframe thead th {\n",
       "        text-align: right;\n",
       "    }\n",
       "</style>\n",
       "<table border=\"1\" class=\"dataframe\">\n",
       "  <thead>\n",
       "    <tr style=\"text-align: right;\">\n",
       "      <th></th>\n",
       "      <th>Decision Trees</th>\n",
       "      <th>Random Forest</th>\n",
       "      <th>XGB</th>\n",
       "      <th>CatBoost</th>\n",
       "      <th>LGBM</th>\n",
       "      <th>Overall</th>\n",
       "    </tr>\n",
       "    <tr>\n",
       "      <th>Feature</th>\n",
       "      <th></th>\n",
       "      <th></th>\n",
       "      <th></th>\n",
       "      <th></th>\n",
       "      <th></th>\n",
       "      <th></th>\n",
       "    </tr>\n",
       "  </thead>\n",
       "  <tbody>\n",
       "    <tr>\n",
       "      <th>G2</th>\n",
       "      <td>0.884339</td>\n",
       "      <td>0.882083</td>\n",
       "      <td>0.725398</td>\n",
       "      <td>57.979724</td>\n",
       "      <td>200</td>\n",
       "      <td>33.146221</td>\n",
       "    </tr>\n",
       "    <tr>\n",
       "      <th>G1</th>\n",
       "      <td>0.006476</td>\n",
       "      <td>0.008703</td>\n",
       "      <td>0.005896</td>\n",
       "      <td>15.626329</td>\n",
       "      <td>130</td>\n",
       "      <td>18.243239</td>\n",
       "    </tr>\n",
       "    <tr>\n",
       "      <th>absences</th>\n",
       "      <td>0.055300</td>\n",
       "      <td>0.035485</td>\n",
       "      <td>0.064349</td>\n",
       "      <td>3.917141</td>\n",
       "      <td>128</td>\n",
       "      <td>16.362028</td>\n",
       "    </tr>\n",
       "    <tr>\n",
       "      <th>age</th>\n",
       "      <td>0.025518</td>\n",
       "      <td>0.006876</td>\n",
       "      <td>0.004461</td>\n",
       "      <td>1.685590</td>\n",
       "      <td>85</td>\n",
       "      <td>10.728536</td>\n",
       "    </tr>\n",
       "    <tr>\n",
       "      <th>goout</th>\n",
       "      <td>0.007250</td>\n",
       "      <td>0.006460</td>\n",
       "      <td>0.009529</td>\n",
       "      <td>2.032958</td>\n",
       "      <td>68</td>\n",
       "      <td>8.678727</td>\n",
       "    </tr>\n",
       "  </tbody>\n",
       "</table>\n",
       "</div>"
      ],
      "text/plain": [
       "          Decision Trees  Random Forest       XGB   CatBoost  LGBM    Overall\n",
       "Feature                                                                      \n",
       "G2              0.884339       0.882083  0.725398  57.979724   200  33.146221\n",
       "G1              0.006476       0.008703  0.005896  15.626329   130  18.243239\n",
       "absences        0.055300       0.035485  0.064349   3.917141   128  16.362028\n",
       "age             0.025518       0.006876  0.004461   1.685590    85  10.728536\n",
       "goout           0.007250       0.006460  0.009529   2.032958    68   8.678727"
      ]
     },
     "execution_count": 61,
     "metadata": {},
     "output_type": "execute_result"
    }
   ],
   "source": [
    "feat_imp_df = pd.DataFrame(columns=[\"Feature\"] + [name for name, _ in feat_imp])\n",
    "\n",
    "feat_imp_df[\"Feature\"] = X_train.columns\n",
    "feat_imp_df = feat_imp_df.set_index(\"Feature\")\n",
    "\n",
    "for name, imp in feat_imp:\n",
    "    feat_imp_df[name] = imp\n",
    "\n",
    "feat_imp_df[\"Overall\"] = normalized_feat_imp\n",
    "feat_imp_df = feat_imp_df.sort_values(by=['Overall'], ascending = False)\n",
    "feat_imp_df.head()"
   ]
  },
  {
   "cell_type": "code",
   "execution_count": 62,
   "id": "92544e7c",
   "metadata": {
    "execution": {
     "iopub.execute_input": "2024-03-17T07:20:34.862285Z",
     "iopub.status.busy": "2024-03-17T07:20:34.861696Z",
     "iopub.status.idle": "2024-03-17T07:20:35.493514Z",
     "shell.execute_reply": "2024-03-17T07:20:35.491815Z"
    },
    "papermill": {
     "duration": 0.675858,
     "end_time": "2024-03-17T07:20:35.496701",
     "exception": false,
     "start_time": "2024-03-17T07:20:34.820843",
     "status": "completed"
    },
    "tags": []
   },
   "outputs": [
    {
     "data": {
      "image/png": "[encoded data removed]",
      "text/plain": [
       "<Figure size 1000x600 with 1 Axes>"
      ]
     },
     "metadata": {},
     "output_type": "display_data"
    }
   ],
   "source": [
    "plt.figure(figsize=(10, 6))\n",
    "plt.bar(feat_imp_df.index, feat_imp_df['Overall'])\n",
    "plt.xlabel('Feature')\n",
    "plt.ylabel('Importance')\n",
    "plt.title('Feature Importance')\n",
    "plt.xticks(rotation=45, ha='right')\n",
    "plt.tight_layout()\n",
    "plt.show()"
   ]
  },
  {
   "cell_type": "markdown",
   "id": "acbd8483",
   "metadata": {
    "papermill": {
     "duration": 0.039799,
     "end_time": "2024-03-17T07:20:35.575802",
     "exception": false,
     "start_time": "2024-03-17T07:20:35.536003",
     "status": "completed"
    },
    "tags": []
   },
   "source": [
    "## Joining the predicted column to the test dataset:"
   ]
  },
  {
   "cell_type": "code",
   "execution_count": 63,
   "id": "5babf568",
   "metadata": {
    "execution": {
     "iopub.execute_input": "2024-03-17T07:20:35.659398Z",
     "iopub.status.busy": "2024-03-17T07:20:35.658996Z",
     "iopub.status.idle": "2024-03-17T07:20:35.700428Z",
     "shell.execute_reply": "2024-03-17T07:20:35.699013Z"
    },
    "papermill": {
     "duration": 0.087642,
     "end_time": "2024-03-17T07:20:35.702816",
     "exception": false,
     "start_time": "2024-03-17T07:20:35.615174",
     "status": "completed"
    },
    "tags": []
   },
   "outputs": [
    {
     "data": {
      "text/html": [
       "<div>\n",
       "<style scoped>\n",
       "    .dataframe tbody tr th:only-of-type {\n",
       "        vertical-align: middle;\n",
       "    }\n",
       "\n",
       "    .dataframe tbody tr th {\n",
       "        vertical-align: top;\n",
       "    }\n",
       "\n",
       "    .dataframe thead th {\n",
       "        text-align: right;\n",
       "    }\n",
       "</style>\n",
       "<table border=\"1\" class=\"dataframe\">\n",
       "  <thead>\n",
       "    <tr style=\"text-align: right;\">\n",
       "      <th></th>\n",
       "      <th>school</th>\n",
       "      <th>sex</th>\n",
       "      <th>age</th>\n",
       "      <th>address</th>\n",
       "      <th>famsize</th>\n",
       "      <th>Pstatus</th>\n",
       "      <th>Medu</th>\n",
       "      <th>Fedu</th>\n",
       "      <th>Mjob</th>\n",
       "      <th>Fjob</th>\n",
       "      <th>...</th>\n",
       "      <th>goout</th>\n",
       "      <th>Dalc</th>\n",
       "      <th>Walc</th>\n",
       "      <th>health</th>\n",
       "      <th>absences</th>\n",
       "      <th>G1</th>\n",
       "      <th>G2</th>\n",
       "      <th>G3</th>\n",
       "      <th>predicted_G3</th>\n",
       "      <th>squared_error</th>\n",
       "    </tr>\n",
       "  </thead>\n",
       "  <tbody>\n",
       "    <tr>\n",
       "      <th>0</th>\n",
       "      <td>GP</td>\n",
       "      <td>F</td>\n",
       "      <td>16</td>\n",
       "      <td>U</td>\n",
       "      <td>GT3</td>\n",
       "      <td>T</td>\n",
       "      <td>4</td>\n",
       "      <td>3</td>\n",
       "      <td>other</td>\n",
       "      <td>at_home</td>\n",
       "      <td>...</td>\n",
       "      <td>5</td>\n",
       "      <td>1</td>\n",
       "      <td>1</td>\n",
       "      <td>3</td>\n",
       "      <td>2</td>\n",
       "      <td>12</td>\n",
       "      <td>13</td>\n",
       "      <td>13</td>\n",
       "      <td>12.928075</td>\n",
       "      <td>0.005173</td>\n",
       "    </tr>\n",
       "    <tr>\n",
       "      <th>1</th>\n",
       "      <td>MS</td>\n",
       "      <td>M</td>\n",
       "      <td>16</td>\n",
       "      <td>U</td>\n",
       "      <td>GT3</td>\n",
       "      <td>A</td>\n",
       "      <td>1</td>\n",
       "      <td>2</td>\n",
       "      <td>other</td>\n",
       "      <td>other</td>\n",
       "      <td>...</td>\n",
       "      <td>3</td>\n",
       "      <td>1</td>\n",
       "      <td>1</td>\n",
       "      <td>5</td>\n",
       "      <td>0</td>\n",
       "      <td>10</td>\n",
       "      <td>11</td>\n",
       "      <td>11</td>\n",
       "      <td>10.899368</td>\n",
       "      <td>0.010127</td>\n",
       "    </tr>\n",
       "    <tr>\n",
       "      <th>2</th>\n",
       "      <td>GP</td>\n",
       "      <td>F</td>\n",
       "      <td>16</td>\n",
       "      <td>U</td>\n",
       "      <td>GT3</td>\n",
       "      <td>T</td>\n",
       "      <td>4</td>\n",
       "      <td>4</td>\n",
       "      <td>other</td>\n",
       "      <td>other</td>\n",
       "      <td>...</td>\n",
       "      <td>4</td>\n",
       "      <td>1</td>\n",
       "      <td>2</td>\n",
       "      <td>1</td>\n",
       "      <td>4</td>\n",
       "      <td>12</td>\n",
       "      <td>13</td>\n",
       "      <td>13</td>\n",
       "      <td>13.301216</td>\n",
       "      <td>0.090731</td>\n",
       "    </tr>\n",
       "    <tr>\n",
       "      <th>3</th>\n",
       "      <td>GP</td>\n",
       "      <td>F</td>\n",
       "      <td>17</td>\n",
       "      <td>U</td>\n",
       "      <td>GT3</td>\n",
       "      <td>T</td>\n",
       "      <td>2</td>\n",
       "      <td>2</td>\n",
       "      <td>at_home</td>\n",
       "      <td>at_home</td>\n",
       "      <td>...</td>\n",
       "      <td>3</td>\n",
       "      <td>1</td>\n",
       "      <td>1</td>\n",
       "      <td>4</td>\n",
       "      <td>0</td>\n",
       "      <td>12</td>\n",
       "      <td>12</td>\n",
       "      <td>13</td>\n",
       "      <td>12.960459</td>\n",
       "      <td>0.001564</td>\n",
       "    </tr>\n",
       "    <tr>\n",
       "      <th>4</th>\n",
       "      <td>GP</td>\n",
       "      <td>M</td>\n",
       "      <td>16</td>\n",
       "      <td>R</td>\n",
       "      <td>GT3</td>\n",
       "      <td>A</td>\n",
       "      <td>4</td>\n",
       "      <td>4</td>\n",
       "      <td>other</td>\n",
       "      <td>teacher</td>\n",
       "      <td>...</td>\n",
       "      <td>3</td>\n",
       "      <td>1</td>\n",
       "      <td>1</td>\n",
       "      <td>5</td>\n",
       "      <td>4</td>\n",
       "      <td>13</td>\n",
       "      <td>13</td>\n",
       "      <td>13</td>\n",
       "      <td>13.120886</td>\n",
       "      <td>0.014613</td>\n",
       "    </tr>\n",
       "    <tr>\n",
       "      <th>...</th>\n",
       "      <td>...</td>\n",
       "      <td>...</td>\n",
       "      <td>...</td>\n",
       "      <td>...</td>\n",
       "      <td>...</td>\n",
       "      <td>...</td>\n",
       "      <td>...</td>\n",
       "      <td>...</td>\n",
       "      <td>...</td>\n",
       "      <td>...</td>\n",
       "      <td>...</td>\n",
       "      <td>...</td>\n",
       "      <td>...</td>\n",
       "      <td>...</td>\n",
       "      <td>...</td>\n",
       "      <td>...</td>\n",
       "      <td>...</td>\n",
       "      <td>...</td>\n",
       "      <td>...</td>\n",
       "      <td>...</td>\n",
       "      <td>...</td>\n",
       "    </tr>\n",
       "    <tr>\n",
       "      <th>190</th>\n",
       "      <td>MS</td>\n",
       "      <td>M</td>\n",
       "      <td>17</td>\n",
       "      <td>R</td>\n",
       "      <td>LE3</td>\n",
       "      <td>T</td>\n",
       "      <td>1</td>\n",
       "      <td>3</td>\n",
       "      <td>other</td>\n",
       "      <td>other</td>\n",
       "      <td>...</td>\n",
       "      <td>2</td>\n",
       "      <td>3</td>\n",
       "      <td>3</td>\n",
       "      <td>5</td>\n",
       "      <td>2</td>\n",
       "      <td>12</td>\n",
       "      <td>11</td>\n",
       "      <td>12</td>\n",
       "      <td>11.690833</td>\n",
       "      <td>0.095584</td>\n",
       "    </tr>\n",
       "    <tr>\n",
       "      <th>191</th>\n",
       "      <td>GP</td>\n",
       "      <td>F</td>\n",
       "      <td>16</td>\n",
       "      <td>U</td>\n",
       "      <td>GT3</td>\n",
       "      <td>A</td>\n",
       "      <td>4</td>\n",
       "      <td>1</td>\n",
       "      <td>other</td>\n",
       "      <td>other</td>\n",
       "      <td>...</td>\n",
       "      <td>3</td>\n",
       "      <td>1</td>\n",
       "      <td>2</td>\n",
       "      <td>5</td>\n",
       "      <td>0</td>\n",
       "      <td>14</td>\n",
       "      <td>13</td>\n",
       "      <td>13</td>\n",
       "      <td>13.495883</td>\n",
       "      <td>0.245900</td>\n",
       "    </tr>\n",
       "    <tr>\n",
       "      <th>192</th>\n",
       "      <td>GP</td>\n",
       "      <td>M</td>\n",
       "      <td>15</td>\n",
       "      <td>U</td>\n",
       "      <td>LE3</td>\n",
       "      <td>T</td>\n",
       "      <td>4</td>\n",
       "      <td>2</td>\n",
       "      <td>teacher</td>\n",
       "      <td>other</td>\n",
       "      <td>...</td>\n",
       "      <td>2</td>\n",
       "      <td>1</td>\n",
       "      <td>1</td>\n",
       "      <td>3</td>\n",
       "      <td>10</td>\n",
       "      <td>18</td>\n",
       "      <td>17</td>\n",
       "      <td>18</td>\n",
       "      <td>17.316727</td>\n",
       "      <td>0.466863</td>\n",
       "    </tr>\n",
       "    <tr>\n",
       "      <th>193</th>\n",
       "      <td>GP</td>\n",
       "      <td>F</td>\n",
       "      <td>18</td>\n",
       "      <td>U</td>\n",
       "      <td>GT3</td>\n",
       "      <td>T</td>\n",
       "      <td>3</td>\n",
       "      <td>4</td>\n",
       "      <td>other</td>\n",
       "      <td>other</td>\n",
       "      <td>...</td>\n",
       "      <td>4</td>\n",
       "      <td>1</td>\n",
       "      <td>1</td>\n",
       "      <td>1</td>\n",
       "      <td>4</td>\n",
       "      <td>11</td>\n",
       "      <td>12</td>\n",
       "      <td>14</td>\n",
       "      <td>12.996070</td>\n",
       "      <td>1.007876</td>\n",
       "    </tr>\n",
       "    <tr>\n",
       "      <th>194</th>\n",
       "      <td>GP</td>\n",
       "      <td>F</td>\n",
       "      <td>17</td>\n",
       "      <td>U</td>\n",
       "      <td>GT3</td>\n",
       "      <td>T</td>\n",
       "      <td>2</td>\n",
       "      <td>4</td>\n",
       "      <td>services</td>\n",
       "      <td>services</td>\n",
       "      <td>...</td>\n",
       "      <td>2</td>\n",
       "      <td>2</td>\n",
       "      <td>3</td>\n",
       "      <td>5</td>\n",
       "      <td>0</td>\n",
       "      <td>17</td>\n",
       "      <td>18</td>\n",
       "      <td>17</td>\n",
       "      <td>17.659128</td>\n",
       "      <td>0.434449</td>\n",
       "    </tr>\n",
       "  </tbody>\n",
       "</table>\n",
       "<p>195 rows × 35 columns</p>\n",
       "</div>"
      ],
      "text/plain": [
       "    school sex age address famsize Pstatus Medu Fedu      Mjob      Fjob  ...  \\\n",
       "0       GP   F  16       U     GT3       T    4    3     other   at_home  ...   \n",
       "1       MS   M  16       U     GT3       A    1    2     other     other  ...   \n",
       "2       GP   F  16       U     GT3       T    4    4     other     other  ...   \n",
       "3       GP   F  17       U     GT3       T    2    2   at_home   at_home  ...   \n",
       "4       GP   M  16       R     GT3       A    4    4     other   teacher  ...   \n",
       "..     ...  ..  ..     ...     ...     ...  ...  ...       ...       ...  ...   \n",
       "190     MS   M  17       R     LE3       T    1    3     other     other  ...   \n",
       "191     GP   F  16       U     GT3       A    4    1     other     other  ...   \n",
       "192     GP   M  15       U     LE3       T    4    2   teacher     other  ...   \n",
       "193     GP   F  18       U     GT3       T    3    4     other     other  ...   \n",
       "194     GP   F  17       U     GT3       T    2    4  services  services  ...   \n",
       "\n",
       "    goout Dalc Walc health absences  G1  G2  G3 predicted_G3 squared_error  \n",
       "0       5    1    1      3        2  12  13  13    12.928075      0.005173  \n",
       "1       3    1    1      5        0  10  11  11    10.899368      0.010127  \n",
       "2       4    1    2      1        4  12  13  13    13.301216      0.090731  \n",
       "3       3    1    1      4        0  12  12  13    12.960459      0.001564  \n",
       "4       3    1    1      5        4  13  13  13    13.120886      0.014613  \n",
       "..    ...  ...  ...    ...      ...  ..  ..  ..          ...           ...  \n",
       "190     2    3    3      5        2  12  11  12    11.690833      0.095584  \n",
       "191     3    1    2      5        0  14  13  13    13.495883      0.245900  \n",
       "192     2    1    1      3       10  18  17  18    17.316727      0.466863  \n",
       "193     4    1    1      1        4  11  12  14    12.996070      1.007876  \n",
       "194     2    2    3      5        0  17  18  17    17.659128      0.434449  \n",
       "\n",
       "[195 rows x 35 columns]"
      ]
     },
     "execution_count": 63,
     "metadata": {},
     "output_type": "execute_result"
    }
   ],
   "source": [
    "test_df = pd.concat([df_por.iloc[X_test.index, :].reset_index(), pd.DataFrame(y_pred_voting)], axis = 1).drop(columns=['index']).rename(columns={0:'predicted_G3'})\n",
    "test_df['squared_error'] = (test_df['G3'] - test_df['predicted_G3'])**2\n",
    "test_df #this can be converted and stored in csv if needed"
   ]
  },
  {
   "cell_type": "code",
   "execution_count": null,
   "id": "37846fba",
   "metadata": {
    "papermill": {
     "duration": 0.038462,
     "end_time": "2024-03-17T07:20:35.779277",
     "exception": false,
     "start_time": "2024-03-17T07:20:35.740815",
     "status": "completed"
    },
    "tags": []
   },
   "outputs": [],
   "source": []
  }
 ],
 "metadata": {
  "kaggle": {
   "accelerator": "none",
   "dataSources": [
    {
     "datasetId": 4578755,
     "sourceId": 7815895,
     "sourceType": "datasetVersion"
    }
   ],
   "dockerImageVersionId": 30664,
   "isGpuEnabled": false,
   "isInternetEnabled": true,
   "language": "python",
   "sourceType": "notebook"
  },
  "kernelspec": {
   "display_name": "Python 3",
   "language": "python",
   "name": "python3"
  },
  "language_info": {
   "codemirror_mode": {
    "name": "ipython",
    "version": 3
   },
   "file_extension": ".py",
   "mimetype": "text/x-python",
   "name": "python",
   "nbconvert_exporter": "python",
   "pygments_lexer": "ipython3",
   "version": "3.10.13"
  },
  "papermill": {
   "default_parameters": {},
   "duration": 315.654107,
   "end_time": "2024-03-17T07:20:38.443114",
   "environment_variables": {},
   "exception": null,
   "input_path": "__notebook__.ipynb",
   "output_path": "__notebook__.ipynb",
   "parameters": {},
   "start_time": "2024-03-17T07:15:22.789007",
   "version": "2.5.0"
  }
 },
 "nbformat": 4,
 "nbformat_minor": 5
}
